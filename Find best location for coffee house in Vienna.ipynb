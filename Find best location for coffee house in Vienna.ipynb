{
 "cells": [
  {
   "cell_type": "markdown",
   "metadata": {},
   "source": [
    "# Finding the Best Place for a Coffee House in Vienna, Austria"
   ]
  },
  {
   "cell_type": "markdown",
   "metadata": {},
   "source": [
    "## IBM Data Science Capstone Project via Coursera by John Oxales"
   ]
  },
  {
   "cell_type": "markdown",
   "metadata": {},
   "source": [
    "### 1. Introduction\n",
    "#### 1.1 Background\n",
    "Vienna’s very first coffee house opened in 1683. Even if Vienna was not the pioneer in coffee house culture, it has - over the centuries - established a coffee house tradition like no other city in the world. Coffee and coffee houses are at their best in Vienna!<br>\n",
    "#### 1.2 Problem\n",
    "Since so many coffee houses can be already found in any district in Vienna it would be good to know if there is a strong correlation between the presence of coffee houses in the vicinity of sightseeing places or any other venues like offices or shopping malls. It can be assumed that those places are highly frequented. This is a relevant key-indicator to be considered in order to have a profitable business. Furthermore the question for a reasonable rent comes up in order to find the ideal spot for the coffee house. So two main criterias need to be met: \n",
    "area of interest (representing high frequency of passers-by) \n",
    "low rental fee <br> \n",
    "#### 1.3 Interest\n",
    "These questions could be of high interest for any new investor or entrepreneur who wants to open one or maybe even more coffee houses in Austria’s capital. This project can also be part of business analytics for larger companies who consider expanding their business. <br>\n",
    "### 2. Data acquisition and cleaning\n",
    "#### 2.1 Data sources\n",
    "For this project the following data is going to be used to gain insight and answer the questions:\n",
    "<br>\n",
    "##### Datasource:\n",
    "Foursquare API: \"https://developer.foursquare.com/\"\n",
    "##### Purpose: \n",
    "Get Top 10 common venues in each neighborhood (coffee houses, sightseeing spots, malls etc.)\n",
    "##### Datasource: \n",
    "Vienna rent statistics: “https://www.immopreise.at/Wien/Wohnung/Miete”\n",
    "##### Purpose: \n",
    "For practice purposes this data is only going to represent a rough overview of mean rent in each district from this year. This should be sufficient in the beginning. \n",
    "Since a proper dataset for the rent prices doesn't exist, it must be scraped from 'Immopreise'.\n"
   ]
  },
  {
   "cell_type": "markdown",
   "metadata": {},
   "source": [
    "#### 2.2 Webscraping Immopreise"
   ]
  },
  {
   "cell_type": "markdown",
   "metadata": {},
   "source": [
    "##### Importing libraries"
   ]
  },
  {
   "cell_type": "code",
   "execution_count": 2,
   "metadata": {
    "collapsed": true
   },
   "outputs": [
    {
     "name": "stdout",
     "output_type": "stream",
     "text": [
      "Requirement already satisfied: selenium in c:\\users\\oxale\\anaconda3\\lib\\site-packages (3.141.0)\n",
      "Requirement already satisfied: urllib3 in c:\\users\\oxale\\anaconda3\\lib\\site-packages (from selenium) (1.25.11)\n"
     ]
    }
   ],
   "source": [
    "!pip install selenium"
   ]
  },
  {
   "cell_type": "code",
   "execution_count": 3,
   "metadata": {},
   "outputs": [],
   "source": [
    "import pandas as pd\n",
    "from selenium import webdriver"
   ]
  },
  {
   "cell_type": "code",
   "execution_count": 5,
   "metadata": {
    "collapsed": true
   },
   "outputs": [
    {
     "name": "stdout",
     "output_type": "stream",
     "text": [
      "                        Bezirk    ≤50m²  51-80m² 81-129m²   >130m²     Ø/m²  \\\n",
      "0            1., Innere Stadtc  € 22,97  € 20,32  € 18,84  € 19,68  € 20,00   \n",
      "1            2., Leopoldstadtc  € 17,55  € 15,01  € 14,77  € 13,36  € 15,35   \n",
      "2              3., Landstraßec  € 18,94  € 16,65  € 15,44  € 17,70  € 17,71   \n",
      "3                  4., Wiedenc  € 18,37  € 15,11  € 16,70  € 16,41  € 16,22   \n",
      "4              5., Margaretenc  € 17,07  € 14,15  € 13,52  € 16,60  € 15,40   \n",
      "5               6., Mariahilfc  € 18,42  € 16,04  € 16,79  € 15,86  € 17,00   \n",
      "6                  7., Neubauc  € 16,77  € 15,81  € 15,13  € 15,94  € 15,95   \n",
      "7              8., Josefstadtc  € 18,00  € 15,11  € 13,65  € 14,74  € 15,38   \n",
      "8              9., Alsergrundc  € 18,66  € 15,07  € 15,98  € 17,39  € 16,52   \n",
      "9              10., Favoritenc  € 16,15  € 14,75  € 13,95  € 11,90  € 15,00   \n",
      "10             11., Simmeringc  € 16,88  € 14,66  € 11,27     k.A.  € 16,15   \n",
      "11              12., Meidlingc  € 17,23  € 15,10  € 13,80  € 11,77  € 16,49   \n",
      "12              13., Hietzingc  € 16,28  € 14,87  € 14,72  € 15,53  € 15,19   \n",
      "13               14., Penzingc  € 18,54  € 14,67  € 14,02  € 12,09  € 15,04   \n",
      "14  15., Rudolfsheim-Fünfhausc  € 16,81  € 14,10  € 12,28  € 12,49  € 15,07   \n",
      "15             16., Ottakringc  € 17,16  € 13,46  € 13,27  € 15,14  € 14,83   \n",
      "16               17., Hernalsc  € 14,67  € 14,18  € 14,34  € 15,21  € 14,38   \n",
      "17               18., Währingc  € 15,75  € 14,48  € 16,40  € 17,22  € 15,46   \n",
      "18               19., Döblingc  € 16,06  € 15,34  € 15,76  € 19,50  € 16,15   \n",
      "19           20., Brigittenauc  € 16,09  € 13,93  € 11,26  € 11,93  € 13,79   \n",
      "20           21., Floridsdorfc  € 16,68  € 14,99  € 13,89  € 11,34  € 15,55   \n",
      "21            22., Donaustadtc  € 17,27  € 15,60  € 15,99  € 16,36  € 16,53   \n",
      "22               23., Liesingc  € 16,48  € 15,15  € 15,83  € 12,59  € 15,37   \n",
      "\n",
      "    Td.  \n",
      "0   NaN  \n",
      "1   NaN  \n",
      "2   NaN  \n",
      "3   NaN  \n",
      "4   NaN  \n",
      "5   NaN  \n",
      "6   NaN  \n",
      "7   NaN  \n",
      "8   NaN  \n",
      "9   NaN  \n",
      "10  NaN  \n",
      "11  NaN  \n",
      "12  NaN  \n",
      "13  NaN  \n",
      "14  NaN  \n",
      "15  NaN  \n",
      "16  NaN  \n",
      "17  NaN  \n",
      "18  NaN  \n",
      "19  NaN  \n",
      "20  NaN  \n",
      "21  NaN  \n",
      "22  NaN  \n"
     ]
    }
   ],
   "source": [
    "# scraping Immopreise\n",
    "'''since the table is dynamically generated on this site, a workaround with selenium is necessary'''\n",
    "\n",
    "options = webdriver.ChromeOptions()\n",
    "options.add_argument('--headless')\n",
    "options.add_argument('--no-sandbox')\n",
    "options.add_argument('--disable-dev-shm-usage')\n",
    "\n",
    "site = 'https://www.immopreise.at/wien/wohnung/miete' # website has to be open in chrome browser otherwise an error arises\n",
    "\n",
    "'''IMPORTANT NOTE: In order to run this code chromedriver.exe needs to be downloaded from here:\n",
    "https://sites.google.com/chromium.org/driver/capabilities --> follow instructions from documentation!!!'''\n",
    "\n",
    "wd = webdriver.Chrome(executable_path=\"C:\\\\Program Files (x86)\\\\Google\\\\Chrome\\\\Application\\\\chromedriver.exe\", options=options)\n",
    "wd.get(site)\n",
    "\n",
    "html = wd.page_source\n",
    "\n",
    "df = pd.read_html(html)\n",
    "immo = df[0]\n",
    "print(immo)"
   ]
  },
  {
   "cell_type": "markdown",
   "metadata": {},
   "source": [
    "#### 2.3 Datacleaning scraped data"
   ]
  },
  {
   "cell_type": "code",
   "execution_count": 6,
   "metadata": {
    "collapsed": true
   },
   "outputs": [
    {
     "name": "stdout",
     "output_type": "stream",
     "text": [
      "                        Bezirk    ≤50m²  51-80m² 81-129m²   >130m²     Ø/m²\n",
      "0            1., Innere Stadtc  € 22,97  € 20,32  € 18,84  € 19,68  € 20,00\n",
      "1            2., Leopoldstadtc  € 17,55  € 15,01  € 14,77  € 13,36  € 15,35\n",
      "2              3., Landstraßec  € 18,94  € 16,65  € 15,44  € 17,70  € 17,71\n",
      "3                  4., Wiedenc  € 18,37  € 15,11  € 16,70  € 16,41  € 16,22\n",
      "4              5., Margaretenc  € 17,07  € 14,15  € 13,52  € 16,60  € 15,40\n",
      "5               6., Mariahilfc  € 18,42  € 16,04  € 16,79  € 15,86  € 17,00\n",
      "6                  7., Neubauc  € 16,77  € 15,81  € 15,13  € 15,94  € 15,95\n",
      "7              8., Josefstadtc  € 18,00  € 15,11  € 13,65  € 14,74  € 15,38\n",
      "8              9., Alsergrundc  € 18,66  € 15,07  € 15,98  € 17,39  € 16,52\n",
      "9              10., Favoritenc  € 16,15  € 14,75  € 13,95  € 11,90  € 15,00\n",
      "10             11., Simmeringc  € 16,88  € 14,66  € 11,27     k.A.  € 16,15\n",
      "11              12., Meidlingc  € 17,23  € 15,10  € 13,80  € 11,77  € 16,49\n",
      "12              13., Hietzingc  € 16,28  € 14,87  € 14,72  € 15,53  € 15,19\n",
      "13               14., Penzingc  € 18,54  € 14,67  € 14,02  € 12,09  € 15,04\n",
      "14  15., Rudolfsheim-Fünfhausc  € 16,81  € 14,10  € 12,28  € 12,49  € 15,07\n",
      "15             16., Ottakringc  € 17,16  € 13,46  € 13,27  € 15,14  € 14,83\n",
      "16               17., Hernalsc  € 14,67  € 14,18  € 14,34  € 15,21  € 14,38\n",
      "17               18., Währingc  € 15,75  € 14,48  € 16,40  € 17,22  € 15,46\n",
      "18               19., Döblingc  € 16,06  € 15,34  € 15,76  € 19,50  € 16,15\n",
      "19           20., Brigittenauc  € 16,09  € 13,93  € 11,26  € 11,93  € 13,79\n",
      "20           21., Floridsdorfc  € 16,68  € 14,99  € 13,89  € 11,34  € 15,55\n",
      "21            22., Donaustadtc  € 17,27  € 15,60  € 15,99  € 16,36  € 16,53\n",
      "22               23., Liesingc  € 16,48  € 15,15  € 15,83  € 12,59  € 15,37\n"
     ]
    }
   ],
   "source": [
    "# cleaning up dataframe: dropping not necessary columns\n",
    "immo.drop(['Td.'], axis = 1, inplace = True)\n",
    "print(immo)"
   ]
  },
  {
   "cell_type": "code",
   "execution_count": 7,
   "metadata": {},
   "outputs": [
    {
     "name": "stdout",
     "output_type": "stream",
     "text": [
      "(23, 6)\n"
     ]
    }
   ],
   "source": [
    "print(immo.shape)"
   ]
  },
  {
   "cell_type": "code",
   "execution_count": 8,
   "metadata": {
    "collapsed": true
   },
   "outputs": [
    {
     "name": "stdout",
     "output_type": "stream",
     "text": [
      "                  Neighborhood    small   medium      big    large meanPrice\n",
      "0            1., Innere Stadtc  € 22,97  € 20,32  € 18,84  € 19,68   € 20,00\n",
      "1            2., Leopoldstadtc  € 17,55  € 15,01  € 14,77  € 13,36   € 15,35\n",
      "2              3., Landstraßec  € 18,94  € 16,65  € 15,44  € 17,70   € 17,71\n",
      "3                  4., Wiedenc  € 18,37  € 15,11  € 16,70  € 16,41   € 16,22\n",
      "4              5., Margaretenc  € 17,07  € 14,15  € 13,52  € 16,60   € 15,40\n",
      "5               6., Mariahilfc  € 18,42  € 16,04  € 16,79  € 15,86   € 17,00\n",
      "6                  7., Neubauc  € 16,77  € 15,81  € 15,13  € 15,94   € 15,95\n",
      "7              8., Josefstadtc  € 18,00  € 15,11  € 13,65  € 14,74   € 15,38\n",
      "8              9., Alsergrundc  € 18,66  € 15,07  € 15,98  € 17,39   € 16,52\n",
      "9              10., Favoritenc  € 16,15  € 14,75  € 13,95  € 11,90   € 15,00\n",
      "10             11., Simmeringc  € 16,88  € 14,66  € 11,27     k.A.   € 16,15\n",
      "11              12., Meidlingc  € 17,23  € 15,10  € 13,80  € 11,77   € 16,49\n",
      "12              13., Hietzingc  € 16,28  € 14,87  € 14,72  € 15,53   € 15,19\n",
      "13               14., Penzingc  € 18,54  € 14,67  € 14,02  € 12,09   € 15,04\n",
      "14  15., Rudolfsheim-Fünfhausc  € 16,81  € 14,10  € 12,28  € 12,49   € 15,07\n",
      "15             16., Ottakringc  € 17,16  € 13,46  € 13,27  € 15,14   € 14,83\n",
      "16               17., Hernalsc  € 14,67  € 14,18  € 14,34  € 15,21   € 14,38\n",
      "17               18., Währingc  € 15,75  € 14,48  € 16,40  € 17,22   € 15,46\n",
      "18               19., Döblingc  € 16,06  € 15,34  € 15,76  € 19,50   € 16,15\n",
      "19           20., Brigittenauc  € 16,09  € 13,93  € 11,26  € 11,93   € 13,79\n",
      "20           21., Floridsdorfc  € 16,68  € 14,99  € 13,89  € 11,34   € 15,55\n",
      "21            22., Donaustadtc  € 17,27  € 15,60  € 15,99  € 16,36   € 16,53\n",
      "22               23., Liesingc  € 16,48  € 15,15  € 15,83  € 12,59   € 15,37\n"
     ]
    }
   ],
   "source": [
    "# renaming columns\n",
    "immo_new = immo.rename(columns={'Bezirk':'Neighborhood', '≤50m²':'small', '51-80m²':'medium', '81-129m²':'big', '>130m²':'large', 'Ø/m²':'meanPrice'})\n",
    "print(immo_new)"
   ]
  },
  {
   "cell_type": "code",
   "execution_count": 9,
   "metadata": {
    "collapsed": true
   },
   "outputs": [
    {
     "data": {
      "text/plain": [
       "Neighborhood    object\n",
       "small           object\n",
       "medium          object\n",
       "big             object\n",
       "large           object\n",
       "meanPrice       object\n",
       "dtype: object"
      ]
     },
     "execution_count": 9,
     "metadata": {},
     "output_type": "execute_result"
    }
   ],
   "source": [
    "# check datatypes as preparation to remove currency symbol and convert to float\n",
    "immo_new.dtypes"
   ]
  },
  {
   "cell_type": "code",
   "execution_count": 10,
   "metadata": {
    "collapsed": true
   },
   "outputs": [
    {
     "data": {
      "text/plain": [
       "0     <class 'str'>\n",
       "1     <class 'str'>\n",
       "2     <class 'str'>\n",
       "3     <class 'str'>\n",
       "4     <class 'str'>\n",
       "5     <class 'str'>\n",
       "6     <class 'str'>\n",
       "7     <class 'str'>\n",
       "8     <class 'str'>\n",
       "9     <class 'str'>\n",
       "10    <class 'str'>\n",
       "11    <class 'str'>\n",
       "12    <class 'str'>\n",
       "13    <class 'str'>\n",
       "14    <class 'str'>\n",
       "15    <class 'str'>\n",
       "16    <class 'str'>\n",
       "17    <class 'str'>\n",
       "18    <class 'str'>\n",
       "19    <class 'str'>\n",
       "20    <class 'str'>\n",
       "21    <class 'str'>\n",
       "22    <class 'str'>\n",
       "Name: small, dtype: object"
      ]
     },
     "execution_count": 10,
     "metadata": {},
     "output_type": "execute_result"
    }
   ],
   "source": [
    "# check datatype of specific column\n",
    "immo_new['small'].apply(type)"
   ]
  },
  {
   "cell_type": "code",
   "execution_count": 11,
   "metadata": {},
   "outputs": [],
   "source": [
    "# script to remove currency symbol\n",
    "def clean_currency(x):\n",
    "    \"\"\" If the value is a string, then remove currency symbol and delimiters\n",
    "    otherwise, the value is numeric and can be converted\n",
    "    \"\"\"\n",
    "    if isinstance(x, str):\n",
    "        return(x.replace('€', '').replace(',', '.'))\n",
    "    return(x)"
   ]
  },
  {
   "cell_type": "code",
   "execution_count": 12,
   "metadata": {
    "collapsed": true
   },
   "outputs": [
    {
     "data": {
      "text/plain": [
       "Neighborhood    11., Simmeringc\n",
       "small                   € 16,88\n",
       "medium                  € 14,66\n",
       "big                     € 11,27\n",
       "large                   € 00,00\n",
       "meanPrice               € 16,15\n",
       "Name: 10, dtype: object"
      ]
     },
     "execution_count": 12,
     "metadata": {},
     "output_type": "execute_result"
    }
   ],
   "source": [
    "# 'k.A.' value in column large needs to be changed as workaround for clean_currency script\n",
    "\n",
    "immo_new.loc[10,'large'] = '€ 00,00'\n",
    "immo_new.loc[10]"
   ]
  },
  {
   "cell_type": "code",
   "execution_count": 13,
   "metadata": {
    "collapsed": true
   },
   "outputs": [
    {
     "data": {
      "text/html": [
       "<div>\n",
       "<style scoped>\n",
       "    .dataframe tbody tr th:only-of-type {\n",
       "        vertical-align: middle;\n",
       "    }\n",
       "\n",
       "    .dataframe tbody tr th {\n",
       "        vertical-align: top;\n",
       "    }\n",
       "\n",
       "    .dataframe thead th {\n",
       "        text-align: right;\n",
       "    }\n",
       "</style>\n",
       "<table border=\"1\" class=\"dataframe\">\n",
       "  <thead>\n",
       "    <tr style=\"text-align: right;\">\n",
       "      <th></th>\n",
       "      <th>Neighborhood</th>\n",
       "      <th>small</th>\n",
       "      <th>medium</th>\n",
       "      <th>big</th>\n",
       "      <th>large</th>\n",
       "      <th>meanPrice</th>\n",
       "    </tr>\n",
       "  </thead>\n",
       "  <tbody>\n",
       "    <tr>\n",
       "      <th>0</th>\n",
       "      <td>1., Innere Stadtc</td>\n",
       "      <td>22.97</td>\n",
       "      <td>20.32</td>\n",
       "      <td>18.84</td>\n",
       "      <td>19.68</td>\n",
       "      <td>20.00</td>\n",
       "    </tr>\n",
       "    <tr>\n",
       "      <th>1</th>\n",
       "      <td>2., Leopoldstadtc</td>\n",
       "      <td>17.55</td>\n",
       "      <td>15.01</td>\n",
       "      <td>14.77</td>\n",
       "      <td>13.36</td>\n",
       "      <td>15.35</td>\n",
       "    </tr>\n",
       "    <tr>\n",
       "      <th>2</th>\n",
       "      <td>3., Landstraßec</td>\n",
       "      <td>18.94</td>\n",
       "      <td>16.65</td>\n",
       "      <td>15.44</td>\n",
       "      <td>17.70</td>\n",
       "      <td>17.71</td>\n",
       "    </tr>\n",
       "    <tr>\n",
       "      <th>3</th>\n",
       "      <td>4., Wiedenc</td>\n",
       "      <td>18.37</td>\n",
       "      <td>15.11</td>\n",
       "      <td>16.70</td>\n",
       "      <td>16.41</td>\n",
       "      <td>16.22</td>\n",
       "    </tr>\n",
       "    <tr>\n",
       "      <th>4</th>\n",
       "      <td>5., Margaretenc</td>\n",
       "      <td>17.07</td>\n",
       "      <td>14.15</td>\n",
       "      <td>13.52</td>\n",
       "      <td>16.60</td>\n",
       "      <td>15.40</td>\n",
       "    </tr>\n",
       "    <tr>\n",
       "      <th>5</th>\n",
       "      <td>6., Mariahilfc</td>\n",
       "      <td>18.42</td>\n",
       "      <td>16.04</td>\n",
       "      <td>16.79</td>\n",
       "      <td>15.86</td>\n",
       "      <td>17.00</td>\n",
       "    </tr>\n",
       "    <tr>\n",
       "      <th>6</th>\n",
       "      <td>7., Neubauc</td>\n",
       "      <td>16.77</td>\n",
       "      <td>15.81</td>\n",
       "      <td>15.13</td>\n",
       "      <td>15.94</td>\n",
       "      <td>15.95</td>\n",
       "    </tr>\n",
       "    <tr>\n",
       "      <th>7</th>\n",
       "      <td>8., Josefstadtc</td>\n",
       "      <td>18.00</td>\n",
       "      <td>15.11</td>\n",
       "      <td>13.65</td>\n",
       "      <td>14.74</td>\n",
       "      <td>15.38</td>\n",
       "    </tr>\n",
       "    <tr>\n",
       "      <th>8</th>\n",
       "      <td>9., Alsergrundc</td>\n",
       "      <td>18.66</td>\n",
       "      <td>15.07</td>\n",
       "      <td>15.98</td>\n",
       "      <td>17.39</td>\n",
       "      <td>16.52</td>\n",
       "    </tr>\n",
       "    <tr>\n",
       "      <th>9</th>\n",
       "      <td>10., Favoritenc</td>\n",
       "      <td>16.15</td>\n",
       "      <td>14.75</td>\n",
       "      <td>13.95</td>\n",
       "      <td>11.90</td>\n",
       "      <td>15.00</td>\n",
       "    </tr>\n",
       "    <tr>\n",
       "      <th>10</th>\n",
       "      <td>11., Simmeringc</td>\n",
       "      <td>16.88</td>\n",
       "      <td>14.66</td>\n",
       "      <td>11.27</td>\n",
       "      <td>0.00</td>\n",
       "      <td>16.15</td>\n",
       "    </tr>\n",
       "    <tr>\n",
       "      <th>11</th>\n",
       "      <td>12., Meidlingc</td>\n",
       "      <td>17.23</td>\n",
       "      <td>15.10</td>\n",
       "      <td>13.80</td>\n",
       "      <td>11.77</td>\n",
       "      <td>16.49</td>\n",
       "    </tr>\n",
       "    <tr>\n",
       "      <th>12</th>\n",
       "      <td>13., Hietzingc</td>\n",
       "      <td>16.28</td>\n",
       "      <td>14.87</td>\n",
       "      <td>14.72</td>\n",
       "      <td>15.53</td>\n",
       "      <td>15.19</td>\n",
       "    </tr>\n",
       "    <tr>\n",
       "      <th>13</th>\n",
       "      <td>14., Penzingc</td>\n",
       "      <td>18.54</td>\n",
       "      <td>14.67</td>\n",
       "      <td>14.02</td>\n",
       "      <td>12.09</td>\n",
       "      <td>15.04</td>\n",
       "    </tr>\n",
       "    <tr>\n",
       "      <th>14</th>\n",
       "      <td>15., Rudolfsheim-Fünfhausc</td>\n",
       "      <td>16.81</td>\n",
       "      <td>14.10</td>\n",
       "      <td>12.28</td>\n",
       "      <td>12.49</td>\n",
       "      <td>15.07</td>\n",
       "    </tr>\n",
       "    <tr>\n",
       "      <th>15</th>\n",
       "      <td>16., Ottakringc</td>\n",
       "      <td>17.16</td>\n",
       "      <td>13.46</td>\n",
       "      <td>13.27</td>\n",
       "      <td>15.14</td>\n",
       "      <td>14.83</td>\n",
       "    </tr>\n",
       "    <tr>\n",
       "      <th>16</th>\n",
       "      <td>17., Hernalsc</td>\n",
       "      <td>14.67</td>\n",
       "      <td>14.18</td>\n",
       "      <td>14.34</td>\n",
       "      <td>15.21</td>\n",
       "      <td>14.38</td>\n",
       "    </tr>\n",
       "    <tr>\n",
       "      <th>17</th>\n",
       "      <td>18., Währingc</td>\n",
       "      <td>15.75</td>\n",
       "      <td>14.48</td>\n",
       "      <td>16.40</td>\n",
       "      <td>17.22</td>\n",
       "      <td>15.46</td>\n",
       "    </tr>\n",
       "    <tr>\n",
       "      <th>18</th>\n",
       "      <td>19., Döblingc</td>\n",
       "      <td>16.06</td>\n",
       "      <td>15.34</td>\n",
       "      <td>15.76</td>\n",
       "      <td>19.50</td>\n",
       "      <td>16.15</td>\n",
       "    </tr>\n",
       "    <tr>\n",
       "      <th>19</th>\n",
       "      <td>20., Brigittenauc</td>\n",
       "      <td>16.09</td>\n",
       "      <td>13.93</td>\n",
       "      <td>11.26</td>\n",
       "      <td>11.93</td>\n",
       "      <td>13.79</td>\n",
       "    </tr>\n",
       "    <tr>\n",
       "      <th>20</th>\n",
       "      <td>21., Floridsdorfc</td>\n",
       "      <td>16.68</td>\n",
       "      <td>14.99</td>\n",
       "      <td>13.89</td>\n",
       "      <td>11.34</td>\n",
       "      <td>15.55</td>\n",
       "    </tr>\n",
       "    <tr>\n",
       "      <th>21</th>\n",
       "      <td>22., Donaustadtc</td>\n",
       "      <td>17.27</td>\n",
       "      <td>15.60</td>\n",
       "      <td>15.99</td>\n",
       "      <td>16.36</td>\n",
       "      <td>16.53</td>\n",
       "    </tr>\n",
       "    <tr>\n",
       "      <th>22</th>\n",
       "      <td>23., Liesingc</td>\n",
       "      <td>16.48</td>\n",
       "      <td>15.15</td>\n",
       "      <td>15.83</td>\n",
       "      <td>12.59</td>\n",
       "      <td>15.37</td>\n",
       "    </tr>\n",
       "  </tbody>\n",
       "</table>\n",
       "</div>"
      ],
      "text/plain": [
       "                  Neighborhood  small  medium    big  large  meanPrice\n",
       "0            1., Innere Stadtc  22.97   20.32  18.84  19.68      20.00\n",
       "1            2., Leopoldstadtc  17.55   15.01  14.77  13.36      15.35\n",
       "2              3., Landstraßec  18.94   16.65  15.44  17.70      17.71\n",
       "3                  4., Wiedenc  18.37   15.11  16.70  16.41      16.22\n",
       "4              5., Margaretenc  17.07   14.15  13.52  16.60      15.40\n",
       "5               6., Mariahilfc  18.42   16.04  16.79  15.86      17.00\n",
       "6                  7., Neubauc  16.77   15.81  15.13  15.94      15.95\n",
       "7              8., Josefstadtc  18.00   15.11  13.65  14.74      15.38\n",
       "8              9., Alsergrundc  18.66   15.07  15.98  17.39      16.52\n",
       "9              10., Favoritenc  16.15   14.75  13.95  11.90      15.00\n",
       "10             11., Simmeringc  16.88   14.66  11.27   0.00      16.15\n",
       "11              12., Meidlingc  17.23   15.10  13.80  11.77      16.49\n",
       "12              13., Hietzingc  16.28   14.87  14.72  15.53      15.19\n",
       "13               14., Penzingc  18.54   14.67  14.02  12.09      15.04\n",
       "14  15., Rudolfsheim-Fünfhausc  16.81   14.10  12.28  12.49      15.07\n",
       "15             16., Ottakringc  17.16   13.46  13.27  15.14      14.83\n",
       "16               17., Hernalsc  14.67   14.18  14.34  15.21      14.38\n",
       "17               18., Währingc  15.75   14.48  16.40  17.22      15.46\n",
       "18               19., Döblingc  16.06   15.34  15.76  19.50      16.15\n",
       "19           20., Brigittenauc  16.09   13.93  11.26  11.93      13.79\n",
       "20           21., Floridsdorfc  16.68   14.99  13.89  11.34      15.55\n",
       "21            22., Donaustadtc  17.27   15.60  15.99  16.36      16.53\n",
       "22               23., Liesingc  16.48   15.15  15.83  12.59      15.37"
      ]
     },
     "execution_count": 13,
     "metadata": {},
     "output_type": "execute_result"
    }
   ],
   "source": [
    "# creating new cleaned up dataframe\n",
    "\n",
    "immo_new['small'] = immo_new['small'].apply(clean_currency).astype('float')\n",
    "immo_new['medium'] = immo_new['medium'].apply(clean_currency).astype('float')\n",
    "immo_new['big'] = immo_new['big'].apply(clean_currency).astype('float')\n",
    "immo_new['large'] = immo_new['large'].apply(clean_currency).astype('float')\n",
    "immo_new['meanPrice'] = immo_new['meanPrice'].apply(clean_currency).astype('float')\n",
    "immo_new"
   ]
  },
  {
   "cell_type": "markdown",
   "metadata": {},
   "source": [
    "#### 2.4 Adding Vienna Geospatial Dataset"
   ]
  },
  {
   "cell_type": "markdown",
   "metadata": {},
   "source": [
    "Adding Postal Code, Latitude and Longitude of Vienna's neighborhoods. This Geospatial dataset had to be manually created. "
   ]
  },
  {
   "cell_type": "code",
   "execution_count": 14,
   "metadata": {},
   "outputs": [],
   "source": [
    "import numpy as np\n",
    "import matplotlib.pyplot as plt"
   ]
  },
  {
   "cell_type": "code",
   "execution_count": 15,
   "metadata": {
    "collapsed": true
   },
   "outputs": [
    {
     "data": {
      "text/html": [
       "<div>\n",
       "<style scoped>\n",
       "    .dataframe tbody tr th:only-of-type {\n",
       "        vertical-align: middle;\n",
       "    }\n",
       "\n",
       "    .dataframe tbody tr th {\n",
       "        vertical-align: top;\n",
       "    }\n",
       "\n",
       "    .dataframe thead th {\n",
       "        text-align: right;\n",
       "    }\n",
       "</style>\n",
       "<table border=\"1\" class=\"dataframe\">\n",
       "  <thead>\n",
       "    <tr style=\"text-align: right;\">\n",
       "      <th></th>\n",
       "      <th>Postal Code</th>\n",
       "      <th>Latitude</th>\n",
       "      <th>Longitude</th>\n",
       "    </tr>\n",
       "  </thead>\n",
       "  <tbody>\n",
       "    <tr>\n",
       "      <th>0</th>\n",
       "      <td>1010</td>\n",
       "      <td>48.211794</td>\n",
       "      <td>16.371039</td>\n",
       "    </tr>\n",
       "    <tr>\n",
       "      <th>1</th>\n",
       "      <td>1020</td>\n",
       "      <td>48.216516</td>\n",
       "      <td>16.379789</td>\n",
       "    </tr>\n",
       "    <tr>\n",
       "      <th>2</th>\n",
       "      <td>1030</td>\n",
       "      <td>48.201294</td>\n",
       "      <td>16.388705</td>\n",
       "    </tr>\n",
       "    <tr>\n",
       "      <th>3</th>\n",
       "      <td>1040</td>\n",
       "      <td>48.194304</td>\n",
       "      <td>16.369751</td>\n",
       "    </tr>\n",
       "    <tr>\n",
       "      <th>4</th>\n",
       "      <td>1050</td>\n",
       "      <td>48.190615</td>\n",
       "      <td>16.354170</td>\n",
       "    </tr>\n",
       "    <tr>\n",
       "      <th>5</th>\n",
       "      <td>1060</td>\n",
       "      <td>48.197041</td>\n",
       "      <td>16.350918</td>\n",
       "    </tr>\n",
       "    <tr>\n",
       "      <th>6</th>\n",
       "      <td>1070</td>\n",
       "      <td>48.202847</td>\n",
       "      <td>16.347003</td>\n",
       "    </tr>\n",
       "    <tr>\n",
       "      <th>7</th>\n",
       "      <td>1080</td>\n",
       "      <td>48.212639</td>\n",
       "      <td>16.346747</td>\n",
       "    </tr>\n",
       "    <tr>\n",
       "      <th>8</th>\n",
       "      <td>1090</td>\n",
       "      <td>48.221133</td>\n",
       "      <td>16.354741</td>\n",
       "    </tr>\n",
       "    <tr>\n",
       "      <th>9</th>\n",
       "      <td>1100</td>\n",
       "      <td>48.178493</td>\n",
       "      <td>16.374804</td>\n",
       "    </tr>\n",
       "    <tr>\n",
       "      <th>10</th>\n",
       "      <td>1110</td>\n",
       "      <td>48.175180</td>\n",
       "      <td>16.412319</td>\n",
       "    </tr>\n",
       "    <tr>\n",
       "      <th>11</th>\n",
       "      <td>1120</td>\n",
       "      <td>48.183116</td>\n",
       "      <td>16.329163</td>\n",
       "    </tr>\n",
       "    <tr>\n",
       "      <th>12</th>\n",
       "      <td>1130</td>\n",
       "      <td>48.188226</td>\n",
       "      <td>16.300459</td>\n",
       "    </tr>\n",
       "    <tr>\n",
       "      <th>13</th>\n",
       "      <td>1140</td>\n",
       "      <td>48.197241</td>\n",
       "      <td>16.285466</td>\n",
       "    </tr>\n",
       "    <tr>\n",
       "      <th>14</th>\n",
       "      <td>1150</td>\n",
       "      <td>48.194142</td>\n",
       "      <td>16.333661</td>\n",
       "    </tr>\n",
       "    <tr>\n",
       "      <th>15</th>\n",
       "      <td>1160</td>\n",
       "      <td>48.209344</td>\n",
       "      <td>16.327269</td>\n",
       "    </tr>\n",
       "    <tr>\n",
       "      <th>16</th>\n",
       "      <td>1170</td>\n",
       "      <td>48.218361</td>\n",
       "      <td>16.332049</td>\n",
       "    </tr>\n",
       "    <tr>\n",
       "      <th>17</th>\n",
       "      <td>1180</td>\n",
       "      <td>48.226844</td>\n",
       "      <td>16.342426</td>\n",
       "    </tr>\n",
       "    <tr>\n",
       "      <th>18</th>\n",
       "      <td>1190</td>\n",
       "      <td>48.246244</td>\n",
       "      <td>16.343022</td>\n",
       "    </tr>\n",
       "    <tr>\n",
       "      <th>19</th>\n",
       "      <td>1200</td>\n",
       "      <td>48.233069</td>\n",
       "      <td>16.370942</td>\n",
       "    </tr>\n",
       "    <tr>\n",
       "      <th>20</th>\n",
       "      <td>1210</td>\n",
       "      <td>48.257754</td>\n",
       "      <td>16.397286</td>\n",
       "    </tr>\n",
       "    <tr>\n",
       "      <th>21</th>\n",
       "      <td>1220</td>\n",
       "      <td>48.241009</td>\n",
       "      <td>16.437782</td>\n",
       "    </tr>\n",
       "    <tr>\n",
       "      <th>22</th>\n",
       "      <td>1230</td>\n",
       "      <td>48.134861</td>\n",
       "      <td>16.282154</td>\n",
       "    </tr>\n",
       "  </tbody>\n",
       "</table>\n",
       "</div>"
      ],
      "text/plain": [
       "    Postal Code   Latitude  Longitude\n",
       "0          1010  48.211794  16.371039\n",
       "1          1020  48.216516  16.379789\n",
       "2          1030  48.201294  16.388705\n",
       "3          1040  48.194304  16.369751\n",
       "4          1050  48.190615  16.354170\n",
       "5          1060  48.197041  16.350918\n",
       "6          1070  48.202847  16.347003\n",
       "7          1080  48.212639  16.346747\n",
       "8          1090  48.221133  16.354741\n",
       "9          1100  48.178493  16.374804\n",
       "10         1110  48.175180  16.412319\n",
       "11         1120  48.183116  16.329163\n",
       "12         1130  48.188226  16.300459\n",
       "13         1140  48.197241  16.285466\n",
       "14         1150  48.194142  16.333661\n",
       "15         1160  48.209344  16.327269\n",
       "16         1170  48.218361  16.332049\n",
       "17         1180  48.226844  16.342426\n",
       "18         1190  48.246244  16.343022\n",
       "19         1200  48.233069  16.370942\n",
       "20         1210  48.257754  16.397286\n",
       "21         1220  48.241009  16.437782\n",
       "22         1230  48.134861  16.282154"
      ]
     },
     "execution_count": 15,
     "metadata": {},
     "output_type": "execute_result"
    }
   ],
   "source": [
    "vie_geo = pd.read_csv(\"C:\\\\Users\\\\oxale\\\\OneDrive\\\\Desktop\\\\viegeo.csv\")\n",
    "vie_geo"
   ]
  },
  {
   "cell_type": "code",
   "execution_count": 16,
   "metadata": {},
   "outputs": [
    {
     "data": {
      "text/plain": [
       "Postal Code      int64\n",
       "Latitude       float64\n",
       "Longitude      float64\n",
       "dtype: object"
      ]
     },
     "execution_count": 16,
     "metadata": {},
     "output_type": "execute_result"
    }
   ],
   "source": [
    "# checking datatypes\n",
    "\n",
    "vie_geo.dtypes"
   ]
  },
  {
   "cell_type": "markdown",
   "metadata": {},
   "source": [
    "#### 2.5 Extending Dataframe"
   ]
  },
  {
   "cell_type": "code",
   "execution_count": 17,
   "metadata": {
    "collapsed": true
   },
   "outputs": [
    {
     "data": {
      "text/html": [
       "<div>\n",
       "<style scoped>\n",
       "    .dataframe tbody tr th:only-of-type {\n",
       "        vertical-align: middle;\n",
       "    }\n",
       "\n",
       "    .dataframe tbody tr th {\n",
       "        vertical-align: top;\n",
       "    }\n",
       "\n",
       "    .dataframe thead th {\n",
       "        text-align: right;\n",
       "    }\n",
       "</style>\n",
       "<table border=\"1\" class=\"dataframe\">\n",
       "  <thead>\n",
       "    <tr style=\"text-align: right;\">\n",
       "      <th></th>\n",
       "      <th>Neighborhood</th>\n",
       "      <th>small</th>\n",
       "      <th>medium</th>\n",
       "      <th>big</th>\n",
       "      <th>large</th>\n",
       "      <th>meanPrice</th>\n",
       "      <th>Postal Code</th>\n",
       "      <th>Latitude</th>\n",
       "      <th>Longitude</th>\n",
       "    </tr>\n",
       "  </thead>\n",
       "  <tbody>\n",
       "    <tr>\n",
       "      <th>0</th>\n",
       "      <td>1., Innere Stadtc</td>\n",
       "      <td>22.97</td>\n",
       "      <td>20.32</td>\n",
       "      <td>18.84</td>\n",
       "      <td>19.68</td>\n",
       "      <td>20.00</td>\n",
       "      <td>1010</td>\n",
       "      <td>48.211794</td>\n",
       "      <td>16.371039</td>\n",
       "    </tr>\n",
       "    <tr>\n",
       "      <th>1</th>\n",
       "      <td>2., Leopoldstadtc</td>\n",
       "      <td>17.55</td>\n",
       "      <td>15.01</td>\n",
       "      <td>14.77</td>\n",
       "      <td>13.36</td>\n",
       "      <td>15.35</td>\n",
       "      <td>1020</td>\n",
       "      <td>48.216516</td>\n",
       "      <td>16.379789</td>\n",
       "    </tr>\n",
       "    <tr>\n",
       "      <th>2</th>\n",
       "      <td>3., Landstraßec</td>\n",
       "      <td>18.94</td>\n",
       "      <td>16.65</td>\n",
       "      <td>15.44</td>\n",
       "      <td>17.70</td>\n",
       "      <td>17.71</td>\n",
       "      <td>1030</td>\n",
       "      <td>48.201294</td>\n",
       "      <td>16.388705</td>\n",
       "    </tr>\n",
       "    <tr>\n",
       "      <th>3</th>\n",
       "      <td>4., Wiedenc</td>\n",
       "      <td>18.37</td>\n",
       "      <td>15.11</td>\n",
       "      <td>16.70</td>\n",
       "      <td>16.41</td>\n",
       "      <td>16.22</td>\n",
       "      <td>1040</td>\n",
       "      <td>48.194304</td>\n",
       "      <td>16.369751</td>\n",
       "    </tr>\n",
       "    <tr>\n",
       "      <th>4</th>\n",
       "      <td>5., Margaretenc</td>\n",
       "      <td>17.07</td>\n",
       "      <td>14.15</td>\n",
       "      <td>13.52</td>\n",
       "      <td>16.60</td>\n",
       "      <td>15.40</td>\n",
       "      <td>1050</td>\n",
       "      <td>48.190615</td>\n",
       "      <td>16.354170</td>\n",
       "    </tr>\n",
       "    <tr>\n",
       "      <th>5</th>\n",
       "      <td>6., Mariahilfc</td>\n",
       "      <td>18.42</td>\n",
       "      <td>16.04</td>\n",
       "      <td>16.79</td>\n",
       "      <td>15.86</td>\n",
       "      <td>17.00</td>\n",
       "      <td>1060</td>\n",
       "      <td>48.197041</td>\n",
       "      <td>16.350918</td>\n",
       "    </tr>\n",
       "    <tr>\n",
       "      <th>6</th>\n",
       "      <td>7., Neubauc</td>\n",
       "      <td>16.77</td>\n",
       "      <td>15.81</td>\n",
       "      <td>15.13</td>\n",
       "      <td>15.94</td>\n",
       "      <td>15.95</td>\n",
       "      <td>1070</td>\n",
       "      <td>48.202847</td>\n",
       "      <td>16.347003</td>\n",
       "    </tr>\n",
       "    <tr>\n",
       "      <th>7</th>\n",
       "      <td>8., Josefstadtc</td>\n",
       "      <td>18.00</td>\n",
       "      <td>15.11</td>\n",
       "      <td>13.65</td>\n",
       "      <td>14.74</td>\n",
       "      <td>15.38</td>\n",
       "      <td>1080</td>\n",
       "      <td>48.212639</td>\n",
       "      <td>16.346747</td>\n",
       "    </tr>\n",
       "    <tr>\n",
       "      <th>8</th>\n",
       "      <td>9., Alsergrundc</td>\n",
       "      <td>18.66</td>\n",
       "      <td>15.07</td>\n",
       "      <td>15.98</td>\n",
       "      <td>17.39</td>\n",
       "      <td>16.52</td>\n",
       "      <td>1090</td>\n",
       "      <td>48.221133</td>\n",
       "      <td>16.354741</td>\n",
       "    </tr>\n",
       "    <tr>\n",
       "      <th>9</th>\n",
       "      <td>10., Favoritenc</td>\n",
       "      <td>16.15</td>\n",
       "      <td>14.75</td>\n",
       "      <td>13.95</td>\n",
       "      <td>11.90</td>\n",
       "      <td>15.00</td>\n",
       "      <td>1100</td>\n",
       "      <td>48.178493</td>\n",
       "      <td>16.374804</td>\n",
       "    </tr>\n",
       "    <tr>\n",
       "      <th>10</th>\n",
       "      <td>11., Simmeringc</td>\n",
       "      <td>16.88</td>\n",
       "      <td>14.66</td>\n",
       "      <td>11.27</td>\n",
       "      <td>0.00</td>\n",
       "      <td>16.15</td>\n",
       "      <td>1110</td>\n",
       "      <td>48.175180</td>\n",
       "      <td>16.412319</td>\n",
       "    </tr>\n",
       "    <tr>\n",
       "      <th>11</th>\n",
       "      <td>12., Meidlingc</td>\n",
       "      <td>17.23</td>\n",
       "      <td>15.10</td>\n",
       "      <td>13.80</td>\n",
       "      <td>11.77</td>\n",
       "      <td>16.49</td>\n",
       "      <td>1120</td>\n",
       "      <td>48.183116</td>\n",
       "      <td>16.329163</td>\n",
       "    </tr>\n",
       "    <tr>\n",
       "      <th>12</th>\n",
       "      <td>13., Hietzingc</td>\n",
       "      <td>16.28</td>\n",
       "      <td>14.87</td>\n",
       "      <td>14.72</td>\n",
       "      <td>15.53</td>\n",
       "      <td>15.19</td>\n",
       "      <td>1130</td>\n",
       "      <td>48.188226</td>\n",
       "      <td>16.300459</td>\n",
       "    </tr>\n",
       "    <tr>\n",
       "      <th>13</th>\n",
       "      <td>14., Penzingc</td>\n",
       "      <td>18.54</td>\n",
       "      <td>14.67</td>\n",
       "      <td>14.02</td>\n",
       "      <td>12.09</td>\n",
       "      <td>15.04</td>\n",
       "      <td>1140</td>\n",
       "      <td>48.197241</td>\n",
       "      <td>16.285466</td>\n",
       "    </tr>\n",
       "    <tr>\n",
       "      <th>14</th>\n",
       "      <td>15., Rudolfsheim-Fünfhausc</td>\n",
       "      <td>16.81</td>\n",
       "      <td>14.10</td>\n",
       "      <td>12.28</td>\n",
       "      <td>12.49</td>\n",
       "      <td>15.07</td>\n",
       "      <td>1150</td>\n",
       "      <td>48.194142</td>\n",
       "      <td>16.333661</td>\n",
       "    </tr>\n",
       "    <tr>\n",
       "      <th>15</th>\n",
       "      <td>16., Ottakringc</td>\n",
       "      <td>17.16</td>\n",
       "      <td>13.46</td>\n",
       "      <td>13.27</td>\n",
       "      <td>15.14</td>\n",
       "      <td>14.83</td>\n",
       "      <td>1160</td>\n",
       "      <td>48.209344</td>\n",
       "      <td>16.327269</td>\n",
       "    </tr>\n",
       "    <tr>\n",
       "      <th>16</th>\n",
       "      <td>17., Hernalsc</td>\n",
       "      <td>14.67</td>\n",
       "      <td>14.18</td>\n",
       "      <td>14.34</td>\n",
       "      <td>15.21</td>\n",
       "      <td>14.38</td>\n",
       "      <td>1170</td>\n",
       "      <td>48.218361</td>\n",
       "      <td>16.332049</td>\n",
       "    </tr>\n",
       "    <tr>\n",
       "      <th>17</th>\n",
       "      <td>18., Währingc</td>\n",
       "      <td>15.75</td>\n",
       "      <td>14.48</td>\n",
       "      <td>16.40</td>\n",
       "      <td>17.22</td>\n",
       "      <td>15.46</td>\n",
       "      <td>1180</td>\n",
       "      <td>48.226844</td>\n",
       "      <td>16.342426</td>\n",
       "    </tr>\n",
       "    <tr>\n",
       "      <th>18</th>\n",
       "      <td>19., Döblingc</td>\n",
       "      <td>16.06</td>\n",
       "      <td>15.34</td>\n",
       "      <td>15.76</td>\n",
       "      <td>19.50</td>\n",
       "      <td>16.15</td>\n",
       "      <td>1190</td>\n",
       "      <td>48.246244</td>\n",
       "      <td>16.343022</td>\n",
       "    </tr>\n",
       "    <tr>\n",
       "      <th>19</th>\n",
       "      <td>20., Brigittenauc</td>\n",
       "      <td>16.09</td>\n",
       "      <td>13.93</td>\n",
       "      <td>11.26</td>\n",
       "      <td>11.93</td>\n",
       "      <td>13.79</td>\n",
       "      <td>1200</td>\n",
       "      <td>48.233069</td>\n",
       "      <td>16.370942</td>\n",
       "    </tr>\n",
       "    <tr>\n",
       "      <th>20</th>\n",
       "      <td>21., Floridsdorfc</td>\n",
       "      <td>16.68</td>\n",
       "      <td>14.99</td>\n",
       "      <td>13.89</td>\n",
       "      <td>11.34</td>\n",
       "      <td>15.55</td>\n",
       "      <td>1210</td>\n",
       "      <td>48.257754</td>\n",
       "      <td>16.397286</td>\n",
       "    </tr>\n",
       "    <tr>\n",
       "      <th>21</th>\n",
       "      <td>22., Donaustadtc</td>\n",
       "      <td>17.27</td>\n",
       "      <td>15.60</td>\n",
       "      <td>15.99</td>\n",
       "      <td>16.36</td>\n",
       "      <td>16.53</td>\n",
       "      <td>1220</td>\n",
       "      <td>48.241009</td>\n",
       "      <td>16.437782</td>\n",
       "    </tr>\n",
       "    <tr>\n",
       "      <th>22</th>\n",
       "      <td>23., Liesingc</td>\n",
       "      <td>16.48</td>\n",
       "      <td>15.15</td>\n",
       "      <td>15.83</td>\n",
       "      <td>12.59</td>\n",
       "      <td>15.37</td>\n",
       "      <td>1230</td>\n",
       "      <td>48.134861</td>\n",
       "      <td>16.282154</td>\n",
       "    </tr>\n",
       "  </tbody>\n",
       "</table>\n",
       "</div>"
      ],
      "text/plain": [
       "                  Neighborhood  small  medium    big  large  meanPrice  \\\n",
       "0            1., Innere Stadtc  22.97   20.32  18.84  19.68      20.00   \n",
       "1            2., Leopoldstadtc  17.55   15.01  14.77  13.36      15.35   \n",
       "2              3., Landstraßec  18.94   16.65  15.44  17.70      17.71   \n",
       "3                  4., Wiedenc  18.37   15.11  16.70  16.41      16.22   \n",
       "4              5., Margaretenc  17.07   14.15  13.52  16.60      15.40   \n",
       "5               6., Mariahilfc  18.42   16.04  16.79  15.86      17.00   \n",
       "6                  7., Neubauc  16.77   15.81  15.13  15.94      15.95   \n",
       "7              8., Josefstadtc  18.00   15.11  13.65  14.74      15.38   \n",
       "8              9., Alsergrundc  18.66   15.07  15.98  17.39      16.52   \n",
       "9              10., Favoritenc  16.15   14.75  13.95  11.90      15.00   \n",
       "10             11., Simmeringc  16.88   14.66  11.27   0.00      16.15   \n",
       "11              12., Meidlingc  17.23   15.10  13.80  11.77      16.49   \n",
       "12              13., Hietzingc  16.28   14.87  14.72  15.53      15.19   \n",
       "13               14., Penzingc  18.54   14.67  14.02  12.09      15.04   \n",
       "14  15., Rudolfsheim-Fünfhausc  16.81   14.10  12.28  12.49      15.07   \n",
       "15             16., Ottakringc  17.16   13.46  13.27  15.14      14.83   \n",
       "16               17., Hernalsc  14.67   14.18  14.34  15.21      14.38   \n",
       "17               18., Währingc  15.75   14.48  16.40  17.22      15.46   \n",
       "18               19., Döblingc  16.06   15.34  15.76  19.50      16.15   \n",
       "19           20., Brigittenauc  16.09   13.93  11.26  11.93      13.79   \n",
       "20           21., Floridsdorfc  16.68   14.99  13.89  11.34      15.55   \n",
       "21            22., Donaustadtc  17.27   15.60  15.99  16.36      16.53   \n",
       "22               23., Liesingc  16.48   15.15  15.83  12.59      15.37   \n",
       "\n",
       "    Postal Code   Latitude  Longitude  \n",
       "0          1010  48.211794  16.371039  \n",
       "1          1020  48.216516  16.379789  \n",
       "2          1030  48.201294  16.388705  \n",
       "3          1040  48.194304  16.369751  \n",
       "4          1050  48.190615  16.354170  \n",
       "5          1060  48.197041  16.350918  \n",
       "6          1070  48.202847  16.347003  \n",
       "7          1080  48.212639  16.346747  \n",
       "8          1090  48.221133  16.354741  \n",
       "9          1100  48.178493  16.374804  \n",
       "10         1110  48.175180  16.412319  \n",
       "11         1120  48.183116  16.329163  \n",
       "12         1130  48.188226  16.300459  \n",
       "13         1140  48.197241  16.285466  \n",
       "14         1150  48.194142  16.333661  \n",
       "15         1160  48.209344  16.327269  \n",
       "16         1170  48.218361  16.332049  \n",
       "17         1180  48.226844  16.342426  \n",
       "18         1190  48.246244  16.343022  \n",
       "19         1200  48.233069  16.370942  \n",
       "20         1210  48.257754  16.397286  \n",
       "21         1220  48.241009  16.437782  \n",
       "22         1230  48.134861  16.282154  "
      ]
     },
     "execution_count": 17,
     "metadata": {},
     "output_type": "execute_result"
    }
   ],
   "source": [
    "# merge dataframes\n",
    "dataset = pd.concat([immo_new, vie_geo], axis=1)\n",
    "dataset"
   ]
  },
  {
   "cell_type": "code",
   "execution_count": 24,
   "metadata": {
    "collapsed": true
   },
   "outputs": [
    {
     "data": {
      "text/html": [
       "<div>\n",
       "<style scoped>\n",
       "    .dataframe tbody tr th:only-of-type {\n",
       "        vertical-align: middle;\n",
       "    }\n",
       "\n",
       "    .dataframe tbody tr th {\n",
       "        vertical-align: top;\n",
       "    }\n",
       "\n",
       "    .dataframe thead th {\n",
       "        text-align: right;\n",
       "    }\n",
       "</style>\n",
       "<table border=\"1\" class=\"dataframe\">\n",
       "  <thead>\n",
       "    <tr style=\"text-align: right;\">\n",
       "      <th></th>\n",
       "      <th>Neighborhood</th>\n",
       "      <th>small</th>\n",
       "      <th>medium</th>\n",
       "      <th>big</th>\n",
       "      <th>large</th>\n",
       "      <th>meanPrice</th>\n",
       "      <th>Postal Code</th>\n",
       "      <th>Latitude</th>\n",
       "      <th>Longitude</th>\n",
       "    </tr>\n",
       "  </thead>\n",
       "  <tbody>\n",
       "    <tr>\n",
       "      <th>0</th>\n",
       "      <td>Innere Stadt</td>\n",
       "      <td>22.97</td>\n",
       "      <td>20.32</td>\n",
       "      <td>18.84</td>\n",
       "      <td>19.68</td>\n",
       "      <td>20.00</td>\n",
       "      <td>1010</td>\n",
       "      <td>48.211794</td>\n",
       "      <td>16.371039</td>\n",
       "    </tr>\n",
       "    <tr>\n",
       "      <th>1</th>\n",
       "      <td>Leopoldstadt</td>\n",
       "      <td>17.55</td>\n",
       "      <td>15.01</td>\n",
       "      <td>14.77</td>\n",
       "      <td>13.36</td>\n",
       "      <td>15.35</td>\n",
       "      <td>1020</td>\n",
       "      <td>48.216516</td>\n",
       "      <td>16.379789</td>\n",
       "    </tr>\n",
       "    <tr>\n",
       "      <th>2</th>\n",
       "      <td>Landstrasse</td>\n",
       "      <td>18.94</td>\n",
       "      <td>16.65</td>\n",
       "      <td>15.44</td>\n",
       "      <td>17.70</td>\n",
       "      <td>17.71</td>\n",
       "      <td>1030</td>\n",
       "      <td>48.201294</td>\n",
       "      <td>16.388705</td>\n",
       "    </tr>\n",
       "    <tr>\n",
       "      <th>3</th>\n",
       "      <td>Wieden</td>\n",
       "      <td>18.37</td>\n",
       "      <td>15.11</td>\n",
       "      <td>16.70</td>\n",
       "      <td>16.41</td>\n",
       "      <td>16.22</td>\n",
       "      <td>1040</td>\n",
       "      <td>48.194304</td>\n",
       "      <td>16.369751</td>\n",
       "    </tr>\n",
       "    <tr>\n",
       "      <th>4</th>\n",
       "      <td>Margareten</td>\n",
       "      <td>17.07</td>\n",
       "      <td>14.15</td>\n",
       "      <td>13.52</td>\n",
       "      <td>16.60</td>\n",
       "      <td>15.40</td>\n",
       "      <td>1050</td>\n",
       "      <td>48.190615</td>\n",
       "      <td>16.354170</td>\n",
       "    </tr>\n",
       "    <tr>\n",
       "      <th>5</th>\n",
       "      <td>Mariahilf</td>\n",
       "      <td>18.42</td>\n",
       "      <td>16.04</td>\n",
       "      <td>16.79</td>\n",
       "      <td>15.86</td>\n",
       "      <td>17.00</td>\n",
       "      <td>1060</td>\n",
       "      <td>48.197041</td>\n",
       "      <td>16.350918</td>\n",
       "    </tr>\n",
       "    <tr>\n",
       "      <th>6</th>\n",
       "      <td>Neubau</td>\n",
       "      <td>16.77</td>\n",
       "      <td>15.81</td>\n",
       "      <td>15.13</td>\n",
       "      <td>15.94</td>\n",
       "      <td>15.95</td>\n",
       "      <td>1070</td>\n",
       "      <td>48.202847</td>\n",
       "      <td>16.347003</td>\n",
       "    </tr>\n",
       "    <tr>\n",
       "      <th>7</th>\n",
       "      <td>Josefstadt</td>\n",
       "      <td>18.00</td>\n",
       "      <td>15.11</td>\n",
       "      <td>13.65</td>\n",
       "      <td>14.74</td>\n",
       "      <td>15.38</td>\n",
       "      <td>1080</td>\n",
       "      <td>48.212639</td>\n",
       "      <td>16.346747</td>\n",
       "    </tr>\n",
       "    <tr>\n",
       "      <th>8</th>\n",
       "      <td>Alsergrund</td>\n",
       "      <td>18.66</td>\n",
       "      <td>15.07</td>\n",
       "      <td>15.98</td>\n",
       "      <td>17.39</td>\n",
       "      <td>16.52</td>\n",
       "      <td>1090</td>\n",
       "      <td>48.221133</td>\n",
       "      <td>16.354741</td>\n",
       "    </tr>\n",
       "    <tr>\n",
       "      <th>9</th>\n",
       "      <td>Favoriten</td>\n",
       "      <td>16.15</td>\n",
       "      <td>14.75</td>\n",
       "      <td>13.95</td>\n",
       "      <td>11.90</td>\n",
       "      <td>15.00</td>\n",
       "      <td>1100</td>\n",
       "      <td>48.178493</td>\n",
       "      <td>16.374804</td>\n",
       "    </tr>\n",
       "    <tr>\n",
       "      <th>10</th>\n",
       "      <td>Simmering</td>\n",
       "      <td>16.88</td>\n",
       "      <td>14.66</td>\n",
       "      <td>11.27</td>\n",
       "      <td>0.00</td>\n",
       "      <td>16.15</td>\n",
       "      <td>1110</td>\n",
       "      <td>48.175180</td>\n",
       "      <td>16.412319</td>\n",
       "    </tr>\n",
       "    <tr>\n",
       "      <th>11</th>\n",
       "      <td>Meidling</td>\n",
       "      <td>17.23</td>\n",
       "      <td>15.10</td>\n",
       "      <td>13.80</td>\n",
       "      <td>11.77</td>\n",
       "      <td>16.49</td>\n",
       "      <td>1120</td>\n",
       "      <td>48.183116</td>\n",
       "      <td>16.329163</td>\n",
       "    </tr>\n",
       "    <tr>\n",
       "      <th>12</th>\n",
       "      <td>Hietzing</td>\n",
       "      <td>16.28</td>\n",
       "      <td>14.87</td>\n",
       "      <td>14.72</td>\n",
       "      <td>15.53</td>\n",
       "      <td>15.19</td>\n",
       "      <td>1130</td>\n",
       "      <td>48.188226</td>\n",
       "      <td>16.300459</td>\n",
       "    </tr>\n",
       "    <tr>\n",
       "      <th>13</th>\n",
       "      <td>Penzing</td>\n",
       "      <td>18.54</td>\n",
       "      <td>14.67</td>\n",
       "      <td>14.02</td>\n",
       "      <td>12.09</td>\n",
       "      <td>15.04</td>\n",
       "      <td>1140</td>\n",
       "      <td>48.197241</td>\n",
       "      <td>16.285466</td>\n",
       "    </tr>\n",
       "    <tr>\n",
       "      <th>14</th>\n",
       "      <td>Rudolfsheim</td>\n",
       "      <td>16.81</td>\n",
       "      <td>14.10</td>\n",
       "      <td>12.28</td>\n",
       "      <td>12.49</td>\n",
       "      <td>15.07</td>\n",
       "      <td>1150</td>\n",
       "      <td>48.194142</td>\n",
       "      <td>16.333661</td>\n",
       "    </tr>\n",
       "    <tr>\n",
       "      <th>15</th>\n",
       "      <td>Ottakring</td>\n",
       "      <td>17.16</td>\n",
       "      <td>13.46</td>\n",
       "      <td>13.27</td>\n",
       "      <td>15.14</td>\n",
       "      <td>14.83</td>\n",
       "      <td>1160</td>\n",
       "      <td>48.209344</td>\n",
       "      <td>16.327269</td>\n",
       "    </tr>\n",
       "    <tr>\n",
       "      <th>16</th>\n",
       "      <td>Hernals</td>\n",
       "      <td>14.67</td>\n",
       "      <td>14.18</td>\n",
       "      <td>14.34</td>\n",
       "      <td>15.21</td>\n",
       "      <td>14.38</td>\n",
       "      <td>1170</td>\n",
       "      <td>48.218361</td>\n",
       "      <td>16.332049</td>\n",
       "    </tr>\n",
       "    <tr>\n",
       "      <th>17</th>\n",
       "      <td>Waehring</td>\n",
       "      <td>15.75</td>\n",
       "      <td>14.48</td>\n",
       "      <td>16.40</td>\n",
       "      <td>17.22</td>\n",
       "      <td>15.46</td>\n",
       "      <td>1180</td>\n",
       "      <td>48.226844</td>\n",
       "      <td>16.342426</td>\n",
       "    </tr>\n",
       "    <tr>\n",
       "      <th>18</th>\n",
       "      <td>Doebling</td>\n",
       "      <td>16.06</td>\n",
       "      <td>15.34</td>\n",
       "      <td>15.76</td>\n",
       "      <td>19.50</td>\n",
       "      <td>16.15</td>\n",
       "      <td>1190</td>\n",
       "      <td>48.246244</td>\n",
       "      <td>16.343022</td>\n",
       "    </tr>\n",
       "    <tr>\n",
       "      <th>19</th>\n",
       "      <td>Brigittenau</td>\n",
       "      <td>16.09</td>\n",
       "      <td>13.93</td>\n",
       "      <td>11.26</td>\n",
       "      <td>11.93</td>\n",
       "      <td>13.79</td>\n",
       "      <td>1200</td>\n",
       "      <td>48.233069</td>\n",
       "      <td>16.370942</td>\n",
       "    </tr>\n",
       "    <tr>\n",
       "      <th>20</th>\n",
       "      <td>Floridsdorf</td>\n",
       "      <td>16.68</td>\n",
       "      <td>14.99</td>\n",
       "      <td>13.89</td>\n",
       "      <td>11.34</td>\n",
       "      <td>15.55</td>\n",
       "      <td>1210</td>\n",
       "      <td>48.257754</td>\n",
       "      <td>16.397286</td>\n",
       "    </tr>\n",
       "    <tr>\n",
       "      <th>21</th>\n",
       "      <td>Donaustadt</td>\n",
       "      <td>17.27</td>\n",
       "      <td>15.60</td>\n",
       "      <td>15.99</td>\n",
       "      <td>16.36</td>\n",
       "      <td>16.53</td>\n",
       "      <td>1220</td>\n",
       "      <td>48.241009</td>\n",
       "      <td>16.437782</td>\n",
       "    </tr>\n",
       "    <tr>\n",
       "      <th>22</th>\n",
       "      <td>Liesing</td>\n",
       "      <td>16.48</td>\n",
       "      <td>15.15</td>\n",
       "      <td>15.83</td>\n",
       "      <td>12.59</td>\n",
       "      <td>15.37</td>\n",
       "      <td>1230</td>\n",
       "      <td>48.134861</td>\n",
       "      <td>16.282154</td>\n",
       "    </tr>\n",
       "  </tbody>\n",
       "</table>\n",
       "</div>"
      ],
      "text/plain": [
       "    Neighborhood  small  medium    big  large  meanPrice  Postal Code  \\\n",
       "0   Innere Stadt  22.97   20.32  18.84  19.68      20.00         1010   \n",
       "1   Leopoldstadt  17.55   15.01  14.77  13.36      15.35         1020   \n",
       "2    Landstrasse  18.94   16.65  15.44  17.70      17.71         1030   \n",
       "3         Wieden  18.37   15.11  16.70  16.41      16.22         1040   \n",
       "4     Margareten  17.07   14.15  13.52  16.60      15.40         1050   \n",
       "5      Mariahilf  18.42   16.04  16.79  15.86      17.00         1060   \n",
       "6         Neubau  16.77   15.81  15.13  15.94      15.95         1070   \n",
       "7     Josefstadt  18.00   15.11  13.65  14.74      15.38         1080   \n",
       "8     Alsergrund  18.66   15.07  15.98  17.39      16.52         1090   \n",
       "9      Favoriten  16.15   14.75  13.95  11.90      15.00         1100   \n",
       "10     Simmering  16.88   14.66  11.27   0.00      16.15         1110   \n",
       "11      Meidling  17.23   15.10  13.80  11.77      16.49         1120   \n",
       "12      Hietzing  16.28   14.87  14.72  15.53      15.19         1130   \n",
       "13       Penzing  18.54   14.67  14.02  12.09      15.04         1140   \n",
       "14   Rudolfsheim  16.81   14.10  12.28  12.49      15.07         1150   \n",
       "15     Ottakring  17.16   13.46  13.27  15.14      14.83         1160   \n",
       "16       Hernals  14.67   14.18  14.34  15.21      14.38         1170   \n",
       "17      Waehring  15.75   14.48  16.40  17.22      15.46         1180   \n",
       "18      Doebling  16.06   15.34  15.76  19.50      16.15         1190   \n",
       "19   Brigittenau  16.09   13.93  11.26  11.93      13.79         1200   \n",
       "20   Floridsdorf  16.68   14.99  13.89  11.34      15.55         1210   \n",
       "21    Donaustadt  17.27   15.60  15.99  16.36      16.53         1220   \n",
       "22       Liesing  16.48   15.15  15.83  12.59      15.37         1230   \n",
       "\n",
       "     Latitude  Longitude  \n",
       "0   48.211794  16.371039  \n",
       "1   48.216516  16.379789  \n",
       "2   48.201294  16.388705  \n",
       "3   48.194304  16.369751  \n",
       "4   48.190615  16.354170  \n",
       "5   48.197041  16.350918  \n",
       "6   48.202847  16.347003  \n",
       "7   48.212639  16.346747  \n",
       "8   48.221133  16.354741  \n",
       "9   48.178493  16.374804  \n",
       "10  48.175180  16.412319  \n",
       "11  48.183116  16.329163  \n",
       "12  48.188226  16.300459  \n",
       "13  48.197241  16.285466  \n",
       "14  48.194142  16.333661  \n",
       "15  48.209344  16.327269  \n",
       "16  48.218361  16.332049  \n",
       "17  48.226844  16.342426  \n",
       "18  48.246244  16.343022  \n",
       "19  48.233069  16.370942  \n",
       "20  48.257754  16.397286  \n",
       "21  48.241009  16.437782  \n",
       "22  48.134861  16.282154  "
      ]
     },
     "execution_count": 24,
     "metadata": {},
     "output_type": "execute_result"
    }
   ],
   "source": [
    "# renaming columns\n",
    "dataset['Neighborhood'] = dataset['Neighborhood'].replace({\n",
    "    '1., Innere Stadtc':'Innere Stadt',\n",
    "    '2., Leopoldstadtc':'Leopoldstadt',\n",
    "    '3., Landstraßec':'Landstrasse',\n",
    "    '4., Wiedenc':'Wieden',\n",
    "    '5., Margaretenc':'Margareten',\n",
    "    '6., Mariahilfc':'Mariahilf',\n",
    "    '7., Neubauc':'Neubau',\n",
    "    '8., Josefstadtc':'Josefstadt',\n",
    "    '9., Alsergrundc':'Alsergrund',\n",
    "    '10., Favoritenc':'Favoriten',\n",
    "    '11., Simmeringc':'Simmering',\n",
    "    '12., Meidlingc':'Meidling',\n",
    "    '13., Hietzingc':'Hietzing',\n",
    "    '14., Penzingc':'Penzing',\n",
    "    '15., Rudolfsheim-Fünfhausc':'Rudolfsheim',\n",
    "    '16., Ottakringc':'Ottakring',\n",
    "    '17., Hernalsc':'Hernals',\n",
    "    '18., Währingc':'Waehring',\n",
    "    '19., Döblingc':'Doebling',\n",
    "    '20., Brigittenauc':'Brigittenau',\n",
    "    '21., Floridsdorfc':'Floridsdorf',\n",
    "    '22., Donaustadtc':'Donaustadt',\n",
    "    '23., Liesingc':'Liesing'\n",
    "})\n",
    "\n",
    "dataset"
   ]
  },
  {
   "cell_type": "markdown",
   "metadata": {},
   "source": [
    "### 3. Exploratory Data Analysis"
   ]
  },
  {
   "cell_type": "markdown",
   "metadata": {},
   "source": [
    "##### Importing libraries"
   ]
  },
  {
   "cell_type": "code",
   "execution_count": 18,
   "metadata": {
    "collapsed": true
   },
   "outputs": [
    {
     "name": "stdout",
     "output_type": "stream",
     "text": [
      "Requirement already satisfied: geocoder in c:\\users\\oxale\\anaconda3\\lib\\site-packages (1.38.1)\n",
      "Requirement already satisfied: future in c:\\users\\oxale\\anaconda3\\lib\\site-packages (from geocoder) (0.18.2)\n",
      "Requirement already satisfied: ratelim in c:\\users\\oxale\\anaconda3\\lib\\site-packages (from geocoder) (0.1.6)\n",
      "Requirement already satisfied: requests in c:\\users\\oxale\\anaconda3\\lib\\site-packages (from geocoder) (2.24.0)\n",
      "Requirement already satisfied: six in c:\\users\\oxale\\anaconda3\\lib\\site-packages (from geocoder) (1.15.0)\n",
      "Requirement already satisfied: click in c:\\users\\oxale\\anaconda3\\lib\\site-packages (from geocoder) (7.1.2)\n",
      "Requirement already satisfied: decorator in c:\\users\\oxale\\anaconda3\\lib\\site-packages (from ratelim->geocoder) (4.4.2)\n",
      "Requirement already satisfied: urllib3!=1.25.0,!=1.25.1,<1.26,>=1.21.1 in c:\\users\\oxale\\anaconda3\\lib\\site-packages (from requests->geocoder) (1.25.11)\n",
      "Requirement already satisfied: idna<3,>=2.5 in c:\\users\\oxale\\anaconda3\\lib\\site-packages (from requests->geocoder) (2.10)\n",
      "Requirement already satisfied: chardet<4,>=3.0.2 in c:\\users\\oxale\\anaconda3\\lib\\site-packages (from requests->geocoder) (3.0.4)\n",
      "Requirement already satisfied: certifi>=2017.4.17 in c:\\users\\oxale\\anaconda3\\lib\\site-packages (from requests->geocoder) (2020.6.20)\n"
     ]
    }
   ],
   "source": [
    "!pip install geocoder"
   ]
  },
  {
   "cell_type": "code",
   "execution_count": 19,
   "metadata": {
    "collapsed": true
   },
   "outputs": [
    {
     "name": "stdout",
     "output_type": "stream",
     "text": [
      "Requirement already satisfied: geopy in c:\\users\\oxale\\anaconda3\\lib\\site-packages (2.1.0)\n",
      "Requirement already satisfied: geographiclib<2,>=1.49 in c:\\users\\oxale\\anaconda3\\lib\\site-packages (from geopy) (1.50)\n"
     ]
    }
   ],
   "source": [
    "!pip install geopy"
   ]
  },
  {
   "cell_type": "code",
   "execution_count": 20,
   "metadata": {
    "collapsed": true
   },
   "outputs": [
    {
     "name": "stdout",
     "output_type": "stream",
     "text": [
      "Requirement already satisfied: folium in c:\\users\\oxale\\anaconda3\\lib\\site-packages (0.12.1)\n",
      "Requirement already satisfied: numpy in c:\\users\\oxale\\anaconda3\\lib\\site-packages (from folium) (1.19.2)\n",
      "Requirement already satisfied: branca>=0.3.0 in c:\\users\\oxale\\anaconda3\\lib\\site-packages (from folium) (0.4.2)\n",
      "Requirement already satisfied: jinja2>=2.9 in c:\\users\\oxale\\anaconda3\\lib\\site-packages (from folium) (2.11.2)\n",
      "Requirement already satisfied: requests in c:\\users\\oxale\\anaconda3\\lib\\site-packages (from folium) (2.24.0)\n",
      "Requirement already satisfied: MarkupSafe>=0.23 in c:\\users\\oxale\\anaconda3\\lib\\site-packages (from jinja2>=2.9->folium) (1.1.1)\n",
      "Requirement already satisfied: idna<3,>=2.5 in c:\\users\\oxale\\anaconda3\\lib\\site-packages (from requests->folium) (2.10)\n",
      "Requirement already satisfied: certifi>=2017.4.17 in c:\\users\\oxale\\anaconda3\\lib\\site-packages (from requests->folium) (2020.6.20)\n",
      "Requirement already satisfied: urllib3!=1.25.0,!=1.25.1,<1.26,>=1.21.1 in c:\\users\\oxale\\anaconda3\\lib\\site-packages (from requests->folium) (1.25.11)\n",
      "Requirement already satisfied: chardet<4,>=3.0.2 in c:\\users\\oxale\\anaconda3\\lib\\site-packages (from requests->folium) (3.0.4)\n"
     ]
    }
   ],
   "source": [
    "import json # library to handle JSON files\n",
    "\n",
    "from geopy.geocoders import Nominatim # convert an address into latitude and longitude values\n",
    "\n",
    "from pandas.io.json import json_normalize # tranform JSON file into a pandas dataframe\n",
    "\n",
    "# Matplotlib and associated plotting modules\n",
    "import matplotlib.cm as cm\n",
    "import matplotlib.colors as colors\n",
    "\n",
    "# import k-means from clustering stage\n",
    "from sklearn.cluster import KMeans\n",
    "\n",
    "!pip install folium\n",
    "import folium # map rendering library"
   ]
  },
  {
   "cell_type": "markdown",
   "metadata": {},
   "source": [
    "#### 3.1 Map of Vienna"
   ]
  },
  {
   "cell_type": "code",
   "execution_count": 21,
   "metadata": {},
   "outputs": [
    {
     "name": "stdout",
     "output_type": "stream",
     "text": [
      "The geograpical coordinates of Vienna are 48.2083537, 16.3725042.\n"
     ]
    }
   ],
   "source": [
    "address = 'Vienna, AT'\n",
    "\n",
    "geolocator = Nominatim(user_agent=\"at_explorer\")\n",
    "location = geolocator.geocode(address)\n",
    "latitude = location.latitude\n",
    "longitude = location.longitude\n",
    "print('The geograpical coordinates of Vienna are {}, {}.'.format(latitude, longitude))"
   ]
  },
  {
   "cell_type": "code",
   "execution_count": 22,
   "metadata": {},
   "outputs": [
    {
     "data": {
      "text/html": [
       "<div style=\"width:100%;\"><div style=\"position:relative;width:100%;height:0;padding-bottom:60%;\"><span style=\"color:#565656\">Make this Notebook Trusted to load map: File -> Trust Notebook</span><iframe src=\"about:blank\" style=\"position:absolute;width:100%;height:100%;left:0;top:0;border:none !important;\" data-html=%3C%21DOCTYPE%20html%3E%0A%3Chead%3E%20%20%20%20%0A%20%20%20%20%3Cmeta%20http-equiv%3D%22content-type%22%20content%3D%22text/html%3B%20charset%3DUTF-8%22%20/%3E%0A%20%20%20%20%0A%20%20%20%20%20%20%20%20%3Cscript%3E%0A%20%20%20%20%20%20%20%20%20%20%20%20L_NO_TOUCH%20%3D%20false%3B%0A%20%20%20%20%20%20%20%20%20%20%20%20L_DISABLE_3D%20%3D%20false%3B%0A%20%20%20%20%20%20%20%20%3C/script%3E%0A%20%20%20%20%0A%20%20%20%20%3Cstyle%3Ehtml%2C%20body%20%7Bwidth%3A%20100%25%3Bheight%3A%20100%25%3Bmargin%3A%200%3Bpadding%3A%200%3B%7D%3C/style%3E%0A%20%20%20%20%3Cstyle%3E%23map%20%7Bposition%3Aabsolute%3Btop%3A0%3Bbottom%3A0%3Bright%3A0%3Bleft%3A0%3B%7D%3C/style%3E%0A%20%20%20%20%3Cscript%20src%3D%22https%3A//cdn.jsdelivr.net/npm/leaflet%401.6.0/dist/leaflet.js%22%3E%3C/script%3E%0A%20%20%20%20%3Cscript%20src%3D%22https%3A//code.jquery.com/jquery-1.12.4.min.js%22%3E%3C/script%3E%0A%20%20%20%20%3Cscript%20src%3D%22https%3A//maxcdn.bootstrapcdn.com/bootstrap/3.2.0/js/bootstrap.min.js%22%3E%3C/script%3E%0A%20%20%20%20%3Cscript%20src%3D%22https%3A//cdnjs.cloudflare.com/ajax/libs/Leaflet.awesome-markers/2.0.2/leaflet.awesome-markers.js%22%3E%3C/script%3E%0A%20%20%20%20%3Clink%20rel%3D%22stylesheet%22%20href%3D%22https%3A//cdn.jsdelivr.net/npm/leaflet%401.6.0/dist/leaflet.css%22/%3E%0A%20%20%20%20%3Clink%20rel%3D%22stylesheet%22%20href%3D%22https%3A//maxcdn.bootstrapcdn.com/bootstrap/3.2.0/css/bootstrap.min.css%22/%3E%0A%20%20%20%20%3Clink%20rel%3D%22stylesheet%22%20href%3D%22https%3A//maxcdn.bootstrapcdn.com/bootstrap/3.2.0/css/bootstrap-theme.min.css%22/%3E%0A%20%20%20%20%3Clink%20rel%3D%22stylesheet%22%20href%3D%22https%3A//maxcdn.bootstrapcdn.com/font-awesome/4.6.3/css/font-awesome.min.css%22/%3E%0A%20%20%20%20%3Clink%20rel%3D%22stylesheet%22%20href%3D%22https%3A//cdnjs.cloudflare.com/ajax/libs/Leaflet.awesome-markers/2.0.2/leaflet.awesome-markers.css%22/%3E%0A%20%20%20%20%3Clink%20rel%3D%22stylesheet%22%20href%3D%22https%3A//cdn.jsdelivr.net/gh/python-visualization/folium/folium/templates/leaflet.awesome.rotate.min.css%22/%3E%0A%20%20%20%20%0A%20%20%20%20%20%20%20%20%20%20%20%20%3Cmeta%20name%3D%22viewport%22%20content%3D%22width%3Ddevice-width%2C%0A%20%20%20%20%20%20%20%20%20%20%20%20%20%20%20%20initial-scale%3D1.0%2C%20maximum-scale%3D1.0%2C%20user-scalable%3Dno%22%20/%3E%0A%20%20%20%20%20%20%20%20%20%20%20%20%3Cstyle%3E%0A%20%20%20%20%20%20%20%20%20%20%20%20%20%20%20%20%23map_7c9cf4fac5474869bff7690d8723c754%20%7B%0A%20%20%20%20%20%20%20%20%20%20%20%20%20%20%20%20%20%20%20%20position%3A%20relative%3B%0A%20%20%20%20%20%20%20%20%20%20%20%20%20%20%20%20%20%20%20%20width%3A%20100.0%25%3B%0A%20%20%20%20%20%20%20%20%20%20%20%20%20%20%20%20%20%20%20%20height%3A%20100.0%25%3B%0A%20%20%20%20%20%20%20%20%20%20%20%20%20%20%20%20%20%20%20%20left%3A%200.0%25%3B%0A%20%20%20%20%20%20%20%20%20%20%20%20%20%20%20%20%20%20%20%20top%3A%200.0%25%3B%0A%20%20%20%20%20%20%20%20%20%20%20%20%20%20%20%20%7D%0A%20%20%20%20%20%20%20%20%20%20%20%20%3C/style%3E%0A%20%20%20%20%20%20%20%20%0A%3C/head%3E%0A%3Cbody%3E%20%20%20%20%0A%20%20%20%20%0A%20%20%20%20%20%20%20%20%20%20%20%20%3Cdiv%20class%3D%22folium-map%22%20id%3D%22map_7c9cf4fac5474869bff7690d8723c754%22%20%3E%3C/div%3E%0A%20%20%20%20%20%20%20%20%0A%3C/body%3E%0A%3Cscript%3E%20%20%20%20%0A%20%20%20%20%0A%20%20%20%20%20%20%20%20%20%20%20%20var%20map_7c9cf4fac5474869bff7690d8723c754%20%3D%20L.map%28%0A%20%20%20%20%20%20%20%20%20%20%20%20%20%20%20%20%22map_7c9cf4fac5474869bff7690d8723c754%22%2C%0A%20%20%20%20%20%20%20%20%20%20%20%20%20%20%20%20%7B%0A%20%20%20%20%20%20%20%20%20%20%20%20%20%20%20%20%20%20%20%20center%3A%20%5B48.2083537%2C%2016.3725042%5D%2C%0A%20%20%20%20%20%20%20%20%20%20%20%20%20%20%20%20%20%20%20%20crs%3A%20L.CRS.EPSG3857%2C%0A%20%20%20%20%20%20%20%20%20%20%20%20%20%20%20%20%20%20%20%20zoom%3A%2010%2C%0A%20%20%20%20%20%20%20%20%20%20%20%20%20%20%20%20%20%20%20%20zoomControl%3A%20true%2C%0A%20%20%20%20%20%20%20%20%20%20%20%20%20%20%20%20%20%20%20%20preferCanvas%3A%20false%2C%0A%20%20%20%20%20%20%20%20%20%20%20%20%20%20%20%20%7D%0A%20%20%20%20%20%20%20%20%20%20%20%20%29%3B%0A%0A%20%20%20%20%20%20%20%20%20%20%20%20%0A%0A%20%20%20%20%20%20%20%20%0A%20%20%20%20%0A%20%20%20%20%20%20%20%20%20%20%20%20var%20tile_layer_0d1bf7a6e4d744cda83ab70e9044b99e%20%3D%20L.tileLayer%28%0A%20%20%20%20%20%20%20%20%20%20%20%20%20%20%20%20%22https%3A//%7Bs%7D.tile.openstreetmap.org/%7Bz%7D/%7Bx%7D/%7By%7D.png%22%2C%0A%20%20%20%20%20%20%20%20%20%20%20%20%20%20%20%20%7B%22attribution%22%3A%20%22Data%20by%20%5Cu0026copy%3B%20%5Cu003ca%20href%3D%5C%22http%3A//openstreetmap.org%5C%22%5Cu003eOpenStreetMap%5Cu003c/a%5Cu003e%2C%20under%20%5Cu003ca%20href%3D%5C%22http%3A//www.openstreetmap.org/copyright%5C%22%5Cu003eODbL%5Cu003c/a%5Cu003e.%22%2C%20%22detectRetina%22%3A%20false%2C%20%22maxNativeZoom%22%3A%2018%2C%20%22maxZoom%22%3A%2018%2C%20%22minZoom%22%3A%200%2C%20%22noWrap%22%3A%20false%2C%20%22opacity%22%3A%201%2C%20%22subdomains%22%3A%20%22abc%22%2C%20%22tms%22%3A%20false%7D%0A%20%20%20%20%20%20%20%20%20%20%20%20%29.addTo%28map_7c9cf4fac5474869bff7690d8723c754%29%3B%0A%20%20%20%20%20%20%20%20%0A%20%20%20%20%0A%20%20%20%20%20%20%20%20%20%20%20%20var%20circle_marker_45dc6563a5804e6aad0c418b5583d73a%20%3D%20L.circleMarker%28%0A%20%20%20%20%20%20%20%20%20%20%20%20%20%20%20%20%5B48.211794%2C%2016.371039%5D%2C%0A%20%20%20%20%20%20%20%20%20%20%20%20%20%20%20%20%7B%22bubblingMouseEvents%22%3A%20true%2C%20%22color%22%3A%20%22yellow%22%2C%20%22dashArray%22%3A%20null%2C%20%22dashOffset%22%3A%20null%2C%20%22fill%22%3A%20true%2C%20%22fillColor%22%3A%20%22%233186cc%22%2C%20%22fillOpacity%22%3A%200.7%2C%20%22fillRule%22%3A%20%22evenodd%22%2C%20%22lineCap%22%3A%20%22round%22%2C%20%22lineJoin%22%3A%20%22round%22%2C%20%22opacity%22%3A%201.0%2C%20%22radius%22%3A%205%2C%20%22stroke%22%3A%20true%2C%20%22weight%22%3A%203%7D%0A%20%20%20%20%20%20%20%20%20%20%20%20%29.addTo%28map_7c9cf4fac5474869bff7690d8723c754%29%3B%0A%20%20%20%20%20%20%20%20%0A%20%20%20%20%0A%20%20%20%20%20%20%20%20var%20popup_ef63f6e211884ceb8503bccbf9be3bfb%20%3D%20L.popup%28%7B%22maxWidth%22%3A%20%22100%25%22%7D%29%3B%0A%0A%20%20%20%20%20%20%20%20%0A%20%20%20%20%20%20%20%20%20%20%20%20var%20html_d1d79cbcace641adacd2541eeec989cb%20%3D%20%24%28%60%3Cdiv%20id%3D%22html_d1d79cbcace641adacd2541eeec989cb%22%20style%3D%22width%3A%20100.0%25%3B%20height%3A%20100.0%25%3B%22%3E1.%2C%20Innere%20Stadtc%2C%201010%3C/div%3E%60%29%5B0%5D%3B%0A%20%20%20%20%20%20%20%20%20%20%20%20popup_ef63f6e211884ceb8503bccbf9be3bfb.setContent%28html_d1d79cbcace641adacd2541eeec989cb%29%3B%0A%20%20%20%20%20%20%20%20%0A%0A%20%20%20%20%20%20%20%20circle_marker_45dc6563a5804e6aad0c418b5583d73a.bindPopup%28popup_ef63f6e211884ceb8503bccbf9be3bfb%29%0A%20%20%20%20%20%20%20%20%3B%0A%0A%20%20%20%20%20%20%20%20%0A%20%20%20%20%0A%20%20%20%20%0A%20%20%20%20%20%20%20%20%20%20%20%20var%20circle_marker_6405bdc4c4614266911d8ac1402c5a02%20%3D%20L.circleMarker%28%0A%20%20%20%20%20%20%20%20%20%20%20%20%20%20%20%20%5B48.216516%2C%2016.379789000000002%5D%2C%0A%20%20%20%20%20%20%20%20%20%20%20%20%20%20%20%20%7B%22bubblingMouseEvents%22%3A%20true%2C%20%22color%22%3A%20%22yellow%22%2C%20%22dashArray%22%3A%20null%2C%20%22dashOffset%22%3A%20null%2C%20%22fill%22%3A%20true%2C%20%22fillColor%22%3A%20%22%233186cc%22%2C%20%22fillOpacity%22%3A%200.7%2C%20%22fillRule%22%3A%20%22evenodd%22%2C%20%22lineCap%22%3A%20%22round%22%2C%20%22lineJoin%22%3A%20%22round%22%2C%20%22opacity%22%3A%201.0%2C%20%22radius%22%3A%205%2C%20%22stroke%22%3A%20true%2C%20%22weight%22%3A%203%7D%0A%20%20%20%20%20%20%20%20%20%20%20%20%29.addTo%28map_7c9cf4fac5474869bff7690d8723c754%29%3B%0A%20%20%20%20%20%20%20%20%0A%20%20%20%20%0A%20%20%20%20%20%20%20%20var%20popup_c6eeae6f7b6c46bd884a9bd2ff0c3b77%20%3D%20L.popup%28%7B%22maxWidth%22%3A%20%22100%25%22%7D%29%3B%0A%0A%20%20%20%20%20%20%20%20%0A%20%20%20%20%20%20%20%20%20%20%20%20var%20html_0a7a48a137d54deabb4d1e80492ade74%20%3D%20%24%28%60%3Cdiv%20id%3D%22html_0a7a48a137d54deabb4d1e80492ade74%22%20style%3D%22width%3A%20100.0%25%3B%20height%3A%20100.0%25%3B%22%3E2.%2C%20Leopoldstadtc%2C%201020%3C/div%3E%60%29%5B0%5D%3B%0A%20%20%20%20%20%20%20%20%20%20%20%20popup_c6eeae6f7b6c46bd884a9bd2ff0c3b77.setContent%28html_0a7a48a137d54deabb4d1e80492ade74%29%3B%0A%20%20%20%20%20%20%20%20%0A%0A%20%20%20%20%20%20%20%20circle_marker_6405bdc4c4614266911d8ac1402c5a02.bindPopup%28popup_c6eeae6f7b6c46bd884a9bd2ff0c3b77%29%0A%20%20%20%20%20%20%20%20%3B%0A%0A%20%20%20%20%20%20%20%20%0A%20%20%20%20%0A%20%20%20%20%0A%20%20%20%20%20%20%20%20%20%20%20%20var%20circle_marker_472c50674ce44e7599e61c3a26ee332a%20%3D%20L.circleMarker%28%0A%20%20%20%20%20%20%20%20%20%20%20%20%20%20%20%20%5B48.201294%2C%2016.388704999999998%5D%2C%0A%20%20%20%20%20%20%20%20%20%20%20%20%20%20%20%20%7B%22bubblingMouseEvents%22%3A%20true%2C%20%22color%22%3A%20%22yellow%22%2C%20%22dashArray%22%3A%20null%2C%20%22dashOffset%22%3A%20null%2C%20%22fill%22%3A%20true%2C%20%22fillColor%22%3A%20%22%233186cc%22%2C%20%22fillOpacity%22%3A%200.7%2C%20%22fillRule%22%3A%20%22evenodd%22%2C%20%22lineCap%22%3A%20%22round%22%2C%20%22lineJoin%22%3A%20%22round%22%2C%20%22opacity%22%3A%201.0%2C%20%22radius%22%3A%205%2C%20%22stroke%22%3A%20true%2C%20%22weight%22%3A%203%7D%0A%20%20%20%20%20%20%20%20%20%20%20%20%29.addTo%28map_7c9cf4fac5474869bff7690d8723c754%29%3B%0A%20%20%20%20%20%20%20%20%0A%20%20%20%20%0A%20%20%20%20%20%20%20%20var%20popup_d2c447acde3e456e8f9f3f6ef0a98e97%20%3D%20L.popup%28%7B%22maxWidth%22%3A%20%22100%25%22%7D%29%3B%0A%0A%20%20%20%20%20%20%20%20%0A%20%20%20%20%20%20%20%20%20%20%20%20var%20html_e696e3d4500d4d75804dc5028468f394%20%3D%20%24%28%60%3Cdiv%20id%3D%22html_e696e3d4500d4d75804dc5028468f394%22%20style%3D%22width%3A%20100.0%25%3B%20height%3A%20100.0%25%3B%22%3E3.%2C%20Landstra%C3%9Fec%2C%201030%3C/div%3E%60%29%5B0%5D%3B%0A%20%20%20%20%20%20%20%20%20%20%20%20popup_d2c447acde3e456e8f9f3f6ef0a98e97.setContent%28html_e696e3d4500d4d75804dc5028468f394%29%3B%0A%20%20%20%20%20%20%20%20%0A%0A%20%20%20%20%20%20%20%20circle_marker_472c50674ce44e7599e61c3a26ee332a.bindPopup%28popup_d2c447acde3e456e8f9f3f6ef0a98e97%29%0A%20%20%20%20%20%20%20%20%3B%0A%0A%20%20%20%20%20%20%20%20%0A%20%20%20%20%0A%20%20%20%20%0A%20%20%20%20%20%20%20%20%20%20%20%20var%20circle_marker_4dcf70a7401c470b99c00db7b260b58d%20%3D%20L.circleMarker%28%0A%20%20%20%20%20%20%20%20%20%20%20%20%20%20%20%20%5B48.194303999999995%2C%2016.369751%5D%2C%0A%20%20%20%20%20%20%20%20%20%20%20%20%20%20%20%20%7B%22bubblingMouseEvents%22%3A%20true%2C%20%22color%22%3A%20%22yellow%22%2C%20%22dashArray%22%3A%20null%2C%20%22dashOffset%22%3A%20null%2C%20%22fill%22%3A%20true%2C%20%22fillColor%22%3A%20%22%233186cc%22%2C%20%22fillOpacity%22%3A%200.7%2C%20%22fillRule%22%3A%20%22evenodd%22%2C%20%22lineCap%22%3A%20%22round%22%2C%20%22lineJoin%22%3A%20%22round%22%2C%20%22opacity%22%3A%201.0%2C%20%22radius%22%3A%205%2C%20%22stroke%22%3A%20true%2C%20%22weight%22%3A%203%7D%0A%20%20%20%20%20%20%20%20%20%20%20%20%29.addTo%28map_7c9cf4fac5474869bff7690d8723c754%29%3B%0A%20%20%20%20%20%20%20%20%0A%20%20%20%20%0A%20%20%20%20%20%20%20%20var%20popup_4b80d4374bd5450ab16011f43ca4e65b%20%3D%20L.popup%28%7B%22maxWidth%22%3A%20%22100%25%22%7D%29%3B%0A%0A%20%20%20%20%20%20%20%20%0A%20%20%20%20%20%20%20%20%20%20%20%20var%20html_422d38fae7a145e393baf9a991606841%20%3D%20%24%28%60%3Cdiv%20id%3D%22html_422d38fae7a145e393baf9a991606841%22%20style%3D%22width%3A%20100.0%25%3B%20height%3A%20100.0%25%3B%22%3E4.%2C%20Wiedenc%2C%201040%3C/div%3E%60%29%5B0%5D%3B%0A%20%20%20%20%20%20%20%20%20%20%20%20popup_4b80d4374bd5450ab16011f43ca4e65b.setContent%28html_422d38fae7a145e393baf9a991606841%29%3B%0A%20%20%20%20%20%20%20%20%0A%0A%20%20%20%20%20%20%20%20circle_marker_4dcf70a7401c470b99c00db7b260b58d.bindPopup%28popup_4b80d4374bd5450ab16011f43ca4e65b%29%0A%20%20%20%20%20%20%20%20%3B%0A%0A%20%20%20%20%20%20%20%20%0A%20%20%20%20%0A%20%20%20%20%0A%20%20%20%20%20%20%20%20%20%20%20%20var%20circle_marker_ac459cec2c384180a92e8161e8d96cd2%20%3D%20L.circleMarker%28%0A%20%20%20%20%20%20%20%20%20%20%20%20%20%20%20%20%5B48.190615%2C%2016.35417%5D%2C%0A%20%20%20%20%20%20%20%20%20%20%20%20%20%20%20%20%7B%22bubblingMouseEvents%22%3A%20true%2C%20%22color%22%3A%20%22yellow%22%2C%20%22dashArray%22%3A%20null%2C%20%22dashOffset%22%3A%20null%2C%20%22fill%22%3A%20true%2C%20%22fillColor%22%3A%20%22%233186cc%22%2C%20%22fillOpacity%22%3A%200.7%2C%20%22fillRule%22%3A%20%22evenodd%22%2C%20%22lineCap%22%3A%20%22round%22%2C%20%22lineJoin%22%3A%20%22round%22%2C%20%22opacity%22%3A%201.0%2C%20%22radius%22%3A%205%2C%20%22stroke%22%3A%20true%2C%20%22weight%22%3A%203%7D%0A%20%20%20%20%20%20%20%20%20%20%20%20%29.addTo%28map_7c9cf4fac5474869bff7690d8723c754%29%3B%0A%20%20%20%20%20%20%20%20%0A%20%20%20%20%0A%20%20%20%20%20%20%20%20var%20popup_5cf85134ce1b458b87bcee0a963bbf17%20%3D%20L.popup%28%7B%22maxWidth%22%3A%20%22100%25%22%7D%29%3B%0A%0A%20%20%20%20%20%20%20%20%0A%20%20%20%20%20%20%20%20%20%20%20%20var%20html_c4d6c04368514aca8fe9d33aae4e701e%20%3D%20%24%28%60%3Cdiv%20id%3D%22html_c4d6c04368514aca8fe9d33aae4e701e%22%20style%3D%22width%3A%20100.0%25%3B%20height%3A%20100.0%25%3B%22%3E5.%2C%20Margaretenc%2C%201050%3C/div%3E%60%29%5B0%5D%3B%0A%20%20%20%20%20%20%20%20%20%20%20%20popup_5cf85134ce1b458b87bcee0a963bbf17.setContent%28html_c4d6c04368514aca8fe9d33aae4e701e%29%3B%0A%20%20%20%20%20%20%20%20%0A%0A%20%20%20%20%20%20%20%20circle_marker_ac459cec2c384180a92e8161e8d96cd2.bindPopup%28popup_5cf85134ce1b458b87bcee0a963bbf17%29%0A%20%20%20%20%20%20%20%20%3B%0A%0A%20%20%20%20%20%20%20%20%0A%20%20%20%20%0A%20%20%20%20%0A%20%20%20%20%20%20%20%20%20%20%20%20var%20circle_marker_697e812d760b4d308c426eb91efbf8fb%20%3D%20L.circleMarker%28%0A%20%20%20%20%20%20%20%20%20%20%20%20%20%20%20%20%5B48.197041%2C%2016.350918%5D%2C%0A%20%20%20%20%20%20%20%20%20%20%20%20%20%20%20%20%7B%22bubblingMouseEvents%22%3A%20true%2C%20%22color%22%3A%20%22yellow%22%2C%20%22dashArray%22%3A%20null%2C%20%22dashOffset%22%3A%20null%2C%20%22fill%22%3A%20true%2C%20%22fillColor%22%3A%20%22%233186cc%22%2C%20%22fillOpacity%22%3A%200.7%2C%20%22fillRule%22%3A%20%22evenodd%22%2C%20%22lineCap%22%3A%20%22round%22%2C%20%22lineJoin%22%3A%20%22round%22%2C%20%22opacity%22%3A%201.0%2C%20%22radius%22%3A%205%2C%20%22stroke%22%3A%20true%2C%20%22weight%22%3A%203%7D%0A%20%20%20%20%20%20%20%20%20%20%20%20%29.addTo%28map_7c9cf4fac5474869bff7690d8723c754%29%3B%0A%20%20%20%20%20%20%20%20%0A%20%20%20%20%0A%20%20%20%20%20%20%20%20var%20popup_19148971a2ad450cbe967b36a8ae61e2%20%3D%20L.popup%28%7B%22maxWidth%22%3A%20%22100%25%22%7D%29%3B%0A%0A%20%20%20%20%20%20%20%20%0A%20%20%20%20%20%20%20%20%20%20%20%20var%20html_0e973ab114f74549b5b6e0f0fa82bcc7%20%3D%20%24%28%60%3Cdiv%20id%3D%22html_0e973ab114f74549b5b6e0f0fa82bcc7%22%20style%3D%22width%3A%20100.0%25%3B%20height%3A%20100.0%25%3B%22%3E6.%2C%20Mariahilfc%2C%201060%3C/div%3E%60%29%5B0%5D%3B%0A%20%20%20%20%20%20%20%20%20%20%20%20popup_19148971a2ad450cbe967b36a8ae61e2.setContent%28html_0e973ab114f74549b5b6e0f0fa82bcc7%29%3B%0A%20%20%20%20%20%20%20%20%0A%0A%20%20%20%20%20%20%20%20circle_marker_697e812d760b4d308c426eb91efbf8fb.bindPopup%28popup_19148971a2ad450cbe967b36a8ae61e2%29%0A%20%20%20%20%20%20%20%20%3B%0A%0A%20%20%20%20%20%20%20%20%0A%20%20%20%20%0A%20%20%20%20%0A%20%20%20%20%20%20%20%20%20%20%20%20var%20circle_marker_9da2198014ce4f4a9d559ef57000854c%20%3D%20L.circleMarker%28%0A%20%20%20%20%20%20%20%20%20%20%20%20%20%20%20%20%5B48.202847%2C%2016.347003%5D%2C%0A%20%20%20%20%20%20%20%20%20%20%20%20%20%20%20%20%7B%22bubblingMouseEvents%22%3A%20true%2C%20%22color%22%3A%20%22yellow%22%2C%20%22dashArray%22%3A%20null%2C%20%22dashOffset%22%3A%20null%2C%20%22fill%22%3A%20true%2C%20%22fillColor%22%3A%20%22%233186cc%22%2C%20%22fillOpacity%22%3A%200.7%2C%20%22fillRule%22%3A%20%22evenodd%22%2C%20%22lineCap%22%3A%20%22round%22%2C%20%22lineJoin%22%3A%20%22round%22%2C%20%22opacity%22%3A%201.0%2C%20%22radius%22%3A%205%2C%20%22stroke%22%3A%20true%2C%20%22weight%22%3A%203%7D%0A%20%20%20%20%20%20%20%20%20%20%20%20%29.addTo%28map_7c9cf4fac5474869bff7690d8723c754%29%3B%0A%20%20%20%20%20%20%20%20%0A%20%20%20%20%0A%20%20%20%20%20%20%20%20var%20popup_ed10fd69a3a24f08a660b6cf3e915609%20%3D%20L.popup%28%7B%22maxWidth%22%3A%20%22100%25%22%7D%29%3B%0A%0A%20%20%20%20%20%20%20%20%0A%20%20%20%20%20%20%20%20%20%20%20%20var%20html_35ae90fc2f664e6da43310220b4b4023%20%3D%20%24%28%60%3Cdiv%20id%3D%22html_35ae90fc2f664e6da43310220b4b4023%22%20style%3D%22width%3A%20100.0%25%3B%20height%3A%20100.0%25%3B%22%3E7.%2C%20Neubauc%2C%201070%3C/div%3E%60%29%5B0%5D%3B%0A%20%20%20%20%20%20%20%20%20%20%20%20popup_ed10fd69a3a24f08a660b6cf3e915609.setContent%28html_35ae90fc2f664e6da43310220b4b4023%29%3B%0A%20%20%20%20%20%20%20%20%0A%0A%20%20%20%20%20%20%20%20circle_marker_9da2198014ce4f4a9d559ef57000854c.bindPopup%28popup_ed10fd69a3a24f08a660b6cf3e915609%29%0A%20%20%20%20%20%20%20%20%3B%0A%0A%20%20%20%20%20%20%20%20%0A%20%20%20%20%0A%20%20%20%20%0A%20%20%20%20%20%20%20%20%20%20%20%20var%20circle_marker_9d5e5449f4244d14aa5db673cc1282da%20%3D%20L.circleMarker%28%0A%20%20%20%20%20%20%20%20%20%20%20%20%20%20%20%20%5B48.212639%2C%2016.346747%5D%2C%0A%20%20%20%20%20%20%20%20%20%20%20%20%20%20%20%20%7B%22bubblingMouseEvents%22%3A%20true%2C%20%22color%22%3A%20%22yellow%22%2C%20%22dashArray%22%3A%20null%2C%20%22dashOffset%22%3A%20null%2C%20%22fill%22%3A%20true%2C%20%22fillColor%22%3A%20%22%233186cc%22%2C%20%22fillOpacity%22%3A%200.7%2C%20%22fillRule%22%3A%20%22evenodd%22%2C%20%22lineCap%22%3A%20%22round%22%2C%20%22lineJoin%22%3A%20%22round%22%2C%20%22opacity%22%3A%201.0%2C%20%22radius%22%3A%205%2C%20%22stroke%22%3A%20true%2C%20%22weight%22%3A%203%7D%0A%20%20%20%20%20%20%20%20%20%20%20%20%29.addTo%28map_7c9cf4fac5474869bff7690d8723c754%29%3B%0A%20%20%20%20%20%20%20%20%0A%20%20%20%20%0A%20%20%20%20%20%20%20%20var%20popup_dcde9f86a957467c97ec4506c180eba7%20%3D%20L.popup%28%7B%22maxWidth%22%3A%20%22100%25%22%7D%29%3B%0A%0A%20%20%20%20%20%20%20%20%0A%20%20%20%20%20%20%20%20%20%20%20%20var%20html_2f5e9e202f4648af95d70bdfa30b88ea%20%3D%20%24%28%60%3Cdiv%20id%3D%22html_2f5e9e202f4648af95d70bdfa30b88ea%22%20style%3D%22width%3A%20100.0%25%3B%20height%3A%20100.0%25%3B%22%3E8.%2C%20Josefstadtc%2C%201080%3C/div%3E%60%29%5B0%5D%3B%0A%20%20%20%20%20%20%20%20%20%20%20%20popup_dcde9f86a957467c97ec4506c180eba7.setContent%28html_2f5e9e202f4648af95d70bdfa30b88ea%29%3B%0A%20%20%20%20%20%20%20%20%0A%0A%20%20%20%20%20%20%20%20circle_marker_9d5e5449f4244d14aa5db673cc1282da.bindPopup%28popup_dcde9f86a957467c97ec4506c180eba7%29%0A%20%20%20%20%20%20%20%20%3B%0A%0A%20%20%20%20%20%20%20%20%0A%20%20%20%20%0A%20%20%20%20%0A%20%20%20%20%20%20%20%20%20%20%20%20var%20circle_marker_d46c1096ba184e24b80a732c4e29fee3%20%3D%20L.circleMarker%28%0A%20%20%20%20%20%20%20%20%20%20%20%20%20%20%20%20%5B48.221133%2C%2016.354741%5D%2C%0A%20%20%20%20%20%20%20%20%20%20%20%20%20%20%20%20%7B%22bubblingMouseEvents%22%3A%20true%2C%20%22color%22%3A%20%22yellow%22%2C%20%22dashArray%22%3A%20null%2C%20%22dashOffset%22%3A%20null%2C%20%22fill%22%3A%20true%2C%20%22fillColor%22%3A%20%22%233186cc%22%2C%20%22fillOpacity%22%3A%200.7%2C%20%22fillRule%22%3A%20%22evenodd%22%2C%20%22lineCap%22%3A%20%22round%22%2C%20%22lineJoin%22%3A%20%22round%22%2C%20%22opacity%22%3A%201.0%2C%20%22radius%22%3A%205%2C%20%22stroke%22%3A%20true%2C%20%22weight%22%3A%203%7D%0A%20%20%20%20%20%20%20%20%20%20%20%20%29.addTo%28map_7c9cf4fac5474869bff7690d8723c754%29%3B%0A%20%20%20%20%20%20%20%20%0A%20%20%20%20%0A%20%20%20%20%20%20%20%20var%20popup_1a9efc44d00f417b8d804ab44ce0c485%20%3D%20L.popup%28%7B%22maxWidth%22%3A%20%22100%25%22%7D%29%3B%0A%0A%20%20%20%20%20%20%20%20%0A%20%20%20%20%20%20%20%20%20%20%20%20var%20html_fedff1d0669e4e4289b3373ea0c6fdf0%20%3D%20%24%28%60%3Cdiv%20id%3D%22html_fedff1d0669e4e4289b3373ea0c6fdf0%22%20style%3D%22width%3A%20100.0%25%3B%20height%3A%20100.0%25%3B%22%3E9.%2C%20Alsergrundc%2C%201090%3C/div%3E%60%29%5B0%5D%3B%0A%20%20%20%20%20%20%20%20%20%20%20%20popup_1a9efc44d00f417b8d804ab44ce0c485.setContent%28html_fedff1d0669e4e4289b3373ea0c6fdf0%29%3B%0A%20%20%20%20%20%20%20%20%0A%0A%20%20%20%20%20%20%20%20circle_marker_d46c1096ba184e24b80a732c4e29fee3.bindPopup%28popup_1a9efc44d00f417b8d804ab44ce0c485%29%0A%20%20%20%20%20%20%20%20%3B%0A%0A%20%20%20%20%20%20%20%20%0A%20%20%20%20%0A%20%20%20%20%0A%20%20%20%20%20%20%20%20%20%20%20%20var%20circle_marker_02c7323d76514ee585ce690c39bef69b%20%3D%20L.circleMarker%28%0A%20%20%20%20%20%20%20%20%20%20%20%20%20%20%20%20%5B48.178492999999996%2C%2016.374804%5D%2C%0A%20%20%20%20%20%20%20%20%20%20%20%20%20%20%20%20%7B%22bubblingMouseEvents%22%3A%20true%2C%20%22color%22%3A%20%22yellow%22%2C%20%22dashArray%22%3A%20null%2C%20%22dashOffset%22%3A%20null%2C%20%22fill%22%3A%20true%2C%20%22fillColor%22%3A%20%22%233186cc%22%2C%20%22fillOpacity%22%3A%200.7%2C%20%22fillRule%22%3A%20%22evenodd%22%2C%20%22lineCap%22%3A%20%22round%22%2C%20%22lineJoin%22%3A%20%22round%22%2C%20%22opacity%22%3A%201.0%2C%20%22radius%22%3A%205%2C%20%22stroke%22%3A%20true%2C%20%22weight%22%3A%203%7D%0A%20%20%20%20%20%20%20%20%20%20%20%20%29.addTo%28map_7c9cf4fac5474869bff7690d8723c754%29%3B%0A%20%20%20%20%20%20%20%20%0A%20%20%20%20%0A%20%20%20%20%20%20%20%20var%20popup_64947ad7d3fd4cc9b581038721d7a81b%20%3D%20L.popup%28%7B%22maxWidth%22%3A%20%22100%25%22%7D%29%3B%0A%0A%20%20%20%20%20%20%20%20%0A%20%20%20%20%20%20%20%20%20%20%20%20var%20html_8b6a9d3c123c4cfd9f02575c75a37886%20%3D%20%24%28%60%3Cdiv%20id%3D%22html_8b6a9d3c123c4cfd9f02575c75a37886%22%20style%3D%22width%3A%20100.0%25%3B%20height%3A%20100.0%25%3B%22%3E10.%2C%20Favoritenc%2C%201100%3C/div%3E%60%29%5B0%5D%3B%0A%20%20%20%20%20%20%20%20%20%20%20%20popup_64947ad7d3fd4cc9b581038721d7a81b.setContent%28html_8b6a9d3c123c4cfd9f02575c75a37886%29%3B%0A%20%20%20%20%20%20%20%20%0A%0A%20%20%20%20%20%20%20%20circle_marker_02c7323d76514ee585ce690c39bef69b.bindPopup%28popup_64947ad7d3fd4cc9b581038721d7a81b%29%0A%20%20%20%20%20%20%20%20%3B%0A%0A%20%20%20%20%20%20%20%20%0A%20%20%20%20%0A%20%20%20%20%0A%20%20%20%20%20%20%20%20%20%20%20%20var%20circle_marker_5ac908012f134810a5d17dfb52205cb5%20%3D%20L.circleMarker%28%0A%20%20%20%20%20%20%20%20%20%20%20%20%20%20%20%20%5B48.17518%2C%2016.412319%5D%2C%0A%20%20%20%20%20%20%20%20%20%20%20%20%20%20%20%20%7B%22bubblingMouseEvents%22%3A%20true%2C%20%22color%22%3A%20%22yellow%22%2C%20%22dashArray%22%3A%20null%2C%20%22dashOffset%22%3A%20null%2C%20%22fill%22%3A%20true%2C%20%22fillColor%22%3A%20%22%233186cc%22%2C%20%22fillOpacity%22%3A%200.7%2C%20%22fillRule%22%3A%20%22evenodd%22%2C%20%22lineCap%22%3A%20%22round%22%2C%20%22lineJoin%22%3A%20%22round%22%2C%20%22opacity%22%3A%201.0%2C%20%22radius%22%3A%205%2C%20%22stroke%22%3A%20true%2C%20%22weight%22%3A%203%7D%0A%20%20%20%20%20%20%20%20%20%20%20%20%29.addTo%28map_7c9cf4fac5474869bff7690d8723c754%29%3B%0A%20%20%20%20%20%20%20%20%0A%20%20%20%20%0A%20%20%20%20%20%20%20%20var%20popup_7d90f27f053d4d059c18364411193469%20%3D%20L.popup%28%7B%22maxWidth%22%3A%20%22100%25%22%7D%29%3B%0A%0A%20%20%20%20%20%20%20%20%0A%20%20%20%20%20%20%20%20%20%20%20%20var%20html_b0b94d3a797947fe92dc1a96a43fcfca%20%3D%20%24%28%60%3Cdiv%20id%3D%22html_b0b94d3a797947fe92dc1a96a43fcfca%22%20style%3D%22width%3A%20100.0%25%3B%20height%3A%20100.0%25%3B%22%3E11.%2C%20Simmeringc%2C%201110%3C/div%3E%60%29%5B0%5D%3B%0A%20%20%20%20%20%20%20%20%20%20%20%20popup_7d90f27f053d4d059c18364411193469.setContent%28html_b0b94d3a797947fe92dc1a96a43fcfca%29%3B%0A%20%20%20%20%20%20%20%20%0A%0A%20%20%20%20%20%20%20%20circle_marker_5ac908012f134810a5d17dfb52205cb5.bindPopup%28popup_7d90f27f053d4d059c18364411193469%29%0A%20%20%20%20%20%20%20%20%3B%0A%0A%20%20%20%20%20%20%20%20%0A%20%20%20%20%0A%20%20%20%20%0A%20%20%20%20%20%20%20%20%20%20%20%20var%20circle_marker_8f09edb384bc418e8bcb6ea841fe1da3%20%3D%20L.circleMarker%28%0A%20%20%20%20%20%20%20%20%20%20%20%20%20%20%20%20%5B48.183116%2C%2016.329163%5D%2C%0A%20%20%20%20%20%20%20%20%20%20%20%20%20%20%20%20%7B%22bubblingMouseEvents%22%3A%20true%2C%20%22color%22%3A%20%22yellow%22%2C%20%22dashArray%22%3A%20null%2C%20%22dashOffset%22%3A%20null%2C%20%22fill%22%3A%20true%2C%20%22fillColor%22%3A%20%22%233186cc%22%2C%20%22fillOpacity%22%3A%200.7%2C%20%22fillRule%22%3A%20%22evenodd%22%2C%20%22lineCap%22%3A%20%22round%22%2C%20%22lineJoin%22%3A%20%22round%22%2C%20%22opacity%22%3A%201.0%2C%20%22radius%22%3A%205%2C%20%22stroke%22%3A%20true%2C%20%22weight%22%3A%203%7D%0A%20%20%20%20%20%20%20%20%20%20%20%20%29.addTo%28map_7c9cf4fac5474869bff7690d8723c754%29%3B%0A%20%20%20%20%20%20%20%20%0A%20%20%20%20%0A%20%20%20%20%20%20%20%20var%20popup_476e8e637153407d841952f23edc2167%20%3D%20L.popup%28%7B%22maxWidth%22%3A%20%22100%25%22%7D%29%3B%0A%0A%20%20%20%20%20%20%20%20%0A%20%20%20%20%20%20%20%20%20%20%20%20var%20html_4bb8b70da20947078e020fb7d144f49c%20%3D%20%24%28%60%3Cdiv%20id%3D%22html_4bb8b70da20947078e020fb7d144f49c%22%20style%3D%22width%3A%20100.0%25%3B%20height%3A%20100.0%25%3B%22%3E12.%2C%20Meidlingc%2C%201120%3C/div%3E%60%29%5B0%5D%3B%0A%20%20%20%20%20%20%20%20%20%20%20%20popup_476e8e637153407d841952f23edc2167.setContent%28html_4bb8b70da20947078e020fb7d144f49c%29%3B%0A%20%20%20%20%20%20%20%20%0A%0A%20%20%20%20%20%20%20%20circle_marker_8f09edb384bc418e8bcb6ea841fe1da3.bindPopup%28popup_476e8e637153407d841952f23edc2167%29%0A%20%20%20%20%20%20%20%20%3B%0A%0A%20%20%20%20%20%20%20%20%0A%20%20%20%20%0A%20%20%20%20%0A%20%20%20%20%20%20%20%20%20%20%20%20var%20circle_marker_e8115c76c2dd44018d725166d7c79bae%20%3D%20L.circleMarker%28%0A%20%20%20%20%20%20%20%20%20%20%20%20%20%20%20%20%5B48.188226%2C%2016.300459%5D%2C%0A%20%20%20%20%20%20%20%20%20%20%20%20%20%20%20%20%7B%22bubblingMouseEvents%22%3A%20true%2C%20%22color%22%3A%20%22yellow%22%2C%20%22dashArray%22%3A%20null%2C%20%22dashOffset%22%3A%20null%2C%20%22fill%22%3A%20true%2C%20%22fillColor%22%3A%20%22%233186cc%22%2C%20%22fillOpacity%22%3A%200.7%2C%20%22fillRule%22%3A%20%22evenodd%22%2C%20%22lineCap%22%3A%20%22round%22%2C%20%22lineJoin%22%3A%20%22round%22%2C%20%22opacity%22%3A%201.0%2C%20%22radius%22%3A%205%2C%20%22stroke%22%3A%20true%2C%20%22weight%22%3A%203%7D%0A%20%20%20%20%20%20%20%20%20%20%20%20%29.addTo%28map_7c9cf4fac5474869bff7690d8723c754%29%3B%0A%20%20%20%20%20%20%20%20%0A%20%20%20%20%0A%20%20%20%20%20%20%20%20var%20popup_54cfa474c1be4e259796bb769f02bfaa%20%3D%20L.popup%28%7B%22maxWidth%22%3A%20%22100%25%22%7D%29%3B%0A%0A%20%20%20%20%20%20%20%20%0A%20%20%20%20%20%20%20%20%20%20%20%20var%20html_69129543b85a47e4a1f9099aa57cd317%20%3D%20%24%28%60%3Cdiv%20id%3D%22html_69129543b85a47e4a1f9099aa57cd317%22%20style%3D%22width%3A%20100.0%25%3B%20height%3A%20100.0%25%3B%22%3E13.%2C%20Hietzingc%2C%201130%3C/div%3E%60%29%5B0%5D%3B%0A%20%20%20%20%20%20%20%20%20%20%20%20popup_54cfa474c1be4e259796bb769f02bfaa.setContent%28html_69129543b85a47e4a1f9099aa57cd317%29%3B%0A%20%20%20%20%20%20%20%20%0A%0A%20%20%20%20%20%20%20%20circle_marker_e8115c76c2dd44018d725166d7c79bae.bindPopup%28popup_54cfa474c1be4e259796bb769f02bfaa%29%0A%20%20%20%20%20%20%20%20%3B%0A%0A%20%20%20%20%20%20%20%20%0A%20%20%20%20%0A%20%20%20%20%0A%20%20%20%20%20%20%20%20%20%20%20%20var%20circle_marker_c4e243210c0543a381582b93c59d0dd9%20%3D%20L.circleMarker%28%0A%20%20%20%20%20%20%20%20%20%20%20%20%20%20%20%20%5B48.197241%2C%2016.285466%5D%2C%0A%20%20%20%20%20%20%20%20%20%20%20%20%20%20%20%20%7B%22bubblingMouseEvents%22%3A%20true%2C%20%22color%22%3A%20%22yellow%22%2C%20%22dashArray%22%3A%20null%2C%20%22dashOffset%22%3A%20null%2C%20%22fill%22%3A%20true%2C%20%22fillColor%22%3A%20%22%233186cc%22%2C%20%22fillOpacity%22%3A%200.7%2C%20%22fillRule%22%3A%20%22evenodd%22%2C%20%22lineCap%22%3A%20%22round%22%2C%20%22lineJoin%22%3A%20%22round%22%2C%20%22opacity%22%3A%201.0%2C%20%22radius%22%3A%205%2C%20%22stroke%22%3A%20true%2C%20%22weight%22%3A%203%7D%0A%20%20%20%20%20%20%20%20%20%20%20%20%29.addTo%28map_7c9cf4fac5474869bff7690d8723c754%29%3B%0A%20%20%20%20%20%20%20%20%0A%20%20%20%20%0A%20%20%20%20%20%20%20%20var%20popup_2ccb4089720d4142bfe063c486650632%20%3D%20L.popup%28%7B%22maxWidth%22%3A%20%22100%25%22%7D%29%3B%0A%0A%20%20%20%20%20%20%20%20%0A%20%20%20%20%20%20%20%20%20%20%20%20var%20html_83713b429a4d4ef38c5cdc2c5948075c%20%3D%20%24%28%60%3Cdiv%20id%3D%22html_83713b429a4d4ef38c5cdc2c5948075c%22%20style%3D%22width%3A%20100.0%25%3B%20height%3A%20100.0%25%3B%22%3E14.%2C%20Penzingc%2C%201140%3C/div%3E%60%29%5B0%5D%3B%0A%20%20%20%20%20%20%20%20%20%20%20%20popup_2ccb4089720d4142bfe063c486650632.setContent%28html_83713b429a4d4ef38c5cdc2c5948075c%29%3B%0A%20%20%20%20%20%20%20%20%0A%0A%20%20%20%20%20%20%20%20circle_marker_c4e243210c0543a381582b93c59d0dd9.bindPopup%28popup_2ccb4089720d4142bfe063c486650632%29%0A%20%20%20%20%20%20%20%20%3B%0A%0A%20%20%20%20%20%20%20%20%0A%20%20%20%20%0A%20%20%20%20%0A%20%20%20%20%20%20%20%20%20%20%20%20var%20circle_marker_952931f51f114821be3e6e52d4f30b6c%20%3D%20L.circleMarker%28%0A%20%20%20%20%20%20%20%20%20%20%20%20%20%20%20%20%5B48.194142%2C%2016.333661%5D%2C%0A%20%20%20%20%20%20%20%20%20%20%20%20%20%20%20%20%7B%22bubblingMouseEvents%22%3A%20true%2C%20%22color%22%3A%20%22yellow%22%2C%20%22dashArray%22%3A%20null%2C%20%22dashOffset%22%3A%20null%2C%20%22fill%22%3A%20true%2C%20%22fillColor%22%3A%20%22%233186cc%22%2C%20%22fillOpacity%22%3A%200.7%2C%20%22fillRule%22%3A%20%22evenodd%22%2C%20%22lineCap%22%3A%20%22round%22%2C%20%22lineJoin%22%3A%20%22round%22%2C%20%22opacity%22%3A%201.0%2C%20%22radius%22%3A%205%2C%20%22stroke%22%3A%20true%2C%20%22weight%22%3A%203%7D%0A%20%20%20%20%20%20%20%20%20%20%20%20%29.addTo%28map_7c9cf4fac5474869bff7690d8723c754%29%3B%0A%20%20%20%20%20%20%20%20%0A%20%20%20%20%0A%20%20%20%20%20%20%20%20var%20popup_420f29dbe23f4309a41d8ad716059f87%20%3D%20L.popup%28%7B%22maxWidth%22%3A%20%22100%25%22%7D%29%3B%0A%0A%20%20%20%20%20%20%20%20%0A%20%20%20%20%20%20%20%20%20%20%20%20var%20html_640ee7a88b8441058202a6f03e9a7e9c%20%3D%20%24%28%60%3Cdiv%20id%3D%22html_640ee7a88b8441058202a6f03e9a7e9c%22%20style%3D%22width%3A%20100.0%25%3B%20height%3A%20100.0%25%3B%22%3E15.%2C%20Rudolfsheim-F%C3%BCnfhausc%2C%201150%3C/div%3E%60%29%5B0%5D%3B%0A%20%20%20%20%20%20%20%20%20%20%20%20popup_420f29dbe23f4309a41d8ad716059f87.setContent%28html_640ee7a88b8441058202a6f03e9a7e9c%29%3B%0A%20%20%20%20%20%20%20%20%0A%0A%20%20%20%20%20%20%20%20circle_marker_952931f51f114821be3e6e52d4f30b6c.bindPopup%28popup_420f29dbe23f4309a41d8ad716059f87%29%0A%20%20%20%20%20%20%20%20%3B%0A%0A%20%20%20%20%20%20%20%20%0A%20%20%20%20%0A%20%20%20%20%0A%20%20%20%20%20%20%20%20%20%20%20%20var%20circle_marker_5880b077d00c418da3b2ee0b75a78ceb%20%3D%20L.circleMarker%28%0A%20%20%20%20%20%20%20%20%20%20%20%20%20%20%20%20%5B48.209344%2C%2016.327269%5D%2C%0A%20%20%20%20%20%20%20%20%20%20%20%20%20%20%20%20%7B%22bubblingMouseEvents%22%3A%20true%2C%20%22color%22%3A%20%22yellow%22%2C%20%22dashArray%22%3A%20null%2C%20%22dashOffset%22%3A%20null%2C%20%22fill%22%3A%20true%2C%20%22fillColor%22%3A%20%22%233186cc%22%2C%20%22fillOpacity%22%3A%200.7%2C%20%22fillRule%22%3A%20%22evenodd%22%2C%20%22lineCap%22%3A%20%22round%22%2C%20%22lineJoin%22%3A%20%22round%22%2C%20%22opacity%22%3A%201.0%2C%20%22radius%22%3A%205%2C%20%22stroke%22%3A%20true%2C%20%22weight%22%3A%203%7D%0A%20%20%20%20%20%20%20%20%20%20%20%20%29.addTo%28map_7c9cf4fac5474869bff7690d8723c754%29%3B%0A%20%20%20%20%20%20%20%20%0A%20%20%20%20%0A%20%20%20%20%20%20%20%20var%20popup_47f69f51f21b4cdb8e5637beb2676aa0%20%3D%20L.popup%28%7B%22maxWidth%22%3A%20%22100%25%22%7D%29%3B%0A%0A%20%20%20%20%20%20%20%20%0A%20%20%20%20%20%20%20%20%20%20%20%20var%20html_395d980e862f42bc86a4dc7be0d320a0%20%3D%20%24%28%60%3Cdiv%20id%3D%22html_395d980e862f42bc86a4dc7be0d320a0%22%20style%3D%22width%3A%20100.0%25%3B%20height%3A%20100.0%25%3B%22%3E16.%2C%20Ottakringc%2C%201160%3C/div%3E%60%29%5B0%5D%3B%0A%20%20%20%20%20%20%20%20%20%20%20%20popup_47f69f51f21b4cdb8e5637beb2676aa0.setContent%28html_395d980e862f42bc86a4dc7be0d320a0%29%3B%0A%20%20%20%20%20%20%20%20%0A%0A%20%20%20%20%20%20%20%20circle_marker_5880b077d00c418da3b2ee0b75a78ceb.bindPopup%28popup_47f69f51f21b4cdb8e5637beb2676aa0%29%0A%20%20%20%20%20%20%20%20%3B%0A%0A%20%20%20%20%20%20%20%20%0A%20%20%20%20%0A%20%20%20%20%0A%20%20%20%20%20%20%20%20%20%20%20%20var%20circle_marker_1d72b59bd3e4496da24428cd7bbb6997%20%3D%20L.circleMarker%28%0A%20%20%20%20%20%20%20%20%20%20%20%20%20%20%20%20%5B48.218361%2C%2016.332048999999998%5D%2C%0A%20%20%20%20%20%20%20%20%20%20%20%20%20%20%20%20%7B%22bubblingMouseEvents%22%3A%20true%2C%20%22color%22%3A%20%22yellow%22%2C%20%22dashArray%22%3A%20null%2C%20%22dashOffset%22%3A%20null%2C%20%22fill%22%3A%20true%2C%20%22fillColor%22%3A%20%22%233186cc%22%2C%20%22fillOpacity%22%3A%200.7%2C%20%22fillRule%22%3A%20%22evenodd%22%2C%20%22lineCap%22%3A%20%22round%22%2C%20%22lineJoin%22%3A%20%22round%22%2C%20%22opacity%22%3A%201.0%2C%20%22radius%22%3A%205%2C%20%22stroke%22%3A%20true%2C%20%22weight%22%3A%203%7D%0A%20%20%20%20%20%20%20%20%20%20%20%20%29.addTo%28map_7c9cf4fac5474869bff7690d8723c754%29%3B%0A%20%20%20%20%20%20%20%20%0A%20%20%20%20%0A%20%20%20%20%20%20%20%20var%20popup_c8368e6220b34628bbbc92f556364725%20%3D%20L.popup%28%7B%22maxWidth%22%3A%20%22100%25%22%7D%29%3B%0A%0A%20%20%20%20%20%20%20%20%0A%20%20%20%20%20%20%20%20%20%20%20%20var%20html_fee0e9c538134817aa1a17b28446aaa4%20%3D%20%24%28%60%3Cdiv%20id%3D%22html_fee0e9c538134817aa1a17b28446aaa4%22%20style%3D%22width%3A%20100.0%25%3B%20height%3A%20100.0%25%3B%22%3E17.%2C%20Hernalsc%2C%201170%3C/div%3E%60%29%5B0%5D%3B%0A%20%20%20%20%20%20%20%20%20%20%20%20popup_c8368e6220b34628bbbc92f556364725.setContent%28html_fee0e9c538134817aa1a17b28446aaa4%29%3B%0A%20%20%20%20%20%20%20%20%0A%0A%20%20%20%20%20%20%20%20circle_marker_1d72b59bd3e4496da24428cd7bbb6997.bindPopup%28popup_c8368e6220b34628bbbc92f556364725%29%0A%20%20%20%20%20%20%20%20%3B%0A%0A%20%20%20%20%20%20%20%20%0A%20%20%20%20%0A%20%20%20%20%0A%20%20%20%20%20%20%20%20%20%20%20%20var%20circle_marker_98b33f671bf646e28d217143394cb4d5%20%3D%20L.circleMarker%28%0A%20%20%20%20%20%20%20%20%20%20%20%20%20%20%20%20%5B48.226844%2C%2016.342426%5D%2C%0A%20%20%20%20%20%20%20%20%20%20%20%20%20%20%20%20%7B%22bubblingMouseEvents%22%3A%20true%2C%20%22color%22%3A%20%22yellow%22%2C%20%22dashArray%22%3A%20null%2C%20%22dashOffset%22%3A%20null%2C%20%22fill%22%3A%20true%2C%20%22fillColor%22%3A%20%22%233186cc%22%2C%20%22fillOpacity%22%3A%200.7%2C%20%22fillRule%22%3A%20%22evenodd%22%2C%20%22lineCap%22%3A%20%22round%22%2C%20%22lineJoin%22%3A%20%22round%22%2C%20%22opacity%22%3A%201.0%2C%20%22radius%22%3A%205%2C%20%22stroke%22%3A%20true%2C%20%22weight%22%3A%203%7D%0A%20%20%20%20%20%20%20%20%20%20%20%20%29.addTo%28map_7c9cf4fac5474869bff7690d8723c754%29%3B%0A%20%20%20%20%20%20%20%20%0A%20%20%20%20%0A%20%20%20%20%20%20%20%20var%20popup_1345b58090154314b136b6446b604a52%20%3D%20L.popup%28%7B%22maxWidth%22%3A%20%22100%25%22%7D%29%3B%0A%0A%20%20%20%20%20%20%20%20%0A%20%20%20%20%20%20%20%20%20%20%20%20var%20html_cf517459d3194d8eade572011a292729%20%3D%20%24%28%60%3Cdiv%20id%3D%22html_cf517459d3194d8eade572011a292729%22%20style%3D%22width%3A%20100.0%25%3B%20height%3A%20100.0%25%3B%22%3E18.%2C%20W%C3%A4hringc%2C%201180%3C/div%3E%60%29%5B0%5D%3B%0A%20%20%20%20%20%20%20%20%20%20%20%20popup_1345b58090154314b136b6446b604a52.setContent%28html_cf517459d3194d8eade572011a292729%29%3B%0A%20%20%20%20%20%20%20%20%0A%0A%20%20%20%20%20%20%20%20circle_marker_98b33f671bf646e28d217143394cb4d5.bindPopup%28popup_1345b58090154314b136b6446b604a52%29%0A%20%20%20%20%20%20%20%20%3B%0A%0A%20%20%20%20%20%20%20%20%0A%20%20%20%20%0A%20%20%20%20%0A%20%20%20%20%20%20%20%20%20%20%20%20var%20circle_marker_9a042fe6e9b24a3bb95914cfbd2a0b30%20%3D%20L.circleMarker%28%0A%20%20%20%20%20%20%20%20%20%20%20%20%20%20%20%20%5B48.246244%2C%2016.343022%5D%2C%0A%20%20%20%20%20%20%20%20%20%20%20%20%20%20%20%20%7B%22bubblingMouseEvents%22%3A%20true%2C%20%22color%22%3A%20%22yellow%22%2C%20%22dashArray%22%3A%20null%2C%20%22dashOffset%22%3A%20null%2C%20%22fill%22%3A%20true%2C%20%22fillColor%22%3A%20%22%233186cc%22%2C%20%22fillOpacity%22%3A%200.7%2C%20%22fillRule%22%3A%20%22evenodd%22%2C%20%22lineCap%22%3A%20%22round%22%2C%20%22lineJoin%22%3A%20%22round%22%2C%20%22opacity%22%3A%201.0%2C%20%22radius%22%3A%205%2C%20%22stroke%22%3A%20true%2C%20%22weight%22%3A%203%7D%0A%20%20%20%20%20%20%20%20%20%20%20%20%29.addTo%28map_7c9cf4fac5474869bff7690d8723c754%29%3B%0A%20%20%20%20%20%20%20%20%0A%20%20%20%20%0A%20%20%20%20%20%20%20%20var%20popup_c9325da376474901af721f42936a85e3%20%3D%20L.popup%28%7B%22maxWidth%22%3A%20%22100%25%22%7D%29%3B%0A%0A%20%20%20%20%20%20%20%20%0A%20%20%20%20%20%20%20%20%20%20%20%20var%20html_5cc56eddcf8b4426bd76fdc0e9f62a0e%20%3D%20%24%28%60%3Cdiv%20id%3D%22html_5cc56eddcf8b4426bd76fdc0e9f62a0e%22%20style%3D%22width%3A%20100.0%25%3B%20height%3A%20100.0%25%3B%22%3E19.%2C%20D%C3%B6blingc%2C%201190%3C/div%3E%60%29%5B0%5D%3B%0A%20%20%20%20%20%20%20%20%20%20%20%20popup_c9325da376474901af721f42936a85e3.setContent%28html_5cc56eddcf8b4426bd76fdc0e9f62a0e%29%3B%0A%20%20%20%20%20%20%20%20%0A%0A%20%20%20%20%20%20%20%20circle_marker_9a042fe6e9b24a3bb95914cfbd2a0b30.bindPopup%28popup_c9325da376474901af721f42936a85e3%29%0A%20%20%20%20%20%20%20%20%3B%0A%0A%20%20%20%20%20%20%20%20%0A%20%20%20%20%0A%20%20%20%20%0A%20%20%20%20%20%20%20%20%20%20%20%20var%20circle_marker_e3af9b0d98954bd9bfd3c25d5d099fed%20%3D%20L.circleMarker%28%0A%20%20%20%20%20%20%20%20%20%20%20%20%20%20%20%20%5B48.233069%2C%2016.370942000000003%5D%2C%0A%20%20%20%20%20%20%20%20%20%20%20%20%20%20%20%20%7B%22bubblingMouseEvents%22%3A%20true%2C%20%22color%22%3A%20%22yellow%22%2C%20%22dashArray%22%3A%20null%2C%20%22dashOffset%22%3A%20null%2C%20%22fill%22%3A%20true%2C%20%22fillColor%22%3A%20%22%233186cc%22%2C%20%22fillOpacity%22%3A%200.7%2C%20%22fillRule%22%3A%20%22evenodd%22%2C%20%22lineCap%22%3A%20%22round%22%2C%20%22lineJoin%22%3A%20%22round%22%2C%20%22opacity%22%3A%201.0%2C%20%22radius%22%3A%205%2C%20%22stroke%22%3A%20true%2C%20%22weight%22%3A%203%7D%0A%20%20%20%20%20%20%20%20%20%20%20%20%29.addTo%28map_7c9cf4fac5474869bff7690d8723c754%29%3B%0A%20%20%20%20%20%20%20%20%0A%20%20%20%20%0A%20%20%20%20%20%20%20%20var%20popup_a5bfe350ed5443528f54851b5e5ae0dd%20%3D%20L.popup%28%7B%22maxWidth%22%3A%20%22100%25%22%7D%29%3B%0A%0A%20%20%20%20%20%20%20%20%0A%20%20%20%20%20%20%20%20%20%20%20%20var%20html_9ea57d7ff851456081425fd44aa32bb4%20%3D%20%24%28%60%3Cdiv%20id%3D%22html_9ea57d7ff851456081425fd44aa32bb4%22%20style%3D%22width%3A%20100.0%25%3B%20height%3A%20100.0%25%3B%22%3E20.%2C%20Brigittenauc%2C%201200%3C/div%3E%60%29%5B0%5D%3B%0A%20%20%20%20%20%20%20%20%20%20%20%20popup_a5bfe350ed5443528f54851b5e5ae0dd.setContent%28html_9ea57d7ff851456081425fd44aa32bb4%29%3B%0A%20%20%20%20%20%20%20%20%0A%0A%20%20%20%20%20%20%20%20circle_marker_e3af9b0d98954bd9bfd3c25d5d099fed.bindPopup%28popup_a5bfe350ed5443528f54851b5e5ae0dd%29%0A%20%20%20%20%20%20%20%20%3B%0A%0A%20%20%20%20%20%20%20%20%0A%20%20%20%20%0A%20%20%20%20%0A%20%20%20%20%20%20%20%20%20%20%20%20var%20circle_marker_251f7af24c26499abd18b1219a5c7e3e%20%3D%20L.circleMarker%28%0A%20%20%20%20%20%20%20%20%20%20%20%20%20%20%20%20%5B48.257754%2C%2016.397285999999998%5D%2C%0A%20%20%20%20%20%20%20%20%20%20%20%20%20%20%20%20%7B%22bubblingMouseEvents%22%3A%20true%2C%20%22color%22%3A%20%22yellow%22%2C%20%22dashArray%22%3A%20null%2C%20%22dashOffset%22%3A%20null%2C%20%22fill%22%3A%20true%2C%20%22fillColor%22%3A%20%22%233186cc%22%2C%20%22fillOpacity%22%3A%200.7%2C%20%22fillRule%22%3A%20%22evenodd%22%2C%20%22lineCap%22%3A%20%22round%22%2C%20%22lineJoin%22%3A%20%22round%22%2C%20%22opacity%22%3A%201.0%2C%20%22radius%22%3A%205%2C%20%22stroke%22%3A%20true%2C%20%22weight%22%3A%203%7D%0A%20%20%20%20%20%20%20%20%20%20%20%20%29.addTo%28map_7c9cf4fac5474869bff7690d8723c754%29%3B%0A%20%20%20%20%20%20%20%20%0A%20%20%20%20%0A%20%20%20%20%20%20%20%20var%20popup_d4dec4fe5cb94fc0843b9da5c722410e%20%3D%20L.popup%28%7B%22maxWidth%22%3A%20%22100%25%22%7D%29%3B%0A%0A%20%20%20%20%20%20%20%20%0A%20%20%20%20%20%20%20%20%20%20%20%20var%20html_cf86fbb0e7424557b54daf48182837df%20%3D%20%24%28%60%3Cdiv%20id%3D%22html_cf86fbb0e7424557b54daf48182837df%22%20style%3D%22width%3A%20100.0%25%3B%20height%3A%20100.0%25%3B%22%3E21.%2C%20Floridsdorfc%2C%201210%3C/div%3E%60%29%5B0%5D%3B%0A%20%20%20%20%20%20%20%20%20%20%20%20popup_d4dec4fe5cb94fc0843b9da5c722410e.setContent%28html_cf86fbb0e7424557b54daf48182837df%29%3B%0A%20%20%20%20%20%20%20%20%0A%0A%20%20%20%20%20%20%20%20circle_marker_251f7af24c26499abd18b1219a5c7e3e.bindPopup%28popup_d4dec4fe5cb94fc0843b9da5c722410e%29%0A%20%20%20%20%20%20%20%20%3B%0A%0A%20%20%20%20%20%20%20%20%0A%20%20%20%20%0A%20%20%20%20%0A%20%20%20%20%20%20%20%20%20%20%20%20var%20circle_marker_e8fc8a04a2db405286e44e573b059d21%20%3D%20L.circleMarker%28%0A%20%20%20%20%20%20%20%20%20%20%20%20%20%20%20%20%5B48.241009000000005%2C%2016.437782000000002%5D%2C%0A%20%20%20%20%20%20%20%20%20%20%20%20%20%20%20%20%7B%22bubblingMouseEvents%22%3A%20true%2C%20%22color%22%3A%20%22yellow%22%2C%20%22dashArray%22%3A%20null%2C%20%22dashOffset%22%3A%20null%2C%20%22fill%22%3A%20true%2C%20%22fillColor%22%3A%20%22%233186cc%22%2C%20%22fillOpacity%22%3A%200.7%2C%20%22fillRule%22%3A%20%22evenodd%22%2C%20%22lineCap%22%3A%20%22round%22%2C%20%22lineJoin%22%3A%20%22round%22%2C%20%22opacity%22%3A%201.0%2C%20%22radius%22%3A%205%2C%20%22stroke%22%3A%20true%2C%20%22weight%22%3A%203%7D%0A%20%20%20%20%20%20%20%20%20%20%20%20%29.addTo%28map_7c9cf4fac5474869bff7690d8723c754%29%3B%0A%20%20%20%20%20%20%20%20%0A%20%20%20%20%0A%20%20%20%20%20%20%20%20var%20popup_5e3e5e4a2bd449ada254de37ad1208b0%20%3D%20L.popup%28%7B%22maxWidth%22%3A%20%22100%25%22%7D%29%3B%0A%0A%20%20%20%20%20%20%20%20%0A%20%20%20%20%20%20%20%20%20%20%20%20var%20html_06f81d0409de4ea398ea150d70417917%20%3D%20%24%28%60%3Cdiv%20id%3D%22html_06f81d0409de4ea398ea150d70417917%22%20style%3D%22width%3A%20100.0%25%3B%20height%3A%20100.0%25%3B%22%3E22.%2C%20Donaustadtc%2C%201220%3C/div%3E%60%29%5B0%5D%3B%0A%20%20%20%20%20%20%20%20%20%20%20%20popup_5e3e5e4a2bd449ada254de37ad1208b0.setContent%28html_06f81d0409de4ea398ea150d70417917%29%3B%0A%20%20%20%20%20%20%20%20%0A%0A%20%20%20%20%20%20%20%20circle_marker_e8fc8a04a2db405286e44e573b059d21.bindPopup%28popup_5e3e5e4a2bd449ada254de37ad1208b0%29%0A%20%20%20%20%20%20%20%20%3B%0A%0A%20%20%20%20%20%20%20%20%0A%20%20%20%20%0A%20%20%20%20%0A%20%20%20%20%20%20%20%20%20%20%20%20var%20circle_marker_bc8bdc7896f1428eb0938c6e6ff58cc5%20%3D%20L.circleMarker%28%0A%20%20%20%20%20%20%20%20%20%20%20%20%20%20%20%20%5B48.134861%2C%2016.282154000000002%5D%2C%0A%20%20%20%20%20%20%20%20%20%20%20%20%20%20%20%20%7B%22bubblingMouseEvents%22%3A%20true%2C%20%22color%22%3A%20%22yellow%22%2C%20%22dashArray%22%3A%20null%2C%20%22dashOffset%22%3A%20null%2C%20%22fill%22%3A%20true%2C%20%22fillColor%22%3A%20%22%233186cc%22%2C%20%22fillOpacity%22%3A%200.7%2C%20%22fillRule%22%3A%20%22evenodd%22%2C%20%22lineCap%22%3A%20%22round%22%2C%20%22lineJoin%22%3A%20%22round%22%2C%20%22opacity%22%3A%201.0%2C%20%22radius%22%3A%205%2C%20%22stroke%22%3A%20true%2C%20%22weight%22%3A%203%7D%0A%20%20%20%20%20%20%20%20%20%20%20%20%29.addTo%28map_7c9cf4fac5474869bff7690d8723c754%29%3B%0A%20%20%20%20%20%20%20%20%0A%20%20%20%20%0A%20%20%20%20%20%20%20%20var%20popup_c9683185d14f4524b250ad33cec8f090%20%3D%20L.popup%28%7B%22maxWidth%22%3A%20%22100%25%22%7D%29%3B%0A%0A%20%20%20%20%20%20%20%20%0A%20%20%20%20%20%20%20%20%20%20%20%20var%20html_2b6eff523f2b4ba9a3d780a87faf8d57%20%3D%20%24%28%60%3Cdiv%20id%3D%22html_2b6eff523f2b4ba9a3d780a87faf8d57%22%20style%3D%22width%3A%20100.0%25%3B%20height%3A%20100.0%25%3B%22%3E23.%2C%20Liesingc%2C%201230%3C/div%3E%60%29%5B0%5D%3B%0A%20%20%20%20%20%20%20%20%20%20%20%20popup_c9683185d14f4524b250ad33cec8f090.setContent%28html_2b6eff523f2b4ba9a3d780a87faf8d57%29%3B%0A%20%20%20%20%20%20%20%20%0A%0A%20%20%20%20%20%20%20%20circle_marker_bc8bdc7896f1428eb0938c6e6ff58cc5.bindPopup%28popup_c9683185d14f4524b250ad33cec8f090%29%0A%20%20%20%20%20%20%20%20%3B%0A%0A%20%20%20%20%20%20%20%20%0A%20%20%20%20%0A%3C/script%3E onload=\"this.contentDocument.open();this.contentDocument.write(    decodeURIComponent(this.getAttribute('data-html')));this.contentDocument.close();\" allowfullscreen webkitallowfullscreen mozallowfullscreen></iframe></div></div>"
      ],
      "text/plain": [
       "<folium.folium.Map at 0x1e6573d4820>"
      ]
     },
     "execution_count": 22,
     "metadata": {},
     "output_type": "execute_result"
    }
   ],
   "source": [
    "map_vienna = folium.Map(location=[latitude, longitude], zoom_start=10)\n",
    "\n",
    "# add markers to map\n",
    "for lat, lng, post, neighborhood in zip(dataset['Latitude'], dataset['Longitude'], dataset['Postal Code'], dataset['Neighborhood']):\n",
    "    label = '{}, {}'.format(neighborhood, post)\n",
    "    label = folium.Popup(label, parse_html=True)\n",
    "    folium.CircleMarker(\n",
    "        [lat, lng],\n",
    "        radius=5,\n",
    "        popup=label,\n",
    "        color='yellow',\n",
    "        fill=True,\n",
    "        fill_color='#3186cc',\n",
    "        fill_opacity=0.7,\n",
    "        parse_html=False).add_to(map_vienna)  \n",
    "    \n",
    "map_vienna"
   ]
  },
  {
   "cell_type": "markdown",
   "metadata": {},
   "source": [
    "#### 3.2 Data preparation for deeper analysis\n",
    "sorting dataset by mean square root price to find out which neighborhoods are the cheapest utilizing 'meanPrice'-feature"
   ]
  },
  {
   "cell_type": "code",
   "execution_count": 34,
   "metadata": {
    "collapsed": true
   },
   "outputs": [
    {
     "data": {
      "text/html": [
       "<div>\n",
       "<style scoped>\n",
       "    .dataframe tbody tr th:only-of-type {\n",
       "        vertical-align: middle;\n",
       "    }\n",
       "\n",
       "    .dataframe tbody tr th {\n",
       "        vertical-align: top;\n",
       "    }\n",
       "\n",
       "    .dataframe thead th {\n",
       "        text-align: right;\n",
       "    }\n",
       "</style>\n",
       "<table border=\"1\" class=\"dataframe\">\n",
       "  <thead>\n",
       "    <tr style=\"text-align: right;\">\n",
       "      <th></th>\n",
       "      <th>Neighborhood</th>\n",
       "      <th>small</th>\n",
       "      <th>medium</th>\n",
       "      <th>big</th>\n",
       "      <th>large</th>\n",
       "      <th>meanPrice</th>\n",
       "      <th>Postal Code</th>\n",
       "      <th>Latitude</th>\n",
       "      <th>Longitude</th>\n",
       "    </tr>\n",
       "  </thead>\n",
       "  <tbody>\n",
       "    <tr>\n",
       "      <th>19</th>\n",
       "      <td>Brigittenau</td>\n",
       "      <td>16.09</td>\n",
       "      <td>13.93</td>\n",
       "      <td>11.26</td>\n",
       "      <td>11.93</td>\n",
       "      <td>13.79</td>\n",
       "      <td>1200</td>\n",
       "      <td>48.233069</td>\n",
       "      <td>16.370942</td>\n",
       "    </tr>\n",
       "    <tr>\n",
       "      <th>16</th>\n",
       "      <td>Hernals</td>\n",
       "      <td>14.67</td>\n",
       "      <td>14.18</td>\n",
       "      <td>14.34</td>\n",
       "      <td>15.21</td>\n",
       "      <td>14.38</td>\n",
       "      <td>1170</td>\n",
       "      <td>48.218361</td>\n",
       "      <td>16.332049</td>\n",
       "    </tr>\n",
       "    <tr>\n",
       "      <th>15</th>\n",
       "      <td>Ottakring</td>\n",
       "      <td>17.16</td>\n",
       "      <td>13.46</td>\n",
       "      <td>13.27</td>\n",
       "      <td>15.14</td>\n",
       "      <td>14.83</td>\n",
       "      <td>1160</td>\n",
       "      <td>48.209344</td>\n",
       "      <td>16.327269</td>\n",
       "    </tr>\n",
       "    <tr>\n",
       "      <th>9</th>\n",
       "      <td>Favoriten</td>\n",
       "      <td>16.15</td>\n",
       "      <td>14.75</td>\n",
       "      <td>13.95</td>\n",
       "      <td>11.90</td>\n",
       "      <td>15.00</td>\n",
       "      <td>1100</td>\n",
       "      <td>48.178493</td>\n",
       "      <td>16.374804</td>\n",
       "    </tr>\n",
       "    <tr>\n",
       "      <th>13</th>\n",
       "      <td>Penzing</td>\n",
       "      <td>18.54</td>\n",
       "      <td>14.67</td>\n",
       "      <td>14.02</td>\n",
       "      <td>12.09</td>\n",
       "      <td>15.04</td>\n",
       "      <td>1140</td>\n",
       "      <td>48.197241</td>\n",
       "      <td>16.285466</td>\n",
       "    </tr>\n",
       "    <tr>\n",
       "      <th>14</th>\n",
       "      <td>Rudolfsheim</td>\n",
       "      <td>16.81</td>\n",
       "      <td>14.10</td>\n",
       "      <td>12.28</td>\n",
       "      <td>12.49</td>\n",
       "      <td>15.07</td>\n",
       "      <td>1150</td>\n",
       "      <td>48.194142</td>\n",
       "      <td>16.333661</td>\n",
       "    </tr>\n",
       "    <tr>\n",
       "      <th>12</th>\n",
       "      <td>Hietzing</td>\n",
       "      <td>16.28</td>\n",
       "      <td>14.87</td>\n",
       "      <td>14.72</td>\n",
       "      <td>15.53</td>\n",
       "      <td>15.19</td>\n",
       "      <td>1130</td>\n",
       "      <td>48.188226</td>\n",
       "      <td>16.300459</td>\n",
       "    </tr>\n",
       "    <tr>\n",
       "      <th>1</th>\n",
       "      <td>Leopoldstadt</td>\n",
       "      <td>17.55</td>\n",
       "      <td>15.01</td>\n",
       "      <td>14.77</td>\n",
       "      <td>13.36</td>\n",
       "      <td>15.35</td>\n",
       "      <td>1020</td>\n",
       "      <td>48.216516</td>\n",
       "      <td>16.379789</td>\n",
       "    </tr>\n",
       "    <tr>\n",
       "      <th>22</th>\n",
       "      <td>Liesing</td>\n",
       "      <td>16.48</td>\n",
       "      <td>15.15</td>\n",
       "      <td>15.83</td>\n",
       "      <td>12.59</td>\n",
       "      <td>15.37</td>\n",
       "      <td>1230</td>\n",
       "      <td>48.134861</td>\n",
       "      <td>16.282154</td>\n",
       "    </tr>\n",
       "    <tr>\n",
       "      <th>7</th>\n",
       "      <td>Josefstadt</td>\n",
       "      <td>18.00</td>\n",
       "      <td>15.11</td>\n",
       "      <td>13.65</td>\n",
       "      <td>14.74</td>\n",
       "      <td>15.38</td>\n",
       "      <td>1080</td>\n",
       "      <td>48.212639</td>\n",
       "      <td>16.346747</td>\n",
       "    </tr>\n",
       "    <tr>\n",
       "      <th>4</th>\n",
       "      <td>Margareten</td>\n",
       "      <td>17.07</td>\n",
       "      <td>14.15</td>\n",
       "      <td>13.52</td>\n",
       "      <td>16.60</td>\n",
       "      <td>15.40</td>\n",
       "      <td>1050</td>\n",
       "      <td>48.190615</td>\n",
       "      <td>16.354170</td>\n",
       "    </tr>\n",
       "    <tr>\n",
       "      <th>17</th>\n",
       "      <td>Waehring</td>\n",
       "      <td>15.75</td>\n",
       "      <td>14.48</td>\n",
       "      <td>16.40</td>\n",
       "      <td>17.22</td>\n",
       "      <td>15.46</td>\n",
       "      <td>1180</td>\n",
       "      <td>48.226844</td>\n",
       "      <td>16.342426</td>\n",
       "    </tr>\n",
       "    <tr>\n",
       "      <th>20</th>\n",
       "      <td>Floridsdorf</td>\n",
       "      <td>16.68</td>\n",
       "      <td>14.99</td>\n",
       "      <td>13.89</td>\n",
       "      <td>11.34</td>\n",
       "      <td>15.55</td>\n",
       "      <td>1210</td>\n",
       "      <td>48.257754</td>\n",
       "      <td>16.397286</td>\n",
       "    </tr>\n",
       "    <tr>\n",
       "      <th>6</th>\n",
       "      <td>Neubau</td>\n",
       "      <td>16.77</td>\n",
       "      <td>15.81</td>\n",
       "      <td>15.13</td>\n",
       "      <td>15.94</td>\n",
       "      <td>15.95</td>\n",
       "      <td>1070</td>\n",
       "      <td>48.202847</td>\n",
       "      <td>16.347003</td>\n",
       "    </tr>\n",
       "    <tr>\n",
       "      <th>10</th>\n",
       "      <td>Simmering</td>\n",
       "      <td>16.88</td>\n",
       "      <td>14.66</td>\n",
       "      <td>11.27</td>\n",
       "      <td>0.00</td>\n",
       "      <td>16.15</td>\n",
       "      <td>1110</td>\n",
       "      <td>48.175180</td>\n",
       "      <td>16.412319</td>\n",
       "    </tr>\n",
       "    <tr>\n",
       "      <th>18</th>\n",
       "      <td>Doebling</td>\n",
       "      <td>16.06</td>\n",
       "      <td>15.34</td>\n",
       "      <td>15.76</td>\n",
       "      <td>19.50</td>\n",
       "      <td>16.15</td>\n",
       "      <td>1190</td>\n",
       "      <td>48.246244</td>\n",
       "      <td>16.343022</td>\n",
       "    </tr>\n",
       "    <tr>\n",
       "      <th>3</th>\n",
       "      <td>Wieden</td>\n",
       "      <td>18.37</td>\n",
       "      <td>15.11</td>\n",
       "      <td>16.70</td>\n",
       "      <td>16.41</td>\n",
       "      <td>16.22</td>\n",
       "      <td>1040</td>\n",
       "      <td>48.194304</td>\n",
       "      <td>16.369751</td>\n",
       "    </tr>\n",
       "    <tr>\n",
       "      <th>11</th>\n",
       "      <td>Meidling</td>\n",
       "      <td>17.23</td>\n",
       "      <td>15.10</td>\n",
       "      <td>13.80</td>\n",
       "      <td>11.77</td>\n",
       "      <td>16.49</td>\n",
       "      <td>1120</td>\n",
       "      <td>48.183116</td>\n",
       "      <td>16.329163</td>\n",
       "    </tr>\n",
       "    <tr>\n",
       "      <th>8</th>\n",
       "      <td>Alsergrund</td>\n",
       "      <td>18.66</td>\n",
       "      <td>15.07</td>\n",
       "      <td>15.98</td>\n",
       "      <td>17.39</td>\n",
       "      <td>16.52</td>\n",
       "      <td>1090</td>\n",
       "      <td>48.221133</td>\n",
       "      <td>16.354741</td>\n",
       "    </tr>\n",
       "    <tr>\n",
       "      <th>21</th>\n",
       "      <td>Donaustadt</td>\n",
       "      <td>17.27</td>\n",
       "      <td>15.60</td>\n",
       "      <td>15.99</td>\n",
       "      <td>16.36</td>\n",
       "      <td>16.53</td>\n",
       "      <td>1220</td>\n",
       "      <td>48.241009</td>\n",
       "      <td>16.437782</td>\n",
       "    </tr>\n",
       "    <tr>\n",
       "      <th>5</th>\n",
       "      <td>Mariahilf</td>\n",
       "      <td>18.42</td>\n",
       "      <td>16.04</td>\n",
       "      <td>16.79</td>\n",
       "      <td>15.86</td>\n",
       "      <td>17.00</td>\n",
       "      <td>1060</td>\n",
       "      <td>48.197041</td>\n",
       "      <td>16.350918</td>\n",
       "    </tr>\n",
       "    <tr>\n",
       "      <th>2</th>\n",
       "      <td>Landstrasse</td>\n",
       "      <td>18.94</td>\n",
       "      <td>16.65</td>\n",
       "      <td>15.44</td>\n",
       "      <td>17.70</td>\n",
       "      <td>17.71</td>\n",
       "      <td>1030</td>\n",
       "      <td>48.201294</td>\n",
       "      <td>16.388705</td>\n",
       "    </tr>\n",
       "    <tr>\n",
       "      <th>0</th>\n",
       "      <td>Innere Stadt</td>\n",
       "      <td>22.97</td>\n",
       "      <td>20.32</td>\n",
       "      <td>18.84</td>\n",
       "      <td>19.68</td>\n",
       "      <td>20.00</td>\n",
       "      <td>1010</td>\n",
       "      <td>48.211794</td>\n",
       "      <td>16.371039</td>\n",
       "    </tr>\n",
       "  </tbody>\n",
       "</table>\n",
       "</div>"
      ],
      "text/plain": [
       "    Neighborhood  small  medium    big  large  meanPrice  Postal Code  \\\n",
       "19   Brigittenau  16.09   13.93  11.26  11.93      13.79         1200   \n",
       "16       Hernals  14.67   14.18  14.34  15.21      14.38         1170   \n",
       "15     Ottakring  17.16   13.46  13.27  15.14      14.83         1160   \n",
       "9      Favoriten  16.15   14.75  13.95  11.90      15.00         1100   \n",
       "13       Penzing  18.54   14.67  14.02  12.09      15.04         1140   \n",
       "14   Rudolfsheim  16.81   14.10  12.28  12.49      15.07         1150   \n",
       "12      Hietzing  16.28   14.87  14.72  15.53      15.19         1130   \n",
       "1   Leopoldstadt  17.55   15.01  14.77  13.36      15.35         1020   \n",
       "22       Liesing  16.48   15.15  15.83  12.59      15.37         1230   \n",
       "7     Josefstadt  18.00   15.11  13.65  14.74      15.38         1080   \n",
       "4     Margareten  17.07   14.15  13.52  16.60      15.40         1050   \n",
       "17      Waehring  15.75   14.48  16.40  17.22      15.46         1180   \n",
       "20   Floridsdorf  16.68   14.99  13.89  11.34      15.55         1210   \n",
       "6         Neubau  16.77   15.81  15.13  15.94      15.95         1070   \n",
       "10     Simmering  16.88   14.66  11.27   0.00      16.15         1110   \n",
       "18      Doebling  16.06   15.34  15.76  19.50      16.15         1190   \n",
       "3         Wieden  18.37   15.11  16.70  16.41      16.22         1040   \n",
       "11      Meidling  17.23   15.10  13.80  11.77      16.49         1120   \n",
       "8     Alsergrund  18.66   15.07  15.98  17.39      16.52         1090   \n",
       "21    Donaustadt  17.27   15.60  15.99  16.36      16.53         1220   \n",
       "5      Mariahilf  18.42   16.04  16.79  15.86      17.00         1060   \n",
       "2    Landstrasse  18.94   16.65  15.44  17.70      17.71         1030   \n",
       "0   Innere Stadt  22.97   20.32  18.84  19.68      20.00         1010   \n",
       "\n",
       "     Latitude  Longitude  \n",
       "19  48.233069  16.370942  \n",
       "16  48.218361  16.332049  \n",
       "15  48.209344  16.327269  \n",
       "9   48.178493  16.374804  \n",
       "13  48.197241  16.285466  \n",
       "14  48.194142  16.333661  \n",
       "12  48.188226  16.300459  \n",
       "1   48.216516  16.379789  \n",
       "22  48.134861  16.282154  \n",
       "7   48.212639  16.346747  \n",
       "4   48.190615  16.354170  \n",
       "17  48.226844  16.342426  \n",
       "20  48.257754  16.397286  \n",
       "6   48.202847  16.347003  \n",
       "10  48.175180  16.412319  \n",
       "18  48.246244  16.343022  \n",
       "3   48.194304  16.369751  \n",
       "11  48.183116  16.329163  \n",
       "8   48.221133  16.354741  \n",
       "21  48.241009  16.437782  \n",
       "5   48.197041  16.350918  \n",
       "2   48.201294  16.388705  \n",
       "0   48.211794  16.371039  "
      ]
     },
     "execution_count": 34,
     "metadata": {},
     "output_type": "execute_result"
    }
   ],
   "source": [
    "dataset_sorted = dataset.sort_values(by=['meanPrice'])\n",
    "dataset_sorted"
   ]
  },
  {
   "cell_type": "markdown",
   "metadata": {},
   "source": [
    "#### 3.3 Data Visualization \n",
    "visualize dataset to understand mean rent price situation in each district  "
   ]
  },
  {
   "cell_type": "code",
   "execution_count": 51,
   "metadata": {},
   "outputs": [
    {
     "data": {
      "image/png": "[encoded data removed]",
      "text/plain": [
       "<Figure size 720x720 with 1 Axes>"
      ]
     },
     "metadata": {
      "needs_background": "light"
     },
     "output_type": "display_data"
    }
   ],
   "source": [
    "# barchart rentprices situation\n",
    "price = dataset_sorted['meanPrice']\n",
    "neighborhood = dataset_sorted['Neighborhood']\n",
    "\n",
    "fig = plt.figure(figsize = (10,10))\n",
    "\n",
    "plt.bar(price, neighborhood, color='blue', width = 0.1)\n",
    "plt.xlabel('Mean Rent price/m² in €')\n",
    "plt.ylabel('Districts')\n",
    "plt.title('Mean Rent Price Situation Vienna')\n",
    "\n",
    "plt.show()"
   ]
  },
  {
   "cell_type": "code",
   "execution_count": 58,
   "metadata": {},
   "outputs": [
    {
     "data": {
      "text/plain": [
       "15.849130434782607"
      ]
     },
     "execution_count": 58,
     "metadata": {},
     "output_type": "execute_result"
    }
   ],
   "source": [
    "# calculate mean of whole vienna which is going to represent the price cap\n",
    "# This is going to be the pricetarget to sort districts below this\n",
    "price_cap = dataset['meanPrice'].mean()\n",
    "price_cap"
   ]
  },
  {
   "cell_type": "code",
   "execution_count": 64,
   "metadata": {},
   "outputs": [
    {
     "data": {
      "text/html": [
       "<div>\n",
       "<style scoped>\n",
       "    .dataframe tbody tr th:only-of-type {\n",
       "        vertical-align: middle;\n",
       "    }\n",
       "\n",
       "    .dataframe tbody tr th {\n",
       "        vertical-align: top;\n",
       "    }\n",
       "\n",
       "    .dataframe thead th {\n",
       "        text-align: right;\n",
       "    }\n",
       "</style>\n",
       "<table border=\"1\" class=\"dataframe\">\n",
       "  <thead>\n",
       "    <tr style=\"text-align: right;\">\n",
       "      <th></th>\n",
       "      <th>meanPrice</th>\n",
       "    </tr>\n",
       "  </thead>\n",
       "  <tbody>\n",
       "    <tr>\n",
       "      <th>19</th>\n",
       "      <td>13.79</td>\n",
       "    </tr>\n",
       "    <tr>\n",
       "      <th>16</th>\n",
       "      <td>14.38</td>\n",
       "    </tr>\n",
       "    <tr>\n",
       "      <th>15</th>\n",
       "      <td>14.83</td>\n",
       "    </tr>\n",
       "    <tr>\n",
       "      <th>9</th>\n",
       "      <td>15.00</td>\n",
       "    </tr>\n",
       "    <tr>\n",
       "      <th>13</th>\n",
       "      <td>15.04</td>\n",
       "    </tr>\n",
       "    <tr>\n",
       "      <th>14</th>\n",
       "      <td>15.07</td>\n",
       "    </tr>\n",
       "    <tr>\n",
       "      <th>12</th>\n",
       "      <td>15.19</td>\n",
       "    </tr>\n",
       "    <tr>\n",
       "      <th>1</th>\n",
       "      <td>15.35</td>\n",
       "    </tr>\n",
       "    <tr>\n",
       "      <th>22</th>\n",
       "      <td>15.37</td>\n",
       "    </tr>\n",
       "    <tr>\n",
       "      <th>7</th>\n",
       "      <td>15.38</td>\n",
       "    </tr>\n",
       "    <tr>\n",
       "      <th>4</th>\n",
       "      <td>15.40</td>\n",
       "    </tr>\n",
       "    <tr>\n",
       "      <th>17</th>\n",
       "      <td>15.46</td>\n",
       "    </tr>\n",
       "    <tr>\n",
       "      <th>20</th>\n",
       "      <td>15.55</td>\n",
       "    </tr>\n",
       "    <tr>\n",
       "      <th>6</th>\n",
       "      <td>NaN</td>\n",
       "    </tr>\n",
       "    <tr>\n",
       "      <th>10</th>\n",
       "      <td>NaN</td>\n",
       "    </tr>\n",
       "    <tr>\n",
       "      <th>18</th>\n",
       "      <td>NaN</td>\n",
       "    </tr>\n",
       "    <tr>\n",
       "      <th>3</th>\n",
       "      <td>NaN</td>\n",
       "    </tr>\n",
       "    <tr>\n",
       "      <th>11</th>\n",
       "      <td>NaN</td>\n",
       "    </tr>\n",
       "    <tr>\n",
       "      <th>8</th>\n",
       "      <td>NaN</td>\n",
       "    </tr>\n",
       "    <tr>\n",
       "      <th>21</th>\n",
       "      <td>NaN</td>\n",
       "    </tr>\n",
       "    <tr>\n",
       "      <th>5</th>\n",
       "      <td>NaN</td>\n",
       "    </tr>\n",
       "    <tr>\n",
       "      <th>2</th>\n",
       "      <td>NaN</td>\n",
       "    </tr>\n",
       "    <tr>\n",
       "      <th>0</th>\n",
       "      <td>NaN</td>\n",
       "    </tr>\n",
       "  </tbody>\n",
       "</table>\n",
       "</div>"
      ],
      "text/plain": [
       "    meanPrice\n",
       "19      13.79\n",
       "16      14.38\n",
       "15      14.83\n",
       "9       15.00\n",
       "13      15.04\n",
       "14      15.07\n",
       "12      15.19\n",
       "1       15.35\n",
       "22      15.37\n",
       "7       15.38\n",
       "4       15.40\n",
       "17      15.46\n",
       "20      15.55\n",
       "6         NaN\n",
       "10        NaN\n",
       "18        NaN\n",
       "3         NaN\n",
       "11        NaN\n",
       "8         NaN\n",
       "21        NaN\n",
       "5         NaN\n",
       "2         NaN\n",
       "0         NaN"
      ]
     },
     "execution_count": 64,
     "metadata": {},
     "output_type": "execute_result"
    }
   ],
   "source": [
    "new_dataset_sorted = pd.DataFrame(dataset_sorted['meanPrice'].where(dataset_sorted['meanPrice'] < price_cap))\n",
    "new_dataset_sorted"
   ]
  },
  {
   "cell_type": "markdown",
   "metadata": {},
   "source": [
    "#### 3.4 Explore neighborhoods"
   ]
  },
  {
   "cell_type": "markdown",
   "metadata": {},
   "source": [
    "find out which neighborhood has the 10 most common venues i.e. assumed to be high frequented places. <br>\n",
    "Goal is to find a correlation between density of venues and coffee shops and compare to rent prices in that district"
   ]
  },
  {
   "cell_type": "markdown",
   "metadata": {},
   "source": [
    "##### Connecting to Foursquare API"
   ]
  },
  {
   "cell_type": "code",
   "execution_count": 23,
   "metadata": {},
   "outputs": [],
   "source": [
    "CLIENT_ID = 'WVSVXJZNSX2RTUYH3EN414GA25RS2LCBD20FKHPWCZZH41JT' # your Foursquare ID\n",
    "CLIENT_SECRET = 'TSHIWJ4MHEDR4LILPO2XNIURO4F5UJQA5YESZFQEKAZFYS32' # your Foursquare Secret\n",
    "VERSION = '20180605' # Foursquare API version\n",
    "LIMIT = 100 # A default Foursquare API limit value"
   ]
  },
  {
   "cell_type": "markdown",
   "metadata": {},
   "source": [
    "##### Inspecting Floridsdorf with the highest mean rent price within the price cap "
   ]
  },
  {
   "cell_type": "code",
   "execution_count": 67,
   "metadata": {},
   "outputs": [
    {
     "data": {
      "text/plain": [
       "'Floridsdorf'"
      ]
     },
     "execution_count": 67,
     "metadata": {},
     "output_type": "execute_result"
    }
   ],
   "source": [
    "floridsdorf_data = dataset.loc[20, 'Neighborhood']\n",
    "floridsdorf_data"
   ]
  },
  {
   "cell_type": "code",
   "execution_count": 70,
   "metadata": {},
   "outputs": [
    {
     "name": "stdout",
     "output_type": "stream",
     "text": [
      "Floridsdorf coordinates are: 48.257754, 16.397285999999998.\n"
     ]
    }
   ],
   "source": [
    "floridsdorf_lat = dataset.loc[20, 'Latitude']\n",
    "floridsdorf_lon = dataset.loc[20, 'Longitude']\n",
    "\n",
    "print('Floridsdorf coordinates are: {}, {}.'.format(floridsdorf_lat,floridsdorf_lon))"
   ]
  },
  {
   "cell_type": "code",
   "execution_count": 130,
   "metadata": {},
   "outputs": [],
   "source": [
    "def getVenues(lat, lng, radius=1000, limit=100):\n",
    "    url = 'https://api.foursquare.com/v2/venues/explore?&client_id={}&client_secret={}&v={}&ll={},{}&radius={}&limit={}'.format(\n",
    "            CLIENT_ID, \n",
    "            CLIENT_SECRET, \n",
    "            VERSION, \n",
    "            lat, \n",
    "            lng, \n",
    "            radius, \n",
    "            LIMIT)\n",
    "    \n",
    "    results = requests.get(url).json()\n",
    "    \n",
    "    # clean json and create pandas dataframe\n",
    "\n",
    "    venues = results['response']['groups'][0]['items']\n",
    "    \n",
    "    nearby_venues = pd.json_normalize(venues) # flatten JSON\n",
    "\n",
    "    # filter columns\n",
    "    filtered_columns = ['venue.name', 'venue.categories', 'venue.location.lat', 'venue.location.lng']\n",
    "    nearby_venues =nearby_venues.loc[:, filtered_columns]\n",
    "\n",
    "    # filter the category for each row\n",
    "    nearby_venues['venue.categories'] = nearby_venues.apply(get_category_type, axis=1)\n",
    "\n",
    "    # clean columns\n",
    "    nearby_venues.columns = [col.split(\".\")[-1] for col in nearby_venues.columns]\n",
    "\n",
    "    return(nearby_venues)"
   ]
  },
  {
   "cell_type": "code",
   "execution_count": 132,
   "metadata": {
    "collapsed": true
   },
   "outputs": [
    {
     "data": {
      "text/html": [
       "<div>\n",
       "<style scoped>\n",
       "    .dataframe tbody tr th:only-of-type {\n",
       "        vertical-align: middle;\n",
       "    }\n",
       "\n",
       "    .dataframe tbody tr th {\n",
       "        vertical-align: top;\n",
       "    }\n",
       "\n",
       "    .dataframe thead th {\n",
       "        text-align: right;\n",
       "    }\n",
       "</style>\n",
       "<table border=\"1\" class=\"dataframe\">\n",
       "  <thead>\n",
       "    <tr style=\"text-align: right;\">\n",
       "      <th></th>\n",
       "      <th>name</th>\n",
       "      <th>categories</th>\n",
       "      <th>lat</th>\n",
       "      <th>lng</th>\n",
       "    </tr>\n",
       "  </thead>\n",
       "  <tbody>\n",
       "    <tr>\n",
       "      <th>0</th>\n",
       "      <td>Stasta Restaurant</td>\n",
       "      <td>Steakhouse</td>\n",
       "      <td>48.135798</td>\n",
       "      <td>16.279858</td>\n",
       "    </tr>\n",
       "    <tr>\n",
       "      <th>1</th>\n",
       "      <td>Der Stasta Hotel Vienna</td>\n",
       "      <td>Hotel</td>\n",
       "      <td>48.136128</td>\n",
       "      <td>16.280022</td>\n",
       "    </tr>\n",
       "    <tr>\n",
       "      <th>2</th>\n",
       "      <td>Riverside Einkaufszentrum</td>\n",
       "      <td>Shopping Mall</td>\n",
       "      <td>48.136607</td>\n",
       "      <td>16.279591</td>\n",
       "    </tr>\n",
       "    <tr>\n",
       "      <th>3</th>\n",
       "      <td>Okiru Running Sushi</td>\n",
       "      <td>Asian Restaurant</td>\n",
       "      <td>48.137669</td>\n",
       "      <td>16.278032</td>\n",
       "    </tr>\n",
       "    <tr>\n",
       "      <th>4</th>\n",
       "      <td>MERKUR</td>\n",
       "      <td>Supermarket</td>\n",
       "      <td>48.137219</td>\n",
       "      <td>16.277472</td>\n",
       "    </tr>\n",
       "  </tbody>\n",
       "</table>\n",
       "</div>"
      ],
      "text/plain": [
       "                        name        categories        lat        lng\n",
       "0          Stasta Restaurant        Steakhouse  48.135798  16.279858\n",
       "1    Der Stasta Hotel Vienna             Hotel  48.136128  16.280022\n",
       "2  Riverside Einkaufszentrum     Shopping Mall  48.136607  16.279591\n",
       "3        Okiru Running Sushi  Asian Restaurant  48.137669  16.278032\n",
       "4                     MERKUR       Supermarket  48.137219  16.277472"
      ]
     },
     "execution_count": 132,
     "metadata": {},
     "output_type": "execute_result"
    }
   ],
   "source": [
    "# login to foursquare and inspecting Floridsdorf in a radius of 5000m\n",
    "floridsdorf_lat = lat\n",
    "floridsdorf_lon = lng\n",
    "\n",
    "floridsdorf_venues = getVenues(floridsdorf_lat,floridsdorf_lon,radius=500)\n",
    "floridsdorf_venues.head()"
   ]
  },
  {
   "cell_type": "code",
   "execution_count": 133,
   "metadata": {},
   "outputs": [
    {
     "data": {
      "text/plain": [
       "(14, 4)"
      ]
     },
     "execution_count": 133,
     "metadata": {},
     "output_type": "execute_result"
    }
   ],
   "source": [
    "floridsdorf_venues.shape"
   ]
  },
  {
   "cell_type": "code",
   "execution_count": 134,
   "metadata": {
    "collapsed": true
   },
   "outputs": [
    {
     "data": {
      "text/html": [
       "<div>\n",
       "<style scoped>\n",
       "    .dataframe tbody tr th:only-of-type {\n",
       "        vertical-align: middle;\n",
       "    }\n",
       "\n",
       "    .dataframe tbody tr th {\n",
       "        vertical-align: top;\n",
       "    }\n",
       "\n",
       "    .dataframe thead th {\n",
       "        text-align: right;\n",
       "    }\n",
       "</style>\n",
       "<table border=\"1\" class=\"dataframe\">\n",
       "  <thead>\n",
       "    <tr style=\"text-align: right;\">\n",
       "      <th></th>\n",
       "      <th>name</th>\n",
       "      <th>lat</th>\n",
       "      <th>lng</th>\n",
       "    </tr>\n",
       "    <tr>\n",
       "      <th>categories</th>\n",
       "      <th></th>\n",
       "      <th></th>\n",
       "      <th></th>\n",
       "    </tr>\n",
       "  </thead>\n",
       "  <tbody>\n",
       "    <tr>\n",
       "      <th>Cosmetics Shop</th>\n",
       "      <td>2</td>\n",
       "      <td>2</td>\n",
       "      <td>2</td>\n",
       "    </tr>\n",
       "    <tr>\n",
       "      <th>Asian Restaurant</th>\n",
       "      <td>1</td>\n",
       "      <td>1</td>\n",
       "      <td>1</td>\n",
       "    </tr>\n",
       "    <tr>\n",
       "      <th>Clothing Store</th>\n",
       "      <td>1</td>\n",
       "      <td>1</td>\n",
       "      <td>1</td>\n",
       "    </tr>\n",
       "    <tr>\n",
       "      <th>Coffee Shop</th>\n",
       "      <td>1</td>\n",
       "      <td>1</td>\n",
       "      <td>1</td>\n",
       "    </tr>\n",
       "    <tr>\n",
       "      <th>Gastropub</th>\n",
       "      <td>1</td>\n",
       "      <td>1</td>\n",
       "      <td>1</td>\n",
       "    </tr>\n",
       "    <tr>\n",
       "      <th>Gift Shop</th>\n",
       "      <td>1</td>\n",
       "      <td>1</td>\n",
       "      <td>1</td>\n",
       "    </tr>\n",
       "    <tr>\n",
       "      <th>Hotel</th>\n",
       "      <td>1</td>\n",
       "      <td>1</td>\n",
       "      <td>1</td>\n",
       "    </tr>\n",
       "    <tr>\n",
       "      <th>Plaza</th>\n",
       "      <td>1</td>\n",
       "      <td>1</td>\n",
       "      <td>1</td>\n",
       "    </tr>\n",
       "    <tr>\n",
       "      <th>River</th>\n",
       "      <td>1</td>\n",
       "      <td>1</td>\n",
       "      <td>1</td>\n",
       "    </tr>\n",
       "    <tr>\n",
       "      <th>Shopping Mall</th>\n",
       "      <td>1</td>\n",
       "      <td>1</td>\n",
       "      <td>1</td>\n",
       "    </tr>\n",
       "    <tr>\n",
       "      <th>Steakhouse</th>\n",
       "      <td>1</td>\n",
       "      <td>1</td>\n",
       "      <td>1</td>\n",
       "    </tr>\n",
       "    <tr>\n",
       "      <th>Supermarket</th>\n",
       "      <td>1</td>\n",
       "      <td>1</td>\n",
       "      <td>1</td>\n",
       "    </tr>\n",
       "    <tr>\n",
       "      <th>Train Station</th>\n",
       "      <td>1</td>\n",
       "      <td>1</td>\n",
       "      <td>1</td>\n",
       "    </tr>\n",
       "  </tbody>\n",
       "</table>\n",
       "</div>"
      ],
      "text/plain": [
       "                  name  lat  lng\n",
       "categories                      \n",
       "Cosmetics Shop       2    2    2\n",
       "Asian Restaurant     1    1    1\n",
       "Clothing Store       1    1    1\n",
       "Coffee Shop          1    1    1\n",
       "Gastropub            1    1    1\n",
       "Gift Shop            1    1    1\n",
       "Hotel                1    1    1\n",
       "Plaza                1    1    1\n",
       "River                1    1    1\n",
       "Shopping Mall        1    1    1\n",
       "Steakhouse           1    1    1\n",
       "Supermarket          1    1    1\n",
       "Train Station        1    1    1"
      ]
     },
     "execution_count": 134,
     "metadata": {},
     "output_type": "execute_result"
    }
   ],
   "source": [
    "floridsdorf_venues.groupby('categories').count().sort_values(by=['name'], ascending=False)"
   ]
  },
  {
   "cell_type": "code",
   "execution_count": 135,
   "metadata": {},
   "outputs": [
    {
     "name": "stdout",
     "output_type": "stream",
     "text": [
      "There are 13 unique categories.\n"
     ]
    }
   ],
   "source": [
    "print('There are {} unique categories.'.format(len(floridsdorf_venues['categories'].unique())))"
   ]
  },
  {
   "cell_type": "markdown",
   "metadata": {},
   "source": [
    "##### Inspecting Brigittenau since it seems to be the cheapest district"
   ]
  },
  {
   "cell_type": "code",
   "execution_count": 136,
   "metadata": {},
   "outputs": [
    {
     "data": {
      "text/plain": [
       "(29, 4)"
      ]
     },
     "execution_count": 136,
     "metadata": {},
     "output_type": "execute_result"
    }
   ],
   "source": [
    "# brigittenau_data = dataset.loc[19, 'Neighborhood']\n",
    "brigittenau_lon = dataset.loc[19, 'Longitude']\n",
    "brigittenau_lat = dataset.loc[19, 'Latitude']\n",
    "\n",
    "lat = brigittenau_lat\n",
    "lng = brigittenau_lon\n",
    "\n",
    "brigittenau_venues = getVenues(brigittenau_lat, brigittenau_lon, radius=500)\n",
    "brigittenau_venues.shape"
   ]
  },
  {
   "cell_type": "markdown",
   "metadata": {},
   "source": [
    "#### 3.5 Find correlations"
   ]
  },
  {
   "cell_type": "code",
   "execution_count": 146,
   "metadata": {},
   "outputs": [],
   "source": [
    "import seaborn as sns\n",
    "from sklearn.pipeline import Pipeline\n",
    "from sklearn.preprocessing import StandardScaler, PolynomialFeatures\n",
    "from sklearn.linear_model import LinearRegression\n",
    "%matplotlib inline"
   ]
  },
  {
   "cell_type": "code",
   "execution_count": 163,
   "metadata": {},
   "outputs": [
    {
     "data": {
      "text/plain": [
       "Postal Code   -0.519377\n",
       "Latitude       0.007642\n",
       "Longitude      0.312655\n",
       "large          0.339406\n",
       "big            0.690340\n",
       "small          0.825900\n",
       "medium         0.915815\n",
       "meanPrice      1.000000\n",
       "Name: meanPrice, dtype: float64"
      ]
     },
     "execution_count": 163,
     "metadata": {},
     "output_type": "execute_result"
    }
   ],
   "source": [
    "dataset.corr()['meanPrice'].sort_values()"
   ]
  },
  {
   "cell_type": "markdown",
   "metadata": {},
   "source": [
    "It seems to be that there is a high correlation with medium sized objects. Further exploration utilizing this feature."
   ]
  },
  {
   "cell_type": "markdown",
   "metadata": {},
   "source": [
    "#### 3.6 Visualizing correlations"
   ]
  },
  {
   "cell_type": "code",
   "execution_count": 164,
   "metadata": {},
   "outputs": [
    {
     "data": {
      "text/plain": [
       "<AxesSubplot:xlabel='medium', ylabel='meanPrice'>"
      ]
     },
     "execution_count": 164,
     "metadata": {},
     "output_type": "execute_result"
    },
    {
     "data": {
      "image/png": "[encoded data removed]",
      "text/plain": [
       "<Figure size 432x288 with 1 Axes>"
      ]
     },
     "metadata": {
      "needs_background": "light"
     },
     "output_type": "display_data"
    }
   ],
   "source": [
    "sns.boxplot(x=\"medium\", y=\"meanPrice\", data=dataset)"
   ]
  },
  {
   "cell_type": "code",
   "execution_count": 165,
   "metadata": {},
   "outputs": [
    {
     "data": {
      "text/plain": [
       "(0.0, 22.76747449908237)"
      ]
     },
     "execution_count": 165,
     "metadata": {},
     "output_type": "execute_result"
    },
    {
     "data": {
      "image/png": "[encoded data removed]",
      "text/plain": [
       "<Figure size 432x288 with 1 Axes>"
      ]
     },
     "metadata": {
      "needs_background": "light"
     },
     "output_type": "display_data"
    }
   ],
   "source": [
    "sns.regplot(x=\"medium\", y=\"meanPrice\", data=dataset)\n",
    "plt.ylim(0,)"
   ]
  },
  {
   "cell_type": "markdown",
   "metadata": {},
   "source": [
    "#### 3.7 Rearranging data"
   ]
  },
  {
   "cell_type": "code",
   "execution_count": 167,
   "metadata": {
    "collapsed": true
   },
   "outputs": [
    {
     "data": {
      "text/html": [
       "<div>\n",
       "<style scoped>\n",
       "    .dataframe tbody tr th:only-of-type {\n",
       "        vertical-align: middle;\n",
       "    }\n",
       "\n",
       "    .dataframe tbody tr th {\n",
       "        vertical-align: top;\n",
       "    }\n",
       "\n",
       "    .dataframe thead th {\n",
       "        text-align: right;\n",
       "    }\n",
       "</style>\n",
       "<table border=\"1\" class=\"dataframe\">\n",
       "  <thead>\n",
       "    <tr style=\"text-align: right;\">\n",
       "      <th></th>\n",
       "      <th>Neighborhood</th>\n",
       "      <th>small</th>\n",
       "      <th>medium</th>\n",
       "      <th>big</th>\n",
       "      <th>large</th>\n",
       "      <th>meanPrice</th>\n",
       "      <th>Postal Code</th>\n",
       "      <th>Latitude</th>\n",
       "      <th>Longitude</th>\n",
       "    </tr>\n",
       "  </thead>\n",
       "  <tbody>\n",
       "    <tr>\n",
       "      <th>15</th>\n",
       "      <td>Ottakring</td>\n",
       "      <td>17.16</td>\n",
       "      <td>13.46</td>\n",
       "      <td>13.27</td>\n",
       "      <td>15.14</td>\n",
       "      <td>14.83</td>\n",
       "      <td>1160</td>\n",
       "      <td>48.209344</td>\n",
       "      <td>16.327269</td>\n",
       "    </tr>\n",
       "    <tr>\n",
       "      <th>19</th>\n",
       "      <td>Brigittenau</td>\n",
       "      <td>16.09</td>\n",
       "      <td>13.93</td>\n",
       "      <td>11.26</td>\n",
       "      <td>11.93</td>\n",
       "      <td>13.79</td>\n",
       "      <td>1200</td>\n",
       "      <td>48.233069</td>\n",
       "      <td>16.370942</td>\n",
       "    </tr>\n",
       "    <tr>\n",
       "      <th>14</th>\n",
       "      <td>Rudolfsheim</td>\n",
       "      <td>16.81</td>\n",
       "      <td>14.10</td>\n",
       "      <td>12.28</td>\n",
       "      <td>12.49</td>\n",
       "      <td>15.07</td>\n",
       "      <td>1150</td>\n",
       "      <td>48.194142</td>\n",
       "      <td>16.333661</td>\n",
       "    </tr>\n",
       "    <tr>\n",
       "      <th>4</th>\n",
       "      <td>Margareten</td>\n",
       "      <td>17.07</td>\n",
       "      <td>14.15</td>\n",
       "      <td>13.52</td>\n",
       "      <td>16.60</td>\n",
       "      <td>15.40</td>\n",
       "      <td>1050</td>\n",
       "      <td>48.190615</td>\n",
       "      <td>16.354170</td>\n",
       "    </tr>\n",
       "    <tr>\n",
       "      <th>16</th>\n",
       "      <td>Hernals</td>\n",
       "      <td>14.67</td>\n",
       "      <td>14.18</td>\n",
       "      <td>14.34</td>\n",
       "      <td>15.21</td>\n",
       "      <td>14.38</td>\n",
       "      <td>1170</td>\n",
       "      <td>48.218361</td>\n",
       "      <td>16.332049</td>\n",
       "    </tr>\n",
       "    <tr>\n",
       "      <th>17</th>\n",
       "      <td>Waehring</td>\n",
       "      <td>15.75</td>\n",
       "      <td>14.48</td>\n",
       "      <td>16.40</td>\n",
       "      <td>17.22</td>\n",
       "      <td>15.46</td>\n",
       "      <td>1180</td>\n",
       "      <td>48.226844</td>\n",
       "      <td>16.342426</td>\n",
       "    </tr>\n",
       "    <tr>\n",
       "      <th>10</th>\n",
       "      <td>Simmering</td>\n",
       "      <td>16.88</td>\n",
       "      <td>14.66</td>\n",
       "      <td>11.27</td>\n",
       "      <td>0.00</td>\n",
       "      <td>16.15</td>\n",
       "      <td>1110</td>\n",
       "      <td>48.175180</td>\n",
       "      <td>16.412319</td>\n",
       "    </tr>\n",
       "    <tr>\n",
       "      <th>13</th>\n",
       "      <td>Penzing</td>\n",
       "      <td>18.54</td>\n",
       "      <td>14.67</td>\n",
       "      <td>14.02</td>\n",
       "      <td>12.09</td>\n",
       "      <td>15.04</td>\n",
       "      <td>1140</td>\n",
       "      <td>48.197241</td>\n",
       "      <td>16.285466</td>\n",
       "    </tr>\n",
       "    <tr>\n",
       "      <th>9</th>\n",
       "      <td>Favoriten</td>\n",
       "      <td>16.15</td>\n",
       "      <td>14.75</td>\n",
       "      <td>13.95</td>\n",
       "      <td>11.90</td>\n",
       "      <td>15.00</td>\n",
       "      <td>1100</td>\n",
       "      <td>48.178493</td>\n",
       "      <td>16.374804</td>\n",
       "    </tr>\n",
       "    <tr>\n",
       "      <th>12</th>\n",
       "      <td>Hietzing</td>\n",
       "      <td>16.28</td>\n",
       "      <td>14.87</td>\n",
       "      <td>14.72</td>\n",
       "      <td>15.53</td>\n",
       "      <td>15.19</td>\n",
       "      <td>1130</td>\n",
       "      <td>48.188226</td>\n",
       "      <td>16.300459</td>\n",
       "    </tr>\n",
       "    <tr>\n",
       "      <th>20</th>\n",
       "      <td>Floridsdorf</td>\n",
       "      <td>16.68</td>\n",
       "      <td>14.99</td>\n",
       "      <td>13.89</td>\n",
       "      <td>11.34</td>\n",
       "      <td>15.55</td>\n",
       "      <td>1210</td>\n",
       "      <td>48.257754</td>\n",
       "      <td>16.397286</td>\n",
       "    </tr>\n",
       "    <tr>\n",
       "      <th>1</th>\n",
       "      <td>Leopoldstadt</td>\n",
       "      <td>17.55</td>\n",
       "      <td>15.01</td>\n",
       "      <td>14.77</td>\n",
       "      <td>13.36</td>\n",
       "      <td>15.35</td>\n",
       "      <td>1020</td>\n",
       "      <td>48.216516</td>\n",
       "      <td>16.379789</td>\n",
       "    </tr>\n",
       "    <tr>\n",
       "      <th>8</th>\n",
       "      <td>Alsergrund</td>\n",
       "      <td>18.66</td>\n",
       "      <td>15.07</td>\n",
       "      <td>15.98</td>\n",
       "      <td>17.39</td>\n",
       "      <td>16.52</td>\n",
       "      <td>1090</td>\n",
       "      <td>48.221133</td>\n",
       "      <td>16.354741</td>\n",
       "    </tr>\n",
       "    <tr>\n",
       "      <th>11</th>\n",
       "      <td>Meidling</td>\n",
       "      <td>17.23</td>\n",
       "      <td>15.10</td>\n",
       "      <td>13.80</td>\n",
       "      <td>11.77</td>\n",
       "      <td>16.49</td>\n",
       "      <td>1120</td>\n",
       "      <td>48.183116</td>\n",
       "      <td>16.329163</td>\n",
       "    </tr>\n",
       "    <tr>\n",
       "      <th>3</th>\n",
       "      <td>Wieden</td>\n",
       "      <td>18.37</td>\n",
       "      <td>15.11</td>\n",
       "      <td>16.70</td>\n",
       "      <td>16.41</td>\n",
       "      <td>16.22</td>\n",
       "      <td>1040</td>\n",
       "      <td>48.194304</td>\n",
       "      <td>16.369751</td>\n",
       "    </tr>\n",
       "    <tr>\n",
       "      <th>7</th>\n",
       "      <td>Josefstadt</td>\n",
       "      <td>18.00</td>\n",
       "      <td>15.11</td>\n",
       "      <td>13.65</td>\n",
       "      <td>14.74</td>\n",
       "      <td>15.38</td>\n",
       "      <td>1080</td>\n",
       "      <td>48.212639</td>\n",
       "      <td>16.346747</td>\n",
       "    </tr>\n",
       "    <tr>\n",
       "      <th>22</th>\n",
       "      <td>Liesing</td>\n",
       "      <td>16.48</td>\n",
       "      <td>15.15</td>\n",
       "      <td>15.83</td>\n",
       "      <td>12.59</td>\n",
       "      <td>15.37</td>\n",
       "      <td>1230</td>\n",
       "      <td>48.134861</td>\n",
       "      <td>16.282154</td>\n",
       "    </tr>\n",
       "    <tr>\n",
       "      <th>18</th>\n",
       "      <td>Doebling</td>\n",
       "      <td>16.06</td>\n",
       "      <td>15.34</td>\n",
       "      <td>15.76</td>\n",
       "      <td>19.50</td>\n",
       "      <td>16.15</td>\n",
       "      <td>1190</td>\n",
       "      <td>48.246244</td>\n",
       "      <td>16.343022</td>\n",
       "    </tr>\n",
       "    <tr>\n",
       "      <th>21</th>\n",
       "      <td>Donaustadt</td>\n",
       "      <td>17.27</td>\n",
       "      <td>15.60</td>\n",
       "      <td>15.99</td>\n",
       "      <td>16.36</td>\n",
       "      <td>16.53</td>\n",
       "      <td>1220</td>\n",
       "      <td>48.241009</td>\n",
       "      <td>16.437782</td>\n",
       "    </tr>\n",
       "    <tr>\n",
       "      <th>6</th>\n",
       "      <td>Neubau</td>\n",
       "      <td>16.77</td>\n",
       "      <td>15.81</td>\n",
       "      <td>15.13</td>\n",
       "      <td>15.94</td>\n",
       "      <td>15.95</td>\n",
       "      <td>1070</td>\n",
       "      <td>48.202847</td>\n",
       "      <td>16.347003</td>\n",
       "    </tr>\n",
       "    <tr>\n",
       "      <th>5</th>\n",
       "      <td>Mariahilf</td>\n",
       "      <td>18.42</td>\n",
       "      <td>16.04</td>\n",
       "      <td>16.79</td>\n",
       "      <td>15.86</td>\n",
       "      <td>17.00</td>\n",
       "      <td>1060</td>\n",
       "      <td>48.197041</td>\n",
       "      <td>16.350918</td>\n",
       "    </tr>\n",
       "    <tr>\n",
       "      <th>2</th>\n",
       "      <td>Landstrasse</td>\n",
       "      <td>18.94</td>\n",
       "      <td>16.65</td>\n",
       "      <td>15.44</td>\n",
       "      <td>17.70</td>\n",
       "      <td>17.71</td>\n",
       "      <td>1030</td>\n",
       "      <td>48.201294</td>\n",
       "      <td>16.388705</td>\n",
       "    </tr>\n",
       "    <tr>\n",
       "      <th>0</th>\n",
       "      <td>Innere Stadt</td>\n",
       "      <td>22.97</td>\n",
       "      <td>20.32</td>\n",
       "      <td>18.84</td>\n",
       "      <td>19.68</td>\n",
       "      <td>20.00</td>\n",
       "      <td>1010</td>\n",
       "      <td>48.211794</td>\n",
       "      <td>16.371039</td>\n",
       "    </tr>\n",
       "  </tbody>\n",
       "</table>\n",
       "</div>"
      ],
      "text/plain": [
       "    Neighborhood  small  medium    big  large  meanPrice  Postal Code  \\\n",
       "15     Ottakring  17.16   13.46  13.27  15.14      14.83         1160   \n",
       "19   Brigittenau  16.09   13.93  11.26  11.93      13.79         1200   \n",
       "14   Rudolfsheim  16.81   14.10  12.28  12.49      15.07         1150   \n",
       "4     Margareten  17.07   14.15  13.52  16.60      15.40         1050   \n",
       "16       Hernals  14.67   14.18  14.34  15.21      14.38         1170   \n",
       "17      Waehring  15.75   14.48  16.40  17.22      15.46         1180   \n",
       "10     Simmering  16.88   14.66  11.27   0.00      16.15         1110   \n",
       "13       Penzing  18.54   14.67  14.02  12.09      15.04         1140   \n",
       "9      Favoriten  16.15   14.75  13.95  11.90      15.00         1100   \n",
       "12      Hietzing  16.28   14.87  14.72  15.53      15.19         1130   \n",
       "20   Floridsdorf  16.68   14.99  13.89  11.34      15.55         1210   \n",
       "1   Leopoldstadt  17.55   15.01  14.77  13.36      15.35         1020   \n",
       "8     Alsergrund  18.66   15.07  15.98  17.39      16.52         1090   \n",
       "11      Meidling  17.23   15.10  13.80  11.77      16.49         1120   \n",
       "3         Wieden  18.37   15.11  16.70  16.41      16.22         1040   \n",
       "7     Josefstadt  18.00   15.11  13.65  14.74      15.38         1080   \n",
       "22       Liesing  16.48   15.15  15.83  12.59      15.37         1230   \n",
       "18      Doebling  16.06   15.34  15.76  19.50      16.15         1190   \n",
       "21    Donaustadt  17.27   15.60  15.99  16.36      16.53         1220   \n",
       "6         Neubau  16.77   15.81  15.13  15.94      15.95         1070   \n",
       "5      Mariahilf  18.42   16.04  16.79  15.86      17.00         1060   \n",
       "2    Landstrasse  18.94   16.65  15.44  17.70      17.71         1030   \n",
       "0   Innere Stadt  22.97   20.32  18.84  19.68      20.00         1010   \n",
       "\n",
       "     Latitude  Longitude  \n",
       "15  48.209344  16.327269  \n",
       "19  48.233069  16.370942  \n",
       "14  48.194142  16.333661  \n",
       "4   48.190615  16.354170  \n",
       "16  48.218361  16.332049  \n",
       "17  48.226844  16.342426  \n",
       "10  48.175180  16.412319  \n",
       "13  48.197241  16.285466  \n",
       "9   48.178493  16.374804  \n",
       "12  48.188226  16.300459  \n",
       "20  48.257754  16.397286  \n",
       "1   48.216516  16.379789  \n",
       "8   48.221133  16.354741  \n",
       "11  48.183116  16.329163  \n",
       "3   48.194304  16.369751  \n",
       "7   48.212639  16.346747  \n",
       "22  48.134861  16.282154  \n",
       "18  48.246244  16.343022  \n",
       "21  48.241009  16.437782  \n",
       "6   48.202847  16.347003  \n",
       "5   48.197041  16.350918  \n",
       "2   48.201294  16.388705  \n",
       "0   48.211794  16.371039  "
      ]
     },
     "execution_count": 167,
     "metadata": {},
     "output_type": "execute_result"
    }
   ],
   "source": [
    "dataset_sorted_medium = dataset.sort_values(by=['medium'])\n",
    "dataset_sorted_medium"
   ]
  },
  {
   "cell_type": "markdown",
   "metadata": {},
   "source": [
    "#### 3.8 Inspecting neighborhoods after new sorting\n",
    "Gathering venues and selecting Top 10 common venues of each neighborhood"
   ]
  },
  {
   "cell_type": "code",
   "execution_count": 170,
   "metadata": {
    "collapsed": true
   },
   "outputs": [
    {
     "data": {
      "text/html": [
       "<div>\n",
       "<style scoped>\n",
       "    .dataframe tbody tr th:only-of-type {\n",
       "        vertical-align: middle;\n",
       "    }\n",
       "\n",
       "    .dataframe tbody tr th {\n",
       "        vertical-align: top;\n",
       "    }\n",
       "\n",
       "    .dataframe thead th {\n",
       "        text-align: right;\n",
       "    }\n",
       "</style>\n",
       "<table border=\"1\" class=\"dataframe\">\n",
       "  <thead>\n",
       "    <tr style=\"text-align: right;\">\n",
       "      <th></th>\n",
       "      <th>name</th>\n",
       "      <th>categories</th>\n",
       "      <th>lat</th>\n",
       "      <th>lng</th>\n",
       "    </tr>\n",
       "  </thead>\n",
       "  <tbody>\n",
       "    <tr>\n",
       "      <th>0</th>\n",
       "      <td>Pizzeria Da Filippo</td>\n",
       "      <td>Italian Restaurant</td>\n",
       "      <td>48.210482</td>\n",
       "      <td>16.327725</td>\n",
       "    </tr>\n",
       "    <tr>\n",
       "      <th>1</th>\n",
       "      <td>Mani Wien</td>\n",
       "      <td>Mediterranean Restaurant</td>\n",
       "      <td>48.213248</td>\n",
       "      <td>16.336070</td>\n",
       "    </tr>\n",
       "    <tr>\n",
       "      <th>2</th>\n",
       "      <td>Halle D</td>\n",
       "      <td>Concert Hall</td>\n",
       "      <td>48.202307</td>\n",
       "      <td>16.333359</td>\n",
       "    </tr>\n",
       "    <tr>\n",
       "      <th>3</th>\n",
       "      <td>Yppenplatz</td>\n",
       "      <td>Plaza</td>\n",
       "      <td>48.213500</td>\n",
       "      <td>16.335955</td>\n",
       "    </tr>\n",
       "    <tr>\n",
       "      <th>4</th>\n",
       "      <td>Konoba</td>\n",
       "      <td>Mediterranean Restaurant</td>\n",
       "      <td>48.207123</td>\n",
       "      <td>16.346944</td>\n",
       "    </tr>\n",
       "    <tr>\n",
       "      <th>...</th>\n",
       "      <td>...</td>\n",
       "      <td>...</td>\n",
       "      <td>...</td>\n",
       "      <td>...</td>\n",
       "    </tr>\n",
       "    <tr>\n",
       "      <th>95</th>\n",
       "      <td>Schlosspark Schönbrunn</td>\n",
       "      <td>Park</td>\n",
       "      <td>48.181597</td>\n",
       "      <td>16.310577</td>\n",
       "    </tr>\n",
       "    <tr>\n",
       "      <th>96</th>\n",
       "      <td>Kolar</td>\n",
       "      <td>Gastropub</td>\n",
       "      <td>48.210538</td>\n",
       "      <td>16.370033</td>\n",
       "    </tr>\n",
       "    <tr>\n",
       "      <th>97</th>\n",
       "      <td>Lamm</td>\n",
       "      <td>Falafel Restaurant</td>\n",
       "      <td>48.188051</td>\n",
       "      <td>16.333394</td>\n",
       "    </tr>\n",
       "    <tr>\n",
       "      <th>98</th>\n",
       "      <td>Kaiserliche Wagenburg Wien</td>\n",
       "      <td>History Museum</td>\n",
       "      <td>48.186058</td>\n",
       "      <td>16.310204</td>\n",
       "    </tr>\n",
       "    <tr>\n",
       "      <th>99</th>\n",
       "      <td>Senhor Vinho</td>\n",
       "      <td>Portuguese Restaurant</td>\n",
       "      <td>48.187311</td>\n",
       "      <td>16.353561</td>\n",
       "    </tr>\n",
       "  </tbody>\n",
       "</table>\n",
       "<p>100 rows × 4 columns</p>\n",
       "</div>"
      ],
      "text/plain": [
       "                          name                categories        lat        lng\n",
       "0          Pizzeria Da Filippo        Italian Restaurant  48.210482  16.327725\n",
       "1                    Mani Wien  Mediterranean Restaurant  48.213248  16.336070\n",
       "2                      Halle D              Concert Hall  48.202307  16.333359\n",
       "3                   Yppenplatz                     Plaza  48.213500  16.335955\n",
       "4                       Konoba  Mediterranean Restaurant  48.207123  16.346944\n",
       "..                         ...                       ...        ...        ...\n",
       "95      Schlosspark Schönbrunn                      Park  48.181597  16.310577\n",
       "96                       Kolar                 Gastropub  48.210538  16.370033\n",
       "97                        Lamm        Falafel Restaurant  48.188051  16.333394\n",
       "98  Kaiserliche Wagenburg Wien            History Museum  48.186058  16.310204\n",
       "99                Senhor Vinho     Portuguese Restaurant  48.187311  16.353561\n",
       "\n",
       "[100 rows x 4 columns]"
      ]
     },
     "execution_count": 170,
     "metadata": {},
     "output_type": "execute_result"
    }
   ],
   "source": [
    "ottakring_lat = dataset.loc[15, 'Latitude']\n",
    "ottakring_lon = dataset.loc[15,'Longitude']\n",
    "\n",
    "lat = ottakring_lat\n",
    "lng = ottakring_lon\n",
    "\n",
    "ottakring_venues = getVenues(lat, lng, radius=5000)\n",
    "ottakring_venues"
   ]
  },
  {
   "cell_type": "code",
   "execution_count": 179,
   "metadata": {
    "collapsed": true
   },
   "outputs": [
    {
     "data": {
      "text/html": [
       "<div>\n",
       "<style scoped>\n",
       "    .dataframe tbody tr th:only-of-type {\n",
       "        vertical-align: middle;\n",
       "    }\n",
       "\n",
       "    .dataframe tbody tr th {\n",
       "        vertical-align: top;\n",
       "    }\n",
       "\n",
       "    .dataframe thead th {\n",
       "        text-align: right;\n",
       "    }\n",
       "</style>\n",
       "<table border=\"1\" class=\"dataframe\">\n",
       "  <thead>\n",
       "    <tr style=\"text-align: right;\">\n",
       "      <th></th>\n",
       "      <th>categories</th>\n",
       "    </tr>\n",
       "  </thead>\n",
       "  <tbody>\n",
       "    <tr>\n",
       "      <th>Plaza</th>\n",
       "      <td>7</td>\n",
       "    </tr>\n",
       "    <tr>\n",
       "      <th>Austrian Restaurant</th>\n",
       "      <td>7</td>\n",
       "    </tr>\n",
       "    <tr>\n",
       "      <th>Hotel</th>\n",
       "      <td>6</td>\n",
       "    </tr>\n",
       "    <tr>\n",
       "      <th>Café</th>\n",
       "      <td>6</td>\n",
       "    </tr>\n",
       "    <tr>\n",
       "      <th>Coffee Shop</th>\n",
       "      <td>5</td>\n",
       "    </tr>\n",
       "    <tr>\n",
       "      <th>Park</th>\n",
       "      <td>5</td>\n",
       "    </tr>\n",
       "    <tr>\n",
       "      <th>Ice Cream Shop</th>\n",
       "      <td>5</td>\n",
       "    </tr>\n",
       "    <tr>\n",
       "      <th>Art Museum</th>\n",
       "      <td>3</td>\n",
       "    </tr>\n",
       "    <tr>\n",
       "      <th>Restaurant</th>\n",
       "      <td>3</td>\n",
       "    </tr>\n",
       "    <tr>\n",
       "      <th>Gastropub</th>\n",
       "      <td>3</td>\n",
       "    </tr>\n",
       "    <tr>\n",
       "      <th>Mediterranean Restaurant</th>\n",
       "      <td>2</td>\n",
       "    </tr>\n",
       "    <tr>\n",
       "      <th>Falafel Restaurant</th>\n",
       "      <td>2</td>\n",
       "    </tr>\n",
       "    <tr>\n",
       "      <th>Palace</th>\n",
       "      <td>2</td>\n",
       "    </tr>\n",
       "    <tr>\n",
       "      <th>History Museum</th>\n",
       "      <td>2</td>\n",
       "    </tr>\n",
       "    <tr>\n",
       "      <th>Gym / Fitness Center</th>\n",
       "      <td>2</td>\n",
       "    </tr>\n",
       "    <tr>\n",
       "      <th>Italian Restaurant</th>\n",
       "      <td>2</td>\n",
       "    </tr>\n",
       "    <tr>\n",
       "      <th>Pizza Place</th>\n",
       "      <td>2</td>\n",
       "    </tr>\n",
       "    <tr>\n",
       "      <th>Historic Site</th>\n",
       "      <td>1</td>\n",
       "    </tr>\n",
       "    <tr>\n",
       "      <th>Gym</th>\n",
       "      <td>1</td>\n",
       "    </tr>\n",
       "    <tr>\n",
       "      <th>Bar</th>\n",
       "      <td>1</td>\n",
       "    </tr>\n",
       "    <tr>\n",
       "      <th>Food</th>\n",
       "      <td>1</td>\n",
       "    </tr>\n",
       "    <tr>\n",
       "      <th>Candy Store</th>\n",
       "      <td>1</td>\n",
       "    </tr>\n",
       "    <tr>\n",
       "      <th>Breakfast Spot</th>\n",
       "      <td>1</td>\n",
       "    </tr>\n",
       "    <tr>\n",
       "      <th>Vietnamese Restaurant</th>\n",
       "      <td>1</td>\n",
       "    </tr>\n",
       "    <tr>\n",
       "      <th>Outdoor Supply Store</th>\n",
       "      <td>1</td>\n",
       "    </tr>\n",
       "    <tr>\n",
       "      <th>Greek Restaurant</th>\n",
       "      <td>1</td>\n",
       "    </tr>\n",
       "    <tr>\n",
       "      <th>Trattoria/Osteria</th>\n",
       "      <td>1</td>\n",
       "    </tr>\n",
       "    <tr>\n",
       "      <th>Dessert Shop</th>\n",
       "      <td>1</td>\n",
       "    </tr>\n",
       "    <tr>\n",
       "      <th>Gourmet Shop</th>\n",
       "      <td>1</td>\n",
       "    </tr>\n",
       "    <tr>\n",
       "      <th>Opera House</th>\n",
       "      <td>1</td>\n",
       "    </tr>\n",
       "    <tr>\n",
       "      <th>Church</th>\n",
       "      <td>1</td>\n",
       "    </tr>\n",
       "    <tr>\n",
       "      <th>Portuguese Restaurant</th>\n",
       "      <td>1</td>\n",
       "    </tr>\n",
       "    <tr>\n",
       "      <th>Sushi Restaurant</th>\n",
       "      <td>1</td>\n",
       "    </tr>\n",
       "    <tr>\n",
       "      <th>Pedestrian Plaza</th>\n",
       "      <td>1</td>\n",
       "    </tr>\n",
       "    <tr>\n",
       "      <th>Middle Eastern Restaurant</th>\n",
       "      <td>1</td>\n",
       "    </tr>\n",
       "    <tr>\n",
       "      <th>Tea Room</th>\n",
       "      <td>1</td>\n",
       "    </tr>\n",
       "    <tr>\n",
       "      <th>Cupcake Shop</th>\n",
       "      <td>1</td>\n",
       "    </tr>\n",
       "    <tr>\n",
       "      <th>Toy / Game Store</th>\n",
       "      <td>1</td>\n",
       "    </tr>\n",
       "    <tr>\n",
       "      <th>Museum</th>\n",
       "      <td>1</td>\n",
       "    </tr>\n",
       "    <tr>\n",
       "      <th>Doner Restaurant</th>\n",
       "      <td>1</td>\n",
       "    </tr>\n",
       "    <tr>\n",
       "      <th>French Restaurant</th>\n",
       "      <td>1</td>\n",
       "    </tr>\n",
       "    <tr>\n",
       "      <th>Beer Store</th>\n",
       "      <td>1</td>\n",
       "    </tr>\n",
       "    <tr>\n",
       "      <th>Science Museum</th>\n",
       "      <td>1</td>\n",
       "    </tr>\n",
       "    <tr>\n",
       "      <th>Asian Restaurant</th>\n",
       "      <td>1</td>\n",
       "    </tr>\n",
       "    <tr>\n",
       "      <th>Japanese Restaurant</th>\n",
       "      <td>1</td>\n",
       "    </tr>\n",
       "    <tr>\n",
       "      <th>Concert Hall</th>\n",
       "      <td>1</td>\n",
       "    </tr>\n",
       "    <tr>\n",
       "      <th>Seafood Restaurant</th>\n",
       "      <td>1</td>\n",
       "    </tr>\n",
       "    <tr>\n",
       "      <th>Cheese Shop</th>\n",
       "      <td>1</td>\n",
       "    </tr>\n",
       "    <tr>\n",
       "      <th>Thai Restaurant</th>\n",
       "      <td>1</td>\n",
       "    </tr>\n",
       "    <tr>\n",
       "      <th>Hostel</th>\n",
       "      <td>1</td>\n",
       "    </tr>\n",
       "    <tr>\n",
       "      <th>Hungarian Restaurant</th>\n",
       "      <td>1</td>\n",
       "    </tr>\n",
       "    <tr>\n",
       "      <th>Jazz Club</th>\n",
       "      <td>1</td>\n",
       "    </tr>\n",
       "    <tr>\n",
       "      <th>Ethiopian Restaurant</th>\n",
       "      <td>1</td>\n",
       "    </tr>\n",
       "  </tbody>\n",
       "</table>\n",
       "</div>"
      ],
      "text/plain": [
       "                           categories\n",
       "Plaza                               7\n",
       "Austrian Restaurant                 7\n",
       "Hotel                               6\n",
       "Café                                6\n",
       "Coffee Shop                         5\n",
       "Park                                5\n",
       "Ice Cream Shop                      5\n",
       "Art Museum                          3\n",
       "Restaurant                          3\n",
       "Gastropub                           3\n",
       "Mediterranean Restaurant            2\n",
       "Falafel Restaurant                  2\n",
       "Palace                              2\n",
       "History Museum                      2\n",
       "Gym / Fitness Center                2\n",
       "Italian Restaurant                  2\n",
       "Pizza Place                         2\n",
       "Historic Site                       1\n",
       "Gym                                 1\n",
       "Bar                                 1\n",
       "Food                                1\n",
       "Candy Store                         1\n",
       "Breakfast Spot                      1\n",
       "Vietnamese Restaurant               1\n",
       "Outdoor Supply Store                1\n",
       "Greek Restaurant                    1\n",
       "Trattoria/Osteria                   1\n",
       "Dessert Shop                        1\n",
       "Gourmet Shop                        1\n",
       "Opera House                         1\n",
       "Church                              1\n",
       "Portuguese Restaurant               1\n",
       "Sushi Restaurant                    1\n",
       "Pedestrian Plaza                    1\n",
       "Middle Eastern Restaurant           1\n",
       "Tea Room                            1\n",
       "Cupcake Shop                        1\n",
       "Toy / Game Store                    1\n",
       "Museum                              1\n",
       "Doner Restaurant                    1\n",
       "French Restaurant                   1\n",
       "Beer Store                          1\n",
       "Science Museum                      1\n",
       "Asian Restaurant                    1\n",
       "Japanese Restaurant                 1\n",
       "Concert Hall                        1\n",
       "Seafood Restaurant                  1\n",
       "Cheese Shop                         1\n",
       "Thai Restaurant                     1\n",
       "Hostel                              1\n",
       "Hungarian Restaurant                1\n",
       "Jazz Club                           1\n",
       "Ethiopian Restaurant                1"
      ]
     },
     "execution_count": 179,
     "metadata": {},
     "output_type": "execute_result"
    }
   ],
   "source": [
    "otta_counts = ottakring_venues['categories'].value_counts().to_frame()\n",
    "otta_counts"
   ]
  },
  {
   "cell_type": "code",
   "execution_count": 183,
   "metadata": {},
   "outputs": [
    {
     "data": {
      "text/plain": [
       "categories    52\n",
       "dtype: int64"
      ]
     },
     "execution_count": 183,
     "metadata": {},
     "output_type": "execute_result"
    }
   ],
   "source": [
    "ottakring_venues_sum_top10 = otta_counts[0:11].sum()\n",
    "ottakring_venues_sum_top10"
   ]
  },
  {
   "cell_type": "code",
   "execution_count": 185,
   "metadata": {},
   "outputs": [
    {
     "data": {
      "text/plain": [
       "categories    14\n",
       "dtype: int64"
      ]
     },
     "execution_count": 185,
     "metadata": {},
     "output_type": "execute_result"
    }
   ],
   "source": [
    "brigittenau_counts = brigittenau_venues['categories'].value_counts().to_frame()\n",
    "brigittenau_venues_sum_top10 = brigittenau_counts[0:11].sum()\n",
    "brigittenau_venues_sum_top10"
   ]
  },
  {
   "cell_type": "code",
   "execution_count": 191,
   "metadata": {
    "collapsed": true
   },
   "outputs": [
    {
     "data": {
      "text/html": [
       "<div>\n",
       "<style scoped>\n",
       "    .dataframe tbody tr th:only-of-type {\n",
       "        vertical-align: middle;\n",
       "    }\n",
       "\n",
       "    .dataframe tbody tr th {\n",
       "        vertical-align: top;\n",
       "    }\n",
       "\n",
       "    .dataframe thead th {\n",
       "        text-align: right;\n",
       "    }\n",
       "</style>\n",
       "<table border=\"1\" class=\"dataframe\">\n",
       "  <thead>\n",
       "    <tr style=\"text-align: right;\">\n",
       "      <th></th>\n",
       "      <th>name</th>\n",
       "      <th>categories</th>\n",
       "      <th>lat</th>\n",
       "      <th>lng</th>\n",
       "    </tr>\n",
       "  </thead>\n",
       "  <tbody>\n",
       "    <tr>\n",
       "      <th>0</th>\n",
       "      <td>Mercure Raphael Wien</td>\n",
       "      <td>Hotel</td>\n",
       "      <td>48.191964</td>\n",
       "      <td>16.339053</td>\n",
       "    </tr>\n",
       "    <tr>\n",
       "      <th>1</th>\n",
       "      <td>Gota Coffee Experts</td>\n",
       "      <td>Coffee Shop</td>\n",
       "      <td>48.191240</td>\n",
       "      <td>16.326945</td>\n",
       "    </tr>\n",
       "    <tr>\n",
       "      <th>2</th>\n",
       "      <td>Vienna Hostel Ruthensteiner</td>\n",
       "      <td>Hostel</td>\n",
       "      <td>48.193419</td>\n",
       "      <td>16.335592</td>\n",
       "    </tr>\n",
       "    <tr>\n",
       "      <th>3</th>\n",
       "      <td>Das Augustin</td>\n",
       "      <td>Austrian Restaurant</td>\n",
       "      <td>48.196657</td>\n",
       "      <td>16.323068</td>\n",
       "    </tr>\n",
       "    <tr>\n",
       "      <th>4</th>\n",
       "      <td>Turnhalle</td>\n",
       "      <td>Café</td>\n",
       "      <td>48.189570</td>\n",
       "      <td>16.334408</td>\n",
       "    </tr>\n",
       "  </tbody>\n",
       "</table>\n",
       "</div>"
      ],
      "text/plain": [
       "                          name           categories        lat        lng\n",
       "0         Mercure Raphael Wien                Hotel  48.191964  16.339053\n",
       "1          Gota Coffee Experts          Coffee Shop  48.191240  16.326945\n",
       "2  Vienna Hostel Ruthensteiner               Hostel  48.193419  16.335592\n",
       "3                 Das Augustin  Austrian Restaurant  48.196657  16.323068\n",
       "4                    Turnhalle                 Café  48.189570  16.334408"
      ]
     },
     "execution_count": 191,
     "metadata": {},
     "output_type": "execute_result"
    }
   ],
   "source": [
    "rudolfsheim_lat = dataset.loc[14,'Latitude']\n",
    "rudolfsheim_lon = dataset.loc[14, 'Longitude']\n",
    "\n",
    "lat = rudolfsheim_lat\n",
    "lng = rudolfsheim_lon\n",
    "\n",
    "rudolfsheim_venues = getVenues(lat, lng, radius=5000)"
   ]
  },
  {
   "cell_type": "code",
   "execution_count": 192,
   "metadata": {},
   "outputs": [
    {
     "data": {
      "text/plain": [
       "categories    46\n",
       "dtype: int64"
      ]
     },
     "execution_count": 192,
     "metadata": {},
     "output_type": "execute_result"
    }
   ],
   "source": [
    "rudolfsheim_counts = rudolfsheim_venues['categories'].value_counts().to_frame()\n",
    "rudolfsheim_venues_sum_top10 = rudolfsheim_counts[0:11].sum()\n",
    "rudolfsheim_venues_sum_top10"
   ]
  },
  {
   "cell_type": "code",
   "execution_count": 226,
   "metadata": {},
   "outputs": [],
   "source": [
    "margareten_lat = dataset.loc[4,'Latitude']\n",
    "margareten_lon = dataset.loc[4, 'Longitude']\n",
    "\n",
    "lat = margareten_lat\n",
    "lng = margareten_lon\n",
    "\n",
    "margareten_venues = getVenues(lat, lng, radius=5000)"
   ]
  },
  {
   "cell_type": "code",
   "execution_count": 227,
   "metadata": {},
   "outputs": [
    {
     "data": {
      "text/plain": [
       "categories    46\n",
       "dtype: int64"
      ]
     },
     "execution_count": 227,
     "metadata": {},
     "output_type": "execute_result"
    }
   ],
   "source": [
    "margareten_counts = rudolfsheim_venues['categories'].value_counts().to_frame()\n",
    "margareten_venues_sum_top10 = margareten_counts[0:11].sum()\n",
    "margareten_venues_sum_top10"
   ]
  },
  {
   "cell_type": "code",
   "execution_count": 228,
   "metadata": {},
   "outputs": [],
   "source": [
    "hernals_lat = dataset.loc[16,'Latitude']\n",
    "hernals_lon = dataset.loc[16, 'Longitude']\n",
    "\n",
    "lat = hernals_lat\n",
    "lng = hernals_lon\n",
    "\n",
    "hernals_venues = getVenues(lat, lng, radius=5000)"
   ]
  },
  {
   "cell_type": "code",
   "execution_count": 229,
   "metadata": {},
   "outputs": [
    {
     "data": {
      "text/plain": [
       "categories    55\n",
       "dtype: int64"
      ]
     },
     "execution_count": 229,
     "metadata": {},
     "output_type": "execute_result"
    }
   ],
   "source": [
    "hernals_counts = hernals_venues['categories'].value_counts().to_frame()\n",
    "hernals_venues_sum_top10 = hernals_counts[0:11].sum()\n",
    "hernals_venues_sum_top10"
   ]
  },
  {
   "cell_type": "code",
   "execution_count": 231,
   "metadata": {},
   "outputs": [
    {
     "data": {
      "text/plain": [
       "categories    60\n",
       "dtype: int64"
      ]
     },
     "execution_count": 231,
     "metadata": {},
     "output_type": "execute_result"
    }
   ],
   "source": [
    "waehring_lat = dataset.loc[17,'Latitude']\n",
    "waehring_lon = dataset.loc[17, 'Longitude']\n",
    "\n",
    "lat = waehring_lat\n",
    "lng = waehring_lon\n",
    "\n",
    "waehring_venues = getVenues(lat, lng, radius=5000)\n",
    "\n",
    "waehring_counts = waehring_venues['categories'].value_counts().to_frame()\n",
    "waehring_venues_sum_top10 = waehring_counts[0:11].sum()\n",
    "waehring_venues_sum_top10"
   ]
  },
  {
   "cell_type": "code",
   "execution_count": 232,
   "metadata": {},
   "outputs": [
    {
     "data": {
      "text/plain": [
       "categories    52\n",
       "dtype: int64"
      ]
     },
     "execution_count": 232,
     "metadata": {},
     "output_type": "execute_result"
    }
   ],
   "source": [
    "simmering_lat = dataset.loc[10,'Latitude']\n",
    "simmering_lon = dataset.loc[10, 'Longitude']\n",
    "\n",
    "lat = simmering_lat\n",
    "lng = simmering_lon\n",
    "\n",
    "simmering_venues = getVenues(lat, lng, radius=5000)\n",
    "\n",
    "simmering_counts = simmering_venues['categories'].value_counts().to_frame()\n",
    "simmering_venues_sum_top10 = simmering_counts[0:11].sum()\n",
    "simmering_venues_sum_top10"
   ]
  },
  {
   "cell_type": "code",
   "execution_count": 233,
   "metadata": {},
   "outputs": [
    {
     "data": {
      "text/plain": [
       "categories    45\n",
       "dtype: int64"
      ]
     },
     "execution_count": 233,
     "metadata": {},
     "output_type": "execute_result"
    }
   ],
   "source": [
    "penzing_lat = dataset.loc[13,'Latitude']\n",
    "penzing_lon = dataset.loc[13, 'Longitude']\n",
    "\n",
    "lat = penzing_lat\n",
    "lng = penzing_lon\n",
    "\n",
    "penzing_venues = getVenues(lat, lng, radius=5000)\n",
    "\n",
    "penzing_counts = penzing_venues['categories'].value_counts().to_frame()\n",
    "penzing_venues_sum_top10 = penzing_counts[0:11].sum()\n",
    "penzing_venues_sum_top10"
   ]
  },
  {
   "cell_type": "code",
   "execution_count": 234,
   "metadata": {},
   "outputs": [
    {
     "data": {
      "text/plain": [
       "categories    49\n",
       "dtype: int64"
      ]
     },
     "execution_count": 234,
     "metadata": {},
     "output_type": "execute_result"
    }
   ],
   "source": [
    "favoriten_lat = dataset.loc[9,'Latitude']\n",
    "favoriten_lon = dataset.loc[9, 'Longitude']\n",
    "\n",
    "lat = favoriten_lat\n",
    "lng = favoriten_lon\n",
    "\n",
    "favoriten_venues = getVenues(lat, lng, radius=5000)\n",
    "\n",
    "favoriten_counts = favoriten_venues['categories'].value_counts().to_frame()\n",
    "favoriten_venues_sum_top10 = favoriten_counts[0:11].sum()\n",
    "favoriten_venues_sum_top10"
   ]
  },
  {
   "cell_type": "code",
   "execution_count": 236,
   "metadata": {},
   "outputs": [
    {
     "data": {
      "text/plain": [
       "categories    46\n",
       "dtype: int64"
      ]
     },
     "execution_count": 236,
     "metadata": {},
     "output_type": "execute_result"
    }
   ],
   "source": [
    "hietzing_lat = dataset.loc[12,'Latitude']\n",
    "hietzing_lon = dataset.loc[12, 'Longitude']\n",
    "\n",
    "lat = hietzing_lat\n",
    "lng = hietzing_lon\n",
    "\n",
    "hietzing_venues = getVenues(lat, lng, radius=5000)\n",
    "\n",
    "hietzing_counts = hietzing_venues['categories'].value_counts().to_frame()\n",
    "hietzing_venues_sum_top10 = hietzing_counts[0:11].sum()\n",
    "hietzing_venues_sum_top10"
   ]
  },
  {
   "cell_type": "code",
   "execution_count": 238,
   "metadata": {},
   "outputs": [
    {
     "data": {
      "text/plain": [
       "categories    55\n",
       "dtype: int64"
      ]
     },
     "execution_count": 238,
     "metadata": {},
     "output_type": "execute_result"
    }
   ],
   "source": [
    "floridsdorf_lat = dataset.loc[20,'Latitude']\n",
    "floridsdorf_lon = dataset.loc[20, 'Longitude']\n",
    "\n",
    "lat = floridsdorf_lat\n",
    "lng = floridsdorf_lon\n",
    "\n",
    "floridsdorf_venues = getVenues(lat, lng, radius=5000)\n",
    "\n",
    "floridsdorf_counts = floridsdorf_venues['categories'].value_counts().to_frame()\n",
    "floridsdorf_venues_sum_top10 = floridsdorf_counts[0:11].sum()\n",
    "floridsdorf_venues_sum_top10"
   ]
  },
  {
   "cell_type": "code",
   "execution_count": 239,
   "metadata": {},
   "outputs": [
    {
     "data": {
      "text/plain": [
       "categories    52\n",
       "dtype: int64"
      ]
     },
     "execution_count": 239,
     "metadata": {},
     "output_type": "execute_result"
    }
   ],
   "source": [
    "leopoldstadt_lat = dataset.loc[1,'Latitude']\n",
    "leopoldstadt_lon = dataset.loc[1, 'Longitude']\n",
    "\n",
    "lat = leopoldstadt_lat\n",
    "lng = leopoldstadt_lon\n",
    "\n",
    "leopoldstadt_venues = getVenues(lat, lng, radius=5000)\n",
    "\n",
    "leopoldstadt_counts = leopoldstadt_venues['categories'].value_counts().to_frame()\n",
    "leopoldstadt_venues_sum_top10 = leopoldstadt_counts[0:11].sum()\n",
    "leopoldstadt_venues_sum_top10"
   ]
  },
  {
   "cell_type": "code",
   "execution_count": 241,
   "metadata": {},
   "outputs": [
    {
     "data": {
      "text/plain": [
       "categories    58\n",
       "dtype: int64"
      ]
     },
     "execution_count": 241,
     "metadata": {},
     "output_type": "execute_result"
    }
   ],
   "source": [
    "alsergrund_lat = dataset.loc[8,'Latitude']\n",
    "alsergrund_lon = dataset.loc[8, 'Longitude']\n",
    "\n",
    "lat = alsergrund_lat\n",
    "lng = alsergrund_lon\n",
    "\n",
    "alsergrund_venues = getVenues(lat, lng, radius=5000)\n",
    "\n",
    "alsergrund_counts = alsergrund_venues['categories'].value_counts().to_frame()\n",
    "alsergrund_venues_sum_top10 = alsergrund_counts[0:11].sum()\n",
    "alsergrund_venues_sum_top10"
   ]
  },
  {
   "cell_type": "code",
   "execution_count": 242,
   "metadata": {},
   "outputs": [
    {
     "data": {
      "text/plain": [
       "categories    42\n",
       "dtype: int64"
      ]
     },
     "execution_count": 242,
     "metadata": {},
     "output_type": "execute_result"
    }
   ],
   "source": [
    "meidling_lat = dataset.loc[11,'Latitude']\n",
    "meidling_lon = dataset.loc[11, 'Longitude']\n",
    "\n",
    "lat = meidling_lat\n",
    "lng = meidling_lon\n",
    "\n",
    "meidling_venues = getVenues(lat, lng, radius=5000)\n",
    "\n",
    "meidling_counts = meidling_venues['categories'].value_counts().to_frame()\n",
    "meidling_venues_sum_top10 = meidling_counts[0:11].sum()\n",
    "meidling_venues_sum_top10"
   ]
  },
  {
   "cell_type": "code",
   "execution_count": 243,
   "metadata": {},
   "outputs": [
    {
     "data": {
      "text/plain": [
       "categories    53\n",
       "dtype: int64"
      ]
     },
     "execution_count": 243,
     "metadata": {},
     "output_type": "execute_result"
    }
   ],
   "source": [
    "wieden_lat = dataset.loc[3,'Latitude']\n",
    "wieden_lon = dataset.loc[3, 'Longitude']\n",
    "\n",
    "lat = wieden_lat\n",
    "lng = wieden_lon\n",
    "\n",
    "wieden_venues = getVenues(lat, lng, radius=5000)\n",
    "\n",
    "wieden_counts = wieden_venues['categories'].value_counts().to_frame()\n",
    "wieden_venues_sum_top10 = wieden_counts[0:11].sum()\n",
    "wieden_venues_sum_top10"
   ]
  },
  {
   "cell_type": "code",
   "execution_count": 245,
   "metadata": {},
   "outputs": [
    {
     "data": {
      "text/plain": [
       "categories    53\n",
       "dtype: int64"
      ]
     },
     "execution_count": 245,
     "metadata": {},
     "output_type": "execute_result"
    }
   ],
   "source": [
    "josefstadt_lat = dataset.loc[7,'Latitude']\n",
    "josefstadt_lon = dataset.loc[7, 'Longitude']\n",
    "\n",
    "lat = josefstadt_lat\n",
    "lng = josefstadt_lon\n",
    "\n",
    "josefstadt_venues = getVenues(lat, lng, radius=5000)\n",
    "\n",
    "josefstadt_counts = josefstadt_venues['categories'].value_counts().to_frame()\n",
    "josefstadt_venues_sum_top10 = josefstadt_counts[0:11].sum()\n",
    "josefstadt_venues_sum_top10"
   ]
  },
  {
   "cell_type": "code",
   "execution_count": 247,
   "metadata": {},
   "outputs": [
    {
     "data": {
      "text/plain": [
       "categories    42\n",
       "dtype: int64"
      ]
     },
     "execution_count": 247,
     "metadata": {},
     "output_type": "execute_result"
    }
   ],
   "source": [
    "liesing_lat = dataset.loc[22,'Latitude']\n",
    "liesing_lon = dataset.loc[22, 'Longitude']\n",
    "\n",
    "lat = liesing_lat\n",
    "lng = liesing_lon\n",
    "\n",
    "liesing_venues = getVenues(lat, lng, radius=5000)\n",
    "\n",
    "liesing_counts = liesing_venues['categories'].value_counts().to_frame()\n",
    "liesing_venues_sum_top10 = liesing_counts[0:11].sum()\n",
    "liesing_venues_sum_top10"
   ]
  },
  {
   "cell_type": "code",
   "execution_count": 248,
   "metadata": {},
   "outputs": [
    {
     "data": {
      "text/plain": [
       "categories    63\n",
       "dtype: int64"
      ]
     },
     "execution_count": 248,
     "metadata": {},
     "output_type": "execute_result"
    }
   ],
   "source": [
    "doebling_lat = dataset.loc[18,'Latitude']\n",
    "doebling_lon = dataset.loc[18, 'Longitude']\n",
    "\n",
    "lat = doebling_lat\n",
    "lng = doebling_lon\n",
    "\n",
    "doebling_venues = getVenues(lat, lng, radius=5000)\n",
    "\n",
    "doebling_counts = doebling_venues['categories'].value_counts().to_frame()\n",
    "doebling_venues_sum_top10 = doebling_counts[0:11].sum()\n",
    "doebling_venues_sum_top10"
   ]
  },
  {
   "cell_type": "code",
   "execution_count": 249,
   "metadata": {},
   "outputs": [
    {
     "data": {
      "text/plain": [
       "categories    46\n",
       "dtype: int64"
      ]
     },
     "execution_count": 249,
     "metadata": {},
     "output_type": "execute_result"
    }
   ],
   "source": [
    "donaustadt_lat = dataset.loc[21,'Latitude']\n",
    "donaustadt_lon = dataset.loc[21, 'Longitude']\n",
    "\n",
    "lat = donaustadt_lat\n",
    "lng = donaustadt_lon\n",
    "\n",
    "donaustadt_venues = getVenues(lat, lng, radius=5000)\n",
    "\n",
    "donaustadt_counts = donaustadt_venues['categories'].value_counts().to_frame()\n",
    "donaustadt_venues_sum_top10 = donaustadt_counts[0:11].sum()\n",
    "donaustadt_venues_sum_top10"
   ]
  },
  {
   "cell_type": "code",
   "execution_count": 251,
   "metadata": {},
   "outputs": [
    {
     "data": {
      "text/plain": [
       "categories    51\n",
       "dtype: int64"
      ]
     },
     "execution_count": 251,
     "metadata": {},
     "output_type": "execute_result"
    }
   ],
   "source": [
    "neubau_lat = dataset.loc[6,'Latitude']\n",
    "neubau_lon = dataset.loc[6, 'Longitude']\n",
    "\n",
    "lat = neubau_lat\n",
    "lng = neubau_lon\n",
    "\n",
    "neubau_venues = getVenues(lat, lng, radius=5000)\n",
    "\n",
    "neubau_counts = neubau_venues['categories'].value_counts().to_frame()\n",
    "neubau_venues_sum_top10 = neubau_counts[0:11].sum()\n",
    "neubau_venues_sum_top10"
   ]
  },
  {
   "cell_type": "code",
   "execution_count": 252,
   "metadata": {},
   "outputs": [
    {
     "data": {
      "text/plain": [
       "categories    49\n",
       "dtype: int64"
      ]
     },
     "execution_count": 252,
     "metadata": {},
     "output_type": "execute_result"
    }
   ],
   "source": [
    "mariahilf_lat = dataset.loc[5,'Latitude']\n",
    "mariahilf_lon = dataset.loc[5, 'Longitude']\n",
    "\n",
    "lat = mariahilf_lat\n",
    "lng = mariahilf_lon\n",
    "\n",
    "mariahilf_venues = getVenues(lat, lng, radius=5000)\n",
    "\n",
    "mariahilf_counts = mariahilf_venues['categories'].value_counts().to_frame()\n",
    "mariahilf_venues_sum_top10 = mariahilf_counts[0:11].sum()\n",
    "mariahilf_venues_sum_top10"
   ]
  },
  {
   "cell_type": "code",
   "execution_count": 253,
   "metadata": {},
   "outputs": [
    {
     "data": {
      "text/plain": [
       "categories    53\n",
       "dtype: int64"
      ]
     },
     "execution_count": 253,
     "metadata": {},
     "output_type": "execute_result"
    }
   ],
   "source": [
    "landstrasse_lat = dataset.loc[2,'Latitude']\n",
    "landstrasse_lon = dataset.loc[2, 'Longitude']\n",
    "\n",
    "lat = landstrasse_lat\n",
    "lng = landstrasse_lon\n",
    "\n",
    "landstrasse_venues = getVenues(lat, lng, radius=5000)\n",
    "\n",
    "landstrasse_counts = landstrasse_venues['categories'].value_counts().to_frame()\n",
    "landstrasse_venues_sum_top10 = landstrasse_counts[0:11].sum()\n",
    "landstrasse_venues_sum_top10"
   ]
  },
  {
   "cell_type": "code",
   "execution_count": null,
   "metadata": {},
   "outputs": [],
   "source": [
    "landstrasse_lat = dataset.loc[2,'Latitude']\n",
    "landstrasse_lon = dataset.loc[2, 'Longitude']\n",
    "\n",
    "lat = landstrasse_lat\n",
    "lng = landstrasse_lon\n",
    "\n",
    "landstrasse_venues = getVenues(lat, lng, radius=5000)\n",
    "\n",
    "landstrasse_counts = landstrasse_venues['categories'].value_counts().to_frame()\n",
    "landstrasse_venues_sum_top10 = landstrasse_counts[0:11].sum()\n",
    "landstrasse_venues_sum_top10"
   ]
  },
  {
   "cell_type": "code",
   "execution_count": 254,
   "metadata": {},
   "outputs": [
    {
     "data": {
      "text/plain": [
       "categories    56\n",
       "dtype: int64"
      ]
     },
     "execution_count": 254,
     "metadata": {},
     "output_type": "execute_result"
    }
   ],
   "source": [
    "innerestadt_lat = dataset.loc[0,'Latitude']\n",
    "innerestadt_lon = dataset.loc[0, 'Longitude']\n",
    "\n",
    "lat = innerestadt_lat\n",
    "lng = innerestadt_lon\n",
    "\n",
    "innerestadt_venues = getVenues(lat, lng, radius=5000)\n",
    "\n",
    "innerestadt_counts = innerestadt_venues['categories'].value_counts().to_frame()\n",
    "innerestadt_venues_sum_top10 = innerestadt_counts[0:11].sum()\n",
    "innerestadt_venues_sum_top10"
   ]
  },
  {
   "cell_type": "markdown",
   "metadata": {},
   "source": [
    "#### 3.9 Creating new dataframe with Top 10 Venues"
   ]
  },
  {
   "cell_type": "code",
   "execution_count": 255,
   "metadata": {},
   "outputs": [],
   "source": [
    "# inserting top 10 common venues in each neighborhood\n",
    "\n",
    "dataset_sorted_medium_new = dataset_sorted_medium.insert(9, 'SumTop10', [int(ottakring_venues_sum_top10),\n",
    "                                                                         int(brigittenau_venues_sum_top10),\n",
    "                                                                         int(rudolfsheim_venues_sum_top10),\n",
    "                                                                         int(margareten_venues_sum_top10),\n",
    "                                                                         int(hernals_venues_sum_top10),\n",
    "                                                                         int(waehring_venues_sum_top10),\n",
    "                                                                         int(simmering_venues_sum_top10),\n",
    "                                                                         int(penzing_venues_sum_top10),\n",
    "                                                                         int(favoriten_venues_sum_top10),\n",
    "                                                                         int(hietzing_venues_sum_top10),\n",
    "                                                                         int(floridsdorf_venues_sum_top10),\n",
    "                                                                         int(leopoldstadt_venues_sum_top10),\n",
    "                                                                         int(alsergrund_venues_sum_top10),\n",
    "                                                                         int(meidling_venues_sum_top10),\n",
    "                                                                         int(wieden_venues_sum_top10),\n",
    "                                                                         int(josefstadt_venues_sum_top10),\n",
    "                                                                         int(liesing_venues_sum_top10),\n",
    "                                                                         int(doebling_venues_sum_top10),\n",
    "                                                                         int(donaustadt_venues_sum_top10),\n",
    "                                                                         int(neubau_venues_sum_top10),\n",
    "                                                                         int(mariahilf_venues_sum_top10),\n",
    "                                                                         int(landstrasse_venues_sum_top10),\n",
    "                                                                         int(innerestadt_venues_sum_top10)])"
   ]
  },
  {
   "cell_type": "code",
   "execution_count": 257,
   "metadata": {
    "collapsed": true
   },
   "outputs": [
    {
     "data": {
      "text/html": [
       "<div>\n",
       "<style scoped>\n",
       "    .dataframe tbody tr th:only-of-type {\n",
       "        vertical-align: middle;\n",
       "    }\n",
       "\n",
       "    .dataframe tbody tr th {\n",
       "        vertical-align: top;\n",
       "    }\n",
       "\n",
       "    .dataframe thead th {\n",
       "        text-align: right;\n",
       "    }\n",
       "</style>\n",
       "<table border=\"1\" class=\"dataframe\">\n",
       "  <thead>\n",
       "    <tr style=\"text-align: right;\">\n",
       "      <th></th>\n",
       "      <th>Neighborhood</th>\n",
       "      <th>small</th>\n",
       "      <th>medium</th>\n",
       "      <th>big</th>\n",
       "      <th>large</th>\n",
       "      <th>meanPrice</th>\n",
       "      <th>Postal Code</th>\n",
       "      <th>Latitude</th>\n",
       "      <th>Longitude</th>\n",
       "      <th>SumTop10</th>\n",
       "    </tr>\n",
       "  </thead>\n",
       "  <tbody>\n",
       "    <tr>\n",
       "      <th>15</th>\n",
       "      <td>Ottakring</td>\n",
       "      <td>17.16</td>\n",
       "      <td>13.46</td>\n",
       "      <td>13.27</td>\n",
       "      <td>15.14</td>\n",
       "      <td>14.83</td>\n",
       "      <td>1160</td>\n",
       "      <td>48.209344</td>\n",
       "      <td>16.327269</td>\n",
       "      <td>52</td>\n",
       "    </tr>\n",
       "    <tr>\n",
       "      <th>19</th>\n",
       "      <td>Brigittenau</td>\n",
       "      <td>16.09</td>\n",
       "      <td>13.93</td>\n",
       "      <td>11.26</td>\n",
       "      <td>11.93</td>\n",
       "      <td>13.79</td>\n",
       "      <td>1200</td>\n",
       "      <td>48.233069</td>\n",
       "      <td>16.370942</td>\n",
       "      <td>14</td>\n",
       "    </tr>\n",
       "    <tr>\n",
       "      <th>14</th>\n",
       "      <td>Rudolfsheim</td>\n",
       "      <td>16.81</td>\n",
       "      <td>14.10</td>\n",
       "      <td>12.28</td>\n",
       "      <td>12.49</td>\n",
       "      <td>15.07</td>\n",
       "      <td>1150</td>\n",
       "      <td>48.194142</td>\n",
       "      <td>16.333661</td>\n",
       "      <td>46</td>\n",
       "    </tr>\n",
       "    <tr>\n",
       "      <th>4</th>\n",
       "      <td>Margareten</td>\n",
       "      <td>17.07</td>\n",
       "      <td>14.15</td>\n",
       "      <td>13.52</td>\n",
       "      <td>16.60</td>\n",
       "      <td>15.40</td>\n",
       "      <td>1050</td>\n",
       "      <td>48.190615</td>\n",
       "      <td>16.354170</td>\n",
       "      <td>46</td>\n",
       "    </tr>\n",
       "    <tr>\n",
       "      <th>16</th>\n",
       "      <td>Hernals</td>\n",
       "      <td>14.67</td>\n",
       "      <td>14.18</td>\n",
       "      <td>14.34</td>\n",
       "      <td>15.21</td>\n",
       "      <td>14.38</td>\n",
       "      <td>1170</td>\n",
       "      <td>48.218361</td>\n",
       "      <td>16.332049</td>\n",
       "      <td>55</td>\n",
       "    </tr>\n",
       "    <tr>\n",
       "      <th>17</th>\n",
       "      <td>Waehring</td>\n",
       "      <td>15.75</td>\n",
       "      <td>14.48</td>\n",
       "      <td>16.40</td>\n",
       "      <td>17.22</td>\n",
       "      <td>15.46</td>\n",
       "      <td>1180</td>\n",
       "      <td>48.226844</td>\n",
       "      <td>16.342426</td>\n",
       "      <td>60</td>\n",
       "    </tr>\n",
       "    <tr>\n",
       "      <th>10</th>\n",
       "      <td>Simmering</td>\n",
       "      <td>16.88</td>\n",
       "      <td>14.66</td>\n",
       "      <td>11.27</td>\n",
       "      <td>0.00</td>\n",
       "      <td>16.15</td>\n",
       "      <td>1110</td>\n",
       "      <td>48.175180</td>\n",
       "      <td>16.412319</td>\n",
       "      <td>52</td>\n",
       "    </tr>\n",
       "    <tr>\n",
       "      <th>13</th>\n",
       "      <td>Penzing</td>\n",
       "      <td>18.54</td>\n",
       "      <td>14.67</td>\n",
       "      <td>14.02</td>\n",
       "      <td>12.09</td>\n",
       "      <td>15.04</td>\n",
       "      <td>1140</td>\n",
       "      <td>48.197241</td>\n",
       "      <td>16.285466</td>\n",
       "      <td>45</td>\n",
       "    </tr>\n",
       "    <tr>\n",
       "      <th>9</th>\n",
       "      <td>Favoriten</td>\n",
       "      <td>16.15</td>\n",
       "      <td>14.75</td>\n",
       "      <td>13.95</td>\n",
       "      <td>11.90</td>\n",
       "      <td>15.00</td>\n",
       "      <td>1100</td>\n",
       "      <td>48.178493</td>\n",
       "      <td>16.374804</td>\n",
       "      <td>49</td>\n",
       "    </tr>\n",
       "    <tr>\n",
       "      <th>12</th>\n",
       "      <td>Hietzing</td>\n",
       "      <td>16.28</td>\n",
       "      <td>14.87</td>\n",
       "      <td>14.72</td>\n",
       "      <td>15.53</td>\n",
       "      <td>15.19</td>\n",
       "      <td>1130</td>\n",
       "      <td>48.188226</td>\n",
       "      <td>16.300459</td>\n",
       "      <td>46</td>\n",
       "    </tr>\n",
       "    <tr>\n",
       "      <th>20</th>\n",
       "      <td>Floridsdorf</td>\n",
       "      <td>16.68</td>\n",
       "      <td>14.99</td>\n",
       "      <td>13.89</td>\n",
       "      <td>11.34</td>\n",
       "      <td>15.55</td>\n",
       "      <td>1210</td>\n",
       "      <td>48.257754</td>\n",
       "      <td>16.397286</td>\n",
       "      <td>55</td>\n",
       "    </tr>\n",
       "    <tr>\n",
       "      <th>1</th>\n",
       "      <td>Leopoldstadt</td>\n",
       "      <td>17.55</td>\n",
       "      <td>15.01</td>\n",
       "      <td>14.77</td>\n",
       "      <td>13.36</td>\n",
       "      <td>15.35</td>\n",
       "      <td>1020</td>\n",
       "      <td>48.216516</td>\n",
       "      <td>16.379789</td>\n",
       "      <td>52</td>\n",
       "    </tr>\n",
       "    <tr>\n",
       "      <th>8</th>\n",
       "      <td>Alsergrund</td>\n",
       "      <td>18.66</td>\n",
       "      <td>15.07</td>\n",
       "      <td>15.98</td>\n",
       "      <td>17.39</td>\n",
       "      <td>16.52</td>\n",
       "      <td>1090</td>\n",
       "      <td>48.221133</td>\n",
       "      <td>16.354741</td>\n",
       "      <td>58</td>\n",
       "    </tr>\n",
       "    <tr>\n",
       "      <th>11</th>\n",
       "      <td>Meidling</td>\n",
       "      <td>17.23</td>\n",
       "      <td>15.10</td>\n",
       "      <td>13.80</td>\n",
       "      <td>11.77</td>\n",
       "      <td>16.49</td>\n",
       "      <td>1120</td>\n",
       "      <td>48.183116</td>\n",
       "      <td>16.329163</td>\n",
       "      <td>42</td>\n",
       "    </tr>\n",
       "    <tr>\n",
       "      <th>3</th>\n",
       "      <td>Wieden</td>\n",
       "      <td>18.37</td>\n",
       "      <td>15.11</td>\n",
       "      <td>16.70</td>\n",
       "      <td>16.41</td>\n",
       "      <td>16.22</td>\n",
       "      <td>1040</td>\n",
       "      <td>48.194304</td>\n",
       "      <td>16.369751</td>\n",
       "      <td>53</td>\n",
       "    </tr>\n",
       "    <tr>\n",
       "      <th>7</th>\n",
       "      <td>Josefstadt</td>\n",
       "      <td>18.00</td>\n",
       "      <td>15.11</td>\n",
       "      <td>13.65</td>\n",
       "      <td>14.74</td>\n",
       "      <td>15.38</td>\n",
       "      <td>1080</td>\n",
       "      <td>48.212639</td>\n",
       "      <td>16.346747</td>\n",
       "      <td>53</td>\n",
       "    </tr>\n",
       "    <tr>\n",
       "      <th>22</th>\n",
       "      <td>Liesing</td>\n",
       "      <td>16.48</td>\n",
       "      <td>15.15</td>\n",
       "      <td>15.83</td>\n",
       "      <td>12.59</td>\n",
       "      <td>15.37</td>\n",
       "      <td>1230</td>\n",
       "      <td>48.134861</td>\n",
       "      <td>16.282154</td>\n",
       "      <td>42</td>\n",
       "    </tr>\n",
       "    <tr>\n",
       "      <th>18</th>\n",
       "      <td>Doebling</td>\n",
       "      <td>16.06</td>\n",
       "      <td>15.34</td>\n",
       "      <td>15.76</td>\n",
       "      <td>19.50</td>\n",
       "      <td>16.15</td>\n",
       "      <td>1190</td>\n",
       "      <td>48.246244</td>\n",
       "      <td>16.343022</td>\n",
       "      <td>63</td>\n",
       "    </tr>\n",
       "    <tr>\n",
       "      <th>21</th>\n",
       "      <td>Donaustadt</td>\n",
       "      <td>17.27</td>\n",
       "      <td>15.60</td>\n",
       "      <td>15.99</td>\n",
       "      <td>16.36</td>\n",
       "      <td>16.53</td>\n",
       "      <td>1220</td>\n",
       "      <td>48.241009</td>\n",
       "      <td>16.437782</td>\n",
       "      <td>46</td>\n",
       "    </tr>\n",
       "    <tr>\n",
       "      <th>6</th>\n",
       "      <td>Neubau</td>\n",
       "      <td>16.77</td>\n",
       "      <td>15.81</td>\n",
       "      <td>15.13</td>\n",
       "      <td>15.94</td>\n",
       "      <td>15.95</td>\n",
       "      <td>1070</td>\n",
       "      <td>48.202847</td>\n",
       "      <td>16.347003</td>\n",
       "      <td>51</td>\n",
       "    </tr>\n",
       "    <tr>\n",
       "      <th>5</th>\n",
       "      <td>Mariahilf</td>\n",
       "      <td>18.42</td>\n",
       "      <td>16.04</td>\n",
       "      <td>16.79</td>\n",
       "      <td>15.86</td>\n",
       "      <td>17.00</td>\n",
       "      <td>1060</td>\n",
       "      <td>48.197041</td>\n",
       "      <td>16.350918</td>\n",
       "      <td>49</td>\n",
       "    </tr>\n",
       "    <tr>\n",
       "      <th>2</th>\n",
       "      <td>Landstrasse</td>\n",
       "      <td>18.94</td>\n",
       "      <td>16.65</td>\n",
       "      <td>15.44</td>\n",
       "      <td>17.70</td>\n",
       "      <td>17.71</td>\n",
       "      <td>1030</td>\n",
       "      <td>48.201294</td>\n",
       "      <td>16.388705</td>\n",
       "      <td>53</td>\n",
       "    </tr>\n",
       "    <tr>\n",
       "      <th>0</th>\n",
       "      <td>Innere Stadt</td>\n",
       "      <td>22.97</td>\n",
       "      <td>20.32</td>\n",
       "      <td>18.84</td>\n",
       "      <td>19.68</td>\n",
       "      <td>20.00</td>\n",
       "      <td>1010</td>\n",
       "      <td>48.211794</td>\n",
       "      <td>16.371039</td>\n",
       "      <td>56</td>\n",
       "    </tr>\n",
       "  </tbody>\n",
       "</table>\n",
       "</div>"
      ],
      "text/plain": [
       "    Neighborhood  small  medium    big  large  meanPrice  Postal Code  \\\n",
       "15     Ottakring  17.16   13.46  13.27  15.14      14.83         1160   \n",
       "19   Brigittenau  16.09   13.93  11.26  11.93      13.79         1200   \n",
       "14   Rudolfsheim  16.81   14.10  12.28  12.49      15.07         1150   \n",
       "4     Margareten  17.07   14.15  13.52  16.60      15.40         1050   \n",
       "16       Hernals  14.67   14.18  14.34  15.21      14.38         1170   \n",
       "17      Waehring  15.75   14.48  16.40  17.22      15.46         1180   \n",
       "10     Simmering  16.88   14.66  11.27   0.00      16.15         1110   \n",
       "13       Penzing  18.54   14.67  14.02  12.09      15.04         1140   \n",
       "9      Favoriten  16.15   14.75  13.95  11.90      15.00         1100   \n",
       "12      Hietzing  16.28   14.87  14.72  15.53      15.19         1130   \n",
       "20   Floridsdorf  16.68   14.99  13.89  11.34      15.55         1210   \n",
       "1   Leopoldstadt  17.55   15.01  14.77  13.36      15.35         1020   \n",
       "8     Alsergrund  18.66   15.07  15.98  17.39      16.52         1090   \n",
       "11      Meidling  17.23   15.10  13.80  11.77      16.49         1120   \n",
       "3         Wieden  18.37   15.11  16.70  16.41      16.22         1040   \n",
       "7     Josefstadt  18.00   15.11  13.65  14.74      15.38         1080   \n",
       "22       Liesing  16.48   15.15  15.83  12.59      15.37         1230   \n",
       "18      Doebling  16.06   15.34  15.76  19.50      16.15         1190   \n",
       "21    Donaustadt  17.27   15.60  15.99  16.36      16.53         1220   \n",
       "6         Neubau  16.77   15.81  15.13  15.94      15.95         1070   \n",
       "5      Mariahilf  18.42   16.04  16.79  15.86      17.00         1060   \n",
       "2    Landstrasse  18.94   16.65  15.44  17.70      17.71         1030   \n",
       "0   Innere Stadt  22.97   20.32  18.84  19.68      20.00         1010   \n",
       "\n",
       "     Latitude  Longitude  SumTop10  \n",
       "15  48.209344  16.327269        52  \n",
       "19  48.233069  16.370942        14  \n",
       "14  48.194142  16.333661        46  \n",
       "4   48.190615  16.354170        46  \n",
       "16  48.218361  16.332049        55  \n",
       "17  48.226844  16.342426        60  \n",
       "10  48.175180  16.412319        52  \n",
       "13  48.197241  16.285466        45  \n",
       "9   48.178493  16.374804        49  \n",
       "12  48.188226  16.300459        46  \n",
       "20  48.257754  16.397286        55  \n",
       "1   48.216516  16.379789        52  \n",
       "8   48.221133  16.354741        58  \n",
       "11  48.183116  16.329163        42  \n",
       "3   48.194304  16.369751        53  \n",
       "7   48.212639  16.346747        53  \n",
       "22  48.134861  16.282154        42  \n",
       "18  48.246244  16.343022        63  \n",
       "21  48.241009  16.437782        46  \n",
       "6   48.202847  16.347003        51  \n",
       "5   48.197041  16.350918        49  \n",
       "2   48.201294  16.388705        53  \n",
       "0   48.211794  16.371039        56  "
      ]
     },
     "execution_count": 257,
     "metadata": {},
     "output_type": "execute_result"
    }
   ],
   "source": [
    "# check new dataframe\n",
    "dataset_sorted_medium"
   ]
  },
  {
   "cell_type": "markdown",
   "metadata": {},
   "source": [
    "#### 3.9.1 Check of correlations corresponding to Top 10 Venues"
   ]
  },
  {
   "cell_type": "code",
   "execution_count": 261,
   "metadata": {},
   "outputs": [
    {
     "data": {
      "text/plain": [
       "<AxesSubplot:xlabel='SumTop10', ylabel='medium'>"
      ]
     },
     "execution_count": 261,
     "metadata": {},
     "output_type": "execute_result"
    },
    {
     "data": {
      "image/png": "[encoded data removed]",
      "text/plain": [
       "<Figure size 432x288 with 1 Axes>"
      ]
     },
     "metadata": {
      "needs_background": "light"
     },
     "output_type": "display_data"
    }
   ],
   "source": [
    "sns.boxplot(x=\"SumTop10\", y=\"medium\", data=dataset_sorted_medium)"
   ]
  },
  {
   "cell_type": "code",
   "execution_count": 259,
   "metadata": {},
   "outputs": [
    {
     "data": {
      "text/plain": [
       "(0.0, 20.79020626714066)"
      ]
     },
     "execution_count": 259,
     "metadata": {},
     "output_type": "execute_result"
    },
    {
     "data": {
      "image/png": "[encoded data removed]",
      "text/plain": [
       "<Figure size 432x288 with 1 Axes>"
      ]
     },
     "metadata": {
      "needs_background": "light"
     },
     "output_type": "display_data"
    }
   ],
   "source": [
    "sns.regplot(x=\"SumTop10\", y=\"medium\", data=dataset_sorted_medium)\n",
    "plt.ylim(0,)"
   ]
  },
  {
   "cell_type": "code",
   "execution_count": 260,
   "metadata": {},
   "outputs": [
    {
     "data": {
      "text/plain": [
       "Postal Code   -0.252985\n",
       "Longitude      0.081854\n",
       "small          0.172695\n",
       "Latitude       0.187204\n",
       "medium         0.269063\n",
       "large          0.302358\n",
       "meanPrice      0.405127\n",
       "big            0.503783\n",
       "SumTop10       1.000000\n",
       "Name: SumTop10, dtype: float64"
      ]
     },
     "execution_count": 260,
     "metadata": {},
     "output_type": "execute_result"
    }
   ],
   "source": [
    "dataset_sorted_medium.corr()['SumTop10'].sort_values()"
   ]
  },
  {
   "cell_type": "markdown",
   "metadata": {},
   "source": [
    "### 4. Model Development"
   ]
  },
  {
   "cell_type": "markdown",
   "metadata": {},
   "source": [
    "#### 4.1 Fit a linear regression model to predict the location using list of features"
   ]
  },
  {
   "cell_type": "code",
   "execution_count": 262,
   "metadata": {},
   "outputs": [],
   "source": [
    "features = [\"Longitude\",\"small\",\"Latitude\",\"medium\",\"large\",\"meanPrice\",\"big\"]"
   ]
  },
  {
   "cell_type": "code",
   "execution_count": 263,
   "metadata": {},
   "outputs": [
    {
     "data": {
      "text/plain": [
       "0.4692983119625198"
      ]
     },
     "execution_count": 263,
     "metadata": {},
     "output_type": "execute_result"
    }
   ],
   "source": [
    "X = dataset_sorted_medium[features]\n",
    "Y = dataset_sorted_medium['SumTop10']\n",
    "\n",
    "lm = LinearRegression()\n",
    "lm.fit(X,Y)\n",
    "lm.score(X,Y) # R^2"
   ]
  },
  {
   "cell_type": "code",
   "execution_count": 266,
   "metadata": {},
   "outputs": [],
   "source": [
    "Input=[('Scale', StandardScaler()),('polynomial',PolynomialFeatures(include_bias=False)),('model',LinearRegression())]"
   ]
  },
  {
   "cell_type": "code",
   "execution_count": 267,
   "metadata": {},
   "outputs": [
    {
     "data": {
      "text/plain": [
       "1.0"
      ]
     },
     "execution_count": 267,
     "metadata": {},
     "output_type": "execute_result"
    }
   ],
   "source": [
    "pipe = Pipeline(Input)\n",
    "pipe.fit(X,Y)\n",
    "pipe.score(X,Y)"
   ]
  },
  {
   "cell_type": "markdown",
   "metadata": {},
   "source": [
    "#### 4.2 Model Evaluation and Refinement"
   ]
  },
  {
   "cell_type": "code",
   "execution_count": 269,
   "metadata": {},
   "outputs": [],
   "source": [
    "from sklearn.model_selection import cross_val_score\n",
    "from sklearn.model_selection import train_test_split"
   ]
  },
  {
   "cell_type": "markdown",
   "metadata": {},
   "source": [
    "##### Split data into training and testing sets"
   ]
  },
  {
   "cell_type": "code",
   "execution_count": 270,
   "metadata": {},
   "outputs": [
    {
     "name": "stdout",
     "output_type": "stream",
     "text": [
      "Number of test samples: 5\n",
      "Number of training samples: 18\n"
     ]
    }
   ],
   "source": [
    "# X = dataset_sorted_medium[features]\n",
    "# Y = dataset_sorted_medium['SumTop10']\n",
    "\n",
    "x_train, x_test, y_train, y_test = train_test_split(X, Y, test_size=0.2, random_state=1)\n",
    "\n",
    "print(\"Number of test samples:\", x_test.shape[0])\n",
    "print(\"Number of training samples:\", x_train.shape[0])"
   ]
  },
  {
   "cell_type": "code",
   "execution_count": 271,
   "metadata": {},
   "outputs": [],
   "source": [
    "from sklearn.linear_model import Ridge"
   ]
  },
  {
   "cell_type": "code",
   "execution_count": 272,
   "metadata": {},
   "outputs": [
    {
     "data": {
      "text/plain": [
       "-0.43188838436458354"
      ]
     },
     "execution_count": 272,
     "metadata": {},
     "output_type": "execute_result"
    }
   ],
   "source": [
    "Ridge = Ridge(alpha=0.1)\n",
    "Ridge.fit(x_train,y_train)\n",
    "Ridge.score(x_test,y_test)"
   ]
  },
  {
   "cell_type": "markdown",
   "metadata": {},
   "source": [
    "#### 4.3 Finding the best model"
   ]
  },
  {
   "cell_type": "code",
   "execution_count": 289,
   "metadata": {},
   "outputs": [],
   "source": [
    "# importing additional necessary libraries\n",
    "\n",
    "from sklearn import svm\n",
    "from sklearn.svm import SVR\n",
    "from sklearn.neighbors import KNeighborsRegressor\n",
    "from sklearn.ensemble import RandomForestRegressor\n",
    "from sklearn.linear_model import LogisticRegression\n",
    "from sklearn.metrics import r2_score"
   ]
  },
  {
   "cell_type": "markdown",
   "metadata": {},
   "source": [
    "##### Remove outliers"
   ]
  },
  {
   "cell_type": "code",
   "execution_count": 290,
   "metadata": {},
   "outputs": [],
   "source": [
    "def get_outliers(data, outliers_fraction=0.25):\n",
    "    clf = svm.OneClassSVM(nu=0.95 * outliers_fraction + 0.05, kernel=\"rbf\", gamma=0.1)\n",
    "    clf.fit(data)\n",
    "    result = clf.predict(data)\n",
    "    return result"
   ]
  },
  {
   "cell_type": "code",
   "execution_count": 291,
   "metadata": {},
   "outputs": [],
   "source": [
    "training_dataset = dataset_sorted_medium[get_outliers(dataset_sorted_medium[features], 0.15)==1]"
   ]
  },
  {
   "cell_type": "markdown",
   "metadata": {},
   "source": [
    "#### 4.4 Predicting best model"
   ]
  },
  {
   "cell_type": "code",
   "execution_count": 292,
   "metadata": {},
   "outputs": [
    {
     "name": "stderr",
     "output_type": "stream",
     "text": [
      "C:\\Users\\oxale\\anaconda3\\lib\\site-packages\\sklearn\\linear_model\\_logistic.py:762: ConvergenceWarning: lbfgs failed to converge (status=1):\n",
      "STOP: TOTAL NO. of ITERATIONS REACHED LIMIT.\n",
      "\n",
      "Increase the number of iterations (max_iter) or scale the data as shown in:\n",
      "    https://scikit-learn.org/stable/modules/preprocessing.html\n",
      "Please also refer to the documentation for alternative solver options:\n",
      "    https://scikit-learn.org/stable/modules/linear_model.html#logistic-regression\n",
      "  n_iter_i = _check_optimize_result(\n"
     ]
    },
    {
     "data": {
      "image/png": "[encoded data removed]",
      "text/plain": [
       "<Figure size 720x288 with 1 Axes>"
      ]
     },
     "metadata": {
      "needs_background": "light"
     },
     "output_type": "display_data"
    }
   ],
   "source": [
    "X = training_dataset[features]\n",
    "Y = training_dataset['SumTop10']\n",
    "\n",
    "x_train, x_test, y_train, y_test = train_test_split(X, Y, test_size=0.2, random_state=1)\n",
    "\n",
    "models = [LinearRegression(),\n",
    "          RandomForestRegressor(n_estimators=100, max_features='sqrt'),\n",
    "          KNeighborsRegressor(n_neighbors=6),\n",
    "          SVR(kernel='linear'),\n",
    "          LogisticRegression()]\n",
    "\n",
    "TestModels = pd.DataFrame()\n",
    "tmp = {}\n",
    "\n",
    "for model in models:\n",
    "    # get model name\n",
    "    m = str(model)\n",
    "    tmp['Model'] = m[:m.index('(')]\n",
    "    # fit model on training dataset\n",
    "    model.fit(x_train, y_train)\n",
    "    # predict for test dataset and calculate R^2\n",
    "    tmp['R2'] = r2_score(y_test, model.predict(x_test))\n",
    "    # write obtained data\n",
    "    TestModels = TestModels.append([tmp])\n",
    "\n",
    "TestModels.set_index('Model', inplace=True)\n",
    "\n",
    "# visualize\n",
    "fig, axes = plt.subplots(ncols=1, figsize=(10,4))\n",
    "TestModels.R2.plot(ax=axes, kind='bar', title='R2')\n",
    "plt.show()"
   ]
  },
  {
   "cell_type": "markdown",
   "metadata": {},
   "source": [
    "This outcome is a problem. SVR(Support Vector Regression) suggests to apply a Support Vector Model. But every output is negative. A better dataset is needed."
   ]
  },
  {
   "cell_type": "markdown",
   "metadata": {},
   "source": [
    "### 5. Conclusions"
   ]
  },
  {
   "cell_type": "markdown",
   "metadata": {},
   "source": [
    "#### 5.1 Summary"
   ]
  },
  {
   "cell_type": "markdown",
   "metadata": {},
   "source": [
    "After applying different models with the given datasets a sufficient statement can't be made at this point. Obviously better and bigger datasets are needed like data with tourist-frequency, offices, passers-by and number of rentable objects from each neighborhood. To have at least an idea where a suitable place could be for a coffee house, comparing the amount of top 10 common venues in relation to the mean rent situation in each district might be raw guideline. Refering to figures at 5.2.\n",
    "Since this is just for practice and studies purpose only a cut this point is reasonable. For future and further analysis a new approach is going to be needed."
   ]
  },
  {
   "cell_type": "markdown",
   "metadata": {},
   "source": [
    "#### 5.2 Raw overview"
   ]
  },
  {
   "cell_type": "code",
   "execution_count": 287,
   "metadata": {},
   "outputs": [
    {
     "data": {
      "image/png": "[encoded data removed]",
      "text/plain": [
       "<Figure size 720x720 with 1 Axes>"
      ]
     },
     "metadata": {
      "needs_background": "light"
     },
     "output_type": "display_data"
    },
    {
     "data": {
      "image/png": "[encoded data removed]",
      "text/plain": [
       "<Figure size 720x720 with 1 Axes>"
      ]
     },
     "metadata": {
      "needs_background": "light"
     },
     "output_type": "display_data"
    }
   ],
   "source": [
    "# barchart with top 10 common venues in each neighborhood\n",
    "venues_top10 = dataset_sorted_medium['SumTop10']\n",
    "neighborhood = dataset_sorted_medium['Neighborhood']\n",
    "\n",
    "fig = plt.figure(figsize = (10,10))\n",
    "\n",
    "plt.bar(venues_top10, neighborhood, color='green', width = 0.8)\n",
    "plt.xlabel('Venues')\n",
    "plt.ylabel('Districts')\n",
    "plt.title('Top 10 common venues')\n",
    "\n",
    "# barchart rentprices situation\n",
    "price = dataset_sorted['meanPrice']\n",
    "neighborhood = dataset_sorted['Neighborhood']\n",
    "\n",
    "fig = plt.figure(figsize = (10,10))\n",
    "\n",
    "plt.bar(price, neighborhood, color='blue', width = 0.05)\n",
    "plt.xlabel('Mean Rent price/m² in €')\n",
    "plt.ylabel('Districts')\n",
    "plt.title('Mean Rent Price Situation Vienna')\n",
    "\n",
    "plt.show()"
   ]
  },
  {
   "cell_type": "markdown",
   "metadata": {},
   "source": [
    "### 6. Future Directions"
   ]
  },
  {
   "cell_type": "markdown",
   "metadata": {},
   "source": [
    "Refering to 5.2 given a raw overview it can be assumed that an ideal spot for a new coffee house could be in Floridsdorf. It's within the overall mean rent price and has enough frequented venues. But this needs to be examined in a future exploration."
   ]
  },
  {
   "cell_type": "markdown",
   "metadata": {},
   "source": [
    "<footer>Last updated: 06/07/2021</footer>"
   ]
  }
 ],
 "metadata": {
  "kernelspec": {
   "display_name": "Python 3",
   "language": "python",
   "name": "python3"
  },
  "language_info": {
   "codemirror_mode": {
    "name": "ipython",
    "version": 3
   },
   "file_extension": ".py",
   "mimetype": "text/x-python",
   "name": "python",
   "nbconvert_exporter": "python",
   "pygments_lexer": "ipython3",
   "version": "3.8.5"
  }
 },
 "nbformat": 4,
 "nbformat_minor": 4
}
